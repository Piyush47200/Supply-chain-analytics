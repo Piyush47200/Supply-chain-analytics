{
  "nbformat": 4,
  "nbformat_minor": 0,
  "metadata": {
    "colab": {
      "provenance": [],
      "authorship_tag": "ABX9TyOkxWqksJyHN87xy48XFcsN",
      "include_colab_link": true
    },
    "kernelspec": {
      "name": "python3",
      "display_name": "Python 3"
    },
    "language_info": {
      "name": "python"
    }
  },
  "cells": [
    {
      "cell_type": "markdown",
      "metadata": {
        "id": "view-in-github",
        "colab_type": "text"
      },
      "source": [
        "<a href=\"https://colab.research.google.com/github/Piyush47200/Supply-chain-analytics/blob/main/Supplier_chain_network_optimization.ipynb\" target=\"_parent\"><img src=\"https://colab.research.google.com/assets/colab-badge.svg\" alt=\"Open In Colab\"/></a>"
      ]
    },
    {
      "cell_type": "markdown",
      "source": [
        "Limitation: Only 1 port."
      ],
      "metadata": {
        "id": "8hwgvFHlywqL"
      }
    },
    {
      "cell_type": "markdown",
      "source": [
        "Install libraries"
      ],
      "metadata": {
        "id": "IrfDGmcxw0MI"
      }
    },
    {
      "cell_type": "code",
      "source": [
        "!pip install geopy\n",
        "!pip install openrouteservice\n",
        "!pip install gurobipy"
      ],
      "metadata": {
        "colab": {
          "base_uri": "https://localhost:8080/"
        },
        "id": "lRuvvLqROOoN",
        "outputId": "5cad9e90-7560-45e1-be6d-a352e7ed0a94",
        "collapsed": true
      },
      "execution_count": 577,
      "outputs": [
        {
          "output_type": "stream",
          "name": "stdout",
          "text": [
            "Requirement already satisfied: geopy in /usr/local/lib/python3.10/dist-packages (2.4.1)\n",
            "Requirement already satisfied: geographiclib<3,>=1.52 in /usr/local/lib/python3.10/dist-packages (from geopy) (2.0)\n",
            "Requirement already satisfied: openrouteservice in /usr/local/lib/python3.10/dist-packages (2.3.3)\n",
            "Requirement already satisfied: requests>=2.0 in /usr/local/lib/python3.10/dist-packages (from openrouteservice) (2.32.3)\n",
            "Requirement already satisfied: charset-normalizer<4,>=2 in /usr/local/lib/python3.10/dist-packages (from requests>=2.0->openrouteservice) (3.4.0)\n",
            "Requirement already satisfied: idna<4,>=2.5 in /usr/local/lib/python3.10/dist-packages (from requests>=2.0->openrouteservice) (3.10)\n",
            "Requirement already satisfied: urllib3<3,>=1.21.1 in /usr/local/lib/python3.10/dist-packages (from requests>=2.0->openrouteservice) (2.2.3)\n",
            "Requirement already satisfied: certifi>=2017.4.17 in /usr/local/lib/python3.10/dist-packages (from requests>=2.0->openrouteservice) (2024.8.30)\n",
            "Requirement already satisfied: gurobipy in /usr/local/lib/python3.10/dist-packages (11.0.3)\n"
          ]
        }
      ]
    },
    {
      "cell_type": "markdown",
      "source": [
        "Import libraries"
      ],
      "metadata": {
        "id": "Dx0iv8aCpefd"
      }
    },
    {
      "cell_type": "code",
      "execution_count": 578,
      "metadata": {
        "id": "lhcZ9wnzjiDX"
      },
      "outputs": [],
      "source": [
        "from geopy.geocoders import Nominatim\n",
        "import pandas as pd\n",
        "import time\n",
        "import openrouteservice\n",
        "import math"
      ]
    },
    {
      "cell_type": "markdown",
      "source": [
        "Load port, DC and customer sheets."
      ],
      "metadata": {
        "id": "5d_7UQzWxAIF"
      }
    },
    {
      "cell_type": "code",
      "source": [
        "df_port_city=pd.read_excel('Port.xlsx')\n",
        "df_DC_city=pd.read_excel('DC.xlsx')\n",
        "df_customer_city=pd.read_excel('Customer.xlsx')"
      ],
      "metadata": {
        "id": "m1FOT2Jew8Cf"
      },
      "execution_count": 579,
      "outputs": []
    },
    {
      "cell_type": "markdown",
      "source": [
        "Defining dataframes for port, DC and customer to hold coordinates data."
      ],
      "metadata": {
        "id": "gaVQZS-4MEuy"
      }
    },
    {
      "cell_type": "code",
      "source": [
        "df_coordinate_port_city=pd.DataFrame(columns=['City','Latitude','Longitude'])\n",
        "df_coordinate_DC_city=pd.DataFrame(columns=['City','Latitude','Longitude'])\n",
        "df_coordinate_customer_city = pd.DataFrame(columns=['City', 'Latitude', 'Longitude', 'Demand'])"
      ],
      "metadata": {
        "id": "sT91Rv3fNjZb"
      },
      "execution_count": 580,
      "outputs": []
    },
    {
      "cell_type": "markdown",
      "source": [
        "Finding coordinates for ports"
      ],
      "metadata": {
        "id": "Kf1KvSjyNNGk"
      }
    },
    {
      "cell_type": "code",
      "source": [
        "geolocator = Nominatim(user_agent=\"your_email_or_app_name\")\n",
        "for i in range(0, len(df_port_city)):\n",
        "  location = geolocator.geocode(df_port_city['City'].iloc[i])\n",
        "  if location:\n",
        "    df_coordinate_port_city.loc[i] = [df_port_city['City'].iloc[i], location.latitude, location.longitude]\n",
        "  else:\n",
        "    df_coordinate_port_city.loc[i] = [df_port_city['City'].iloc[i], None, None]"
      ],
      "metadata": {
        "id": "CxVFZGZ_NA8j"
      },
      "execution_count": 581,
      "outputs": []
    },
    {
      "cell_type": "markdown",
      "source": [
        "Finding coordinates for DC"
      ],
      "metadata": {
        "id": "ZLj_mtuqMmiN"
      }
    },
    {
      "cell_type": "code",
      "source": [
        "import pandas as pd\n",
        "from geopy.geocoders import Nominatim\n",
        "\n",
        "# Assuming df_coordinate_DC_city was initialized as:\n",
        "# df_coordinate_DC_city = pd.DataFrame(columns=['City', 'Latitude', 'Longitude'])\n",
        "\n",
        "# Modify the code as follows:\n",
        "# Define columns for df_coordinate_DC_city if it doesn't exist\n",
        "if df_coordinate_DC_city.empty:\n",
        "  df_coordinate_DC_city = pd.DataFrame(columns=['City', 'Latitude', 'Longitude', 'Fixed Cost'])\n",
        "\n",
        "for i in range(0, len(df_DC_city)):\n",
        "  location = geolocator.geocode(df_DC_city['City'].iloc[i])\n",
        "  if location:\n",
        "    # Assign values to the row, including the 'Fixed Cost' column\n",
        "    df_coordinate_DC_city.loc[i] = [df_DC_city['City'].iloc[i], location.latitude, location.longitude, df_DC_city['Fixed Cost'].iloc[i]]\n",
        "  else:\n",
        "    # Assign values to the row, including the 'Fixed Cost' column and None for coordinates\n",
        "    df_coordinate_DC_city.loc[i] = [df_DC_city['City'].iloc[i], None, None, df_DC_city['Fixed Cost'].iloc[i]]"
      ],
      "metadata": {
        "id": "CvIkQXG9MZv6"
      },
      "execution_count": 582,
      "outputs": []
    },
    {
      "cell_type": "markdown",
      "source": [
        "Finding coordinates for customer"
      ],
      "metadata": {
        "id": "-9xCOooVMUzJ"
      }
    },
    {
      "cell_type": "code",
      "source": [
        "geolocator = Nominatim(user_agent=\"your_email_or_app_name\")\n",
        "# Increased timeout to 10 seconds\n",
        "for i in range(0, len(df_customer_city)):\n",
        "  try:\n",
        "    location = geolocator.geocode(df_customer_city['City'].iloc[i], timeout=10)\n",
        "    if location:\n",
        "      df_coordinate_customer_city.loc[i] = [df_customer_city['City'].iloc[i], location.latitude, location.longitude,df_customer_city['Demand'].iloc[i]]\n",
        "    else:\n",
        "      df_coordinate_customer_city.loc[i] = [df_customer_city['City'].iloc[i], None, None,df_customer_city['Demand'].iloc[i]]\n",
        "    #time.sleep(2) # Wait 2 seconds between requests to avoid rate limiting\n",
        "  except GeocoderTimedOut:\n",
        "    print(\"Geocoding timed out for city:\", df_customer_city['City'].iloc[i])\n",
        "    df_coordinate_customer_city.loc[i] = [df_customer_city['City'].iloc[i], None, None,df_customer_city['Demand'].iloc[i]]\n",
        "  except GeocoderUnavailable:\n",
        "    print(\"Geocoder service unavailable for city:\", df_customer_city['City'].iloc[i])\n",
        "    df_coordinate_customer_city.loc[i] = [df_customer_city['City'].iloc[i], None, None,df_customer_city['Demand'].iloc[i]]\n",
        "  except Exception as e:\n",
        "    print(\"Error geocoding city:\", df_customer_city['City'].iloc[i], \"-\", e)\n",
        "    df_coordinate_customer_city.loc[i] = [df_customer_city['City'].iloc[i], None, None,df_customer_city['Demand'].iloc[i]]"
      ],
      "metadata": {
        "collapsed": true,
        "id": "k6ViT35yqc_0"
      },
      "execution_count": 583,
      "outputs": []
    },
    {
      "cell_type": "markdown",
      "source": [
        "Exporting coordintates of customers to excel."
      ],
      "metadata": {
        "id": "oEWuJvT2xhI2"
      }
    },
    {
      "cell_type": "code",
      "source": [
        "df_coordinate_customer_city.to_excel('coordinate_customer_city.xlsx', index=False)"
      ],
      "metadata": {
        "id": "8fwd2YBctLRU"
      },
      "execution_count": 584,
      "outputs": []
    },
    {
      "cell_type": "code",
      "source": [
        "print(df_coordinate_customer_city)"
      ],
      "metadata": {
        "id": "r8Ro2NBRy6n7",
        "colab": {
          "base_uri": "https://localhost:8080/"
        },
        "outputId": "bfe772fe-1558-4774-f162-6238c5c9cd0f"
      },
      "execution_count": 585,
      "outputs": [
        {
          "output_type": "stream",
          "name": "stdout",
          "text": [
            "          City   Latitude  Longitude  Demand\n",
            "0    Bengaluru  12.976794  77.590082    3000\n",
            "1      Madurai   9.926115  78.114098    3200\n",
            "2        Kochi   9.967428  76.245444    3300\n",
            "3      Chennai  13.083694  80.270186    3400\n",
            "4       Mysuru  12.305183  76.655361    3500\n",
            "5       Meerut  28.996330  77.706192    3600\n",
            "6      Aligarh  27.876107  78.135815    3700\n",
            "7         Agra  27.175255  78.009816    3800\n",
            "8   Chandigarh  30.729844  76.784146    3900\n",
            "9      Bhiwani  28.793170  76.139128    4000\n",
            "10      Jaipur  26.915458  75.818982    4100\n",
            "11      Kanpur  26.460914  80.321759    4200\n"
          ]
        }
      ]
    },
    {
      "cell_type": "code",
      "source": [
        "print(df_coordinate_port_city)"
      ],
      "metadata": {
        "id": "HPliCJuDznLc",
        "colab": {
          "base_uri": "https://localhost:8080/"
        },
        "outputId": "28a60498-e95e-4417-8a40-5fb10e79ceb2"
      },
      "execution_count": 586,
      "outputs": [
        {
          "output_type": "stream",
          "name": "stdout",
          "text": [
            "          City   Latitude  Longitude\n",
            "0  NHAVA SHEVA  18.945031  72.949423\n"
          ]
        }
      ]
    },
    {
      "cell_type": "code",
      "source": [
        "print(df_coordinate_DC_city)"
      ],
      "metadata": {
        "id": "LAi5k0CU2NrR",
        "colab": {
          "base_uri": "https://localhost:8080/"
        },
        "outputId": "7ccc4153-b1ac-4541-c87c-db61c3ee2d56"
      },
      "execution_count": 587,
      "outputs": [
        {
          "output_type": "stream",
          "name": "stdout",
          "text": [
            "         City   Latitude  Longitude  Fixed Cost\n",
            "0   New Delhi  28.613895  77.209006       10000\n",
            "1  Coimbatore  11.001812  76.962842       20000\n",
            "2     Kolkata  22.572646  88.363895     2000000\n",
            "3      Mumbai  19.054999  72.869203     2000000\n"
          ]
        }
      ]
    },
    {
      "cell_type": "markdown",
      "source": [
        "Defining two new dataframes for distance calculations"
      ],
      "metadata": {
        "id": "S9ipchI6pwn-"
      }
    },
    {
      "cell_type": "code",
      "source": [
        "df_distance_port_DC=pd.DataFrame(columns=['Source','Destination','Distance'])\n",
        "df_distance_DC_customer=pd.DataFrame(columns=['Source','Destination','Distance'])"
      ],
      "metadata": {
        "id": "P1M9KvlvQNyY"
      },
      "execution_count": 588,
      "outputs": []
    },
    {
      "cell_type": "markdown",
      "source": [
        "Defining a function which will calculate the distance"
      ],
      "metadata": {
        "id": "EzqSaaC3p1pL"
      }
    },
    {
      "cell_type": "code",
      "source": [
        "def distance(lat1, lon1, lat2, lon2):\n",
        "  client = openrouteservice.Client(key='5b3ce3597851110001cf62489d683e3d831942f3adab13e6a2e5a7dc')\n",
        "\n",
        "# Coordinates of New Delhi and Kolkata (longitude, latitude)\n",
        "  source = (lon1, lat1)\n",
        "  destination = (lon2, lat2)\n",
        "  routes = client.directions(coordinates=[source, destination],profile='driving-hgv', format='geojson')\n",
        "\n",
        "  distance_meters = routes['features'][0]['properties']['segments'][0]['distance']\n",
        "  distance_km = distance_meters / 1000\n",
        "  #print(f\"Road distance between New Delhi and Kolkata is {distance_km:.2f} km\")\n",
        "  return distance_km"
      ],
      "metadata": {
        "id": "A3gBOvAKadR8"
      },
      "execution_count": 589,
      "outputs": []
    },
    {
      "cell_type": "markdown",
      "source": [
        "Estimating distance for port to DC"
      ],
      "metadata": {
        "id": "tJVO0XxNp677"
      }
    },
    {
      "cell_type": "code",
      "source": [
        "k=0\n",
        "for j in range(0,len(df_coordinate_port_city)):\n",
        "  for i in range(0,len(df_coordinate_DC_city)):\n",
        "    dist=distance(df_coordinate_port_city['Latitude'].iloc[j], df_coordinate_port_city['Longitude'].iloc[j], df_coordinate_DC_city['Latitude'].iloc[i], df_coordinate_DC_city['Longitude'].iloc[i])\n",
        "    df_distance_port_DC.loc[k]=[df_coordinate_port_city['City'].iloc[j],df_coordinate_DC_city['City'].iloc[i],dist]\n",
        "    k=k+1\n"
      ],
      "metadata": {
        "id": "nDgfhRx_QNwY"
      },
      "execution_count": 590,
      "outputs": []
    },
    {
      "cell_type": "code",
      "source": [
        "print(df_distance_port_DC)"
      ],
      "metadata": {
        "colab": {
          "base_uri": "https://localhost:8080/"
        },
        "id": "o4qQNIisPdjV",
        "outputId": "3c1caacb-cdb9-4902-c438-255511f97908"
      },
      "execution_count": 591,
      "outputs": [
        {
          "output_type": "stream",
          "name": "stdout",
          "text": [
            "        Source Destination   Distance\n",
            "0  NHAVA SHEVA   New Delhi  1482.7279\n",
            "1  NHAVA SHEVA  Coimbatore  1324.2070\n",
            "2  NHAVA SHEVA     Kolkata  1932.8627\n",
            "3  NHAVA SHEVA      Mumbai    47.8468\n"
          ]
        }
      ]
    },
    {
      "cell_type": "markdown",
      "source": [
        "Estimating distance for DC to customer"
      ],
      "metadata": {
        "id": "UW1o0dTUp_HX"
      }
    },
    {
      "cell_type": "code",
      "source": [
        "k=0\n",
        "for j in range(0,len(df_coordinate_DC_city)):\n",
        "  for i in range(0,len(df_coordinate_customer_city)):\n",
        "    dist=distance(df_coordinate_DC_city['Latitude'].iloc[j], df_coordinate_DC_city['Longitude'].iloc[j], df_coordinate_customer_city['Latitude'].iloc[i], df_coordinate_customer_city['Longitude'].iloc[i])\n",
        "    df_distance_DC_customer.loc[k]=[df_coordinate_DC_city['City'].iloc[j],df_coordinate_customer_city['City'].iloc[i],dist]\n",
        "    k=k+1"
      ],
      "metadata": {
        "id": "-lkJZb6pXlF9",
        "colab": {
          "base_uri": "https://localhost:8080/"
        },
        "outputId": "8f8d6c0f-cb50-4be3-a790-e6786f31051c",
        "collapsed": true
      },
      "execution_count": 592,
      "outputs": [
        {
          "output_type": "stream",
          "name": "stderr",
          "text": [
            "/usr/local/lib/python3.10/dist-packages/openrouteservice/client.py:211: UserWarning: Rate limit exceeded. Retrying for the 1st time.\n",
            "  warnings.warn('Rate limit exceeded. Retrying for the {0}{1} time.'.format(retry_counter + 1,\n",
            "/usr/local/lib/python3.10/dist-packages/openrouteservice/client.py:211: UserWarning: Rate limit exceeded. Retrying for the 2nd time.\n",
            "  warnings.warn('Rate limit exceeded. Retrying for the {0}{1} time.'.format(retry_counter + 1,\n",
            "/usr/local/lib/python3.10/dist-packages/openrouteservice/client.py:211: UserWarning: Rate limit exceeded. Retrying for the 3rd time.\n",
            "  warnings.warn('Rate limit exceeded. Retrying for the {0}{1} time.'.format(retry_counter + 1,\n",
            "/usr/local/lib/python3.10/dist-packages/openrouteservice/client.py:211: UserWarning: Rate limit exceeded. Retrying for the 4th time.\n",
            "  warnings.warn('Rate limit exceeded. Retrying for the {0}{1} time.'.format(retry_counter + 1,\n",
            "/usr/local/lib/python3.10/dist-packages/openrouteservice/client.py:211: UserWarning: Rate limit exceeded. Retrying for the 5th time.\n",
            "  warnings.warn('Rate limit exceeded. Retrying for the {0}{1} time.'.format(retry_counter + 1,\n",
            "/usr/local/lib/python3.10/dist-packages/openrouteservice/client.py:211: UserWarning: Rate limit exceeded. Retrying for the 6th time.\n",
            "  warnings.warn('Rate limit exceeded. Retrying for the {0}{1} time.'.format(retry_counter + 1,\n",
            "/usr/local/lib/python3.10/dist-packages/openrouteservice/client.py:211: UserWarning: Rate limit exceeded. Retrying for the 7th time.\n",
            "  warnings.warn('Rate limit exceeded. Retrying for the {0}{1} time.'.format(retry_counter + 1,\n"
          ]
        }
      ]
    },
    {
      "cell_type": "code",
      "source": [
        "print(df_distance_DC_customer)"
      ],
      "metadata": {
        "colab": {
          "base_uri": "https://localhost:8080/"
        },
        "id": "Y1TbHDsaXlCF",
        "outputId": "d946bcec-0c92-47d9-d7c6-c6b4bd145550"
      },
      "execution_count": 593,
      "outputs": [
        {
          "output_type": "stream",
          "name": "stdout",
          "text": [
            "        Source Destination   Distance\n",
            "0    New Delhi   Bengaluru  2110.0153\n",
            "1    New Delhi     Madurai  2542.9761\n",
            "2    New Delhi       Kochi  2650.2621\n",
            "3    New Delhi     Chennai  2173.4354\n",
            "4    New Delhi      Mysuru  2245.2512\n",
            "5    New Delhi      Meerut    83.1616\n",
            "6    New Delhi     Aligarh   157.6321\n",
            "7    New Delhi        Agra   200.9726\n",
            "8    New Delhi  Chandigarh   258.5782\n",
            "9    New Delhi     Bhiwani   125.2304\n",
            "10   New Delhi      Jaipur   272.6346\n",
            "11   New Delhi      Kanpur   450.0073\n",
            "12  Coimbatore   Bengaluru   338.9688\n",
            "13  Coimbatore     Madurai   228.0159\n",
            "14  Coimbatore       Kochi   197.8971\n",
            "15  Coimbatore     Chennai   513.7791\n",
            "16  Coimbatore      Mysuru   208.4256\n",
            "17  Coimbatore      Meerut  2500.2858\n",
            "18  Coimbatore     Aligarh  2355.9328\n",
            "19  Coimbatore        Agra  2264.1069\n",
            "20  Coimbatore  Chandigarh  2772.9097\n",
            "21  Coimbatore     Bhiwani  2508.8106\n",
            "22  Coimbatore      Jaipur  2259.6561\n",
            "23  Coimbatore      Kanpur  2143.8341\n",
            "24     Kolkata   Bengaluru  1887.1274\n",
            "25     Kolkata     Madurai  2109.7630\n",
            "26     Kolkata       Kochi  2297.9740\n",
            "27     Kolkata     Chennai  1663.9556\n",
            "28     Kolkata      Mysuru  2090.6890\n",
            "29     Kolkata      Meerut  1461.6813\n",
            "30     Kolkata     Aligarh  1324.7031\n",
            "31     Kolkata        Agra  1302.6392\n",
            "32     Kolkata  Chandigarh  1727.5482\n",
            "33     Kolkata     Bhiwani  1599.7849\n",
            "34     Kolkata      Jaipur  1535.1300\n",
            "35     Kolkata      Kanpur  1028.6980\n",
            "36      Mumbai   Bengaluru   994.2571\n",
            "37      Mumbai     Madurai  1420.8811\n",
            "38      Mumbai       Kochi  1355.3947\n",
            "39      Mumbai     Chennai  1251.9735\n",
            "40      Mumbai      Mysuru  1050.9386\n",
            "41      Mumbai      Meerut  1542.7494\n",
            "42      Mumbai     Aligarh  1491.6061\n",
            "43      Mumbai        Agra  1401.5558\n",
            "44      Mumbai  Chandigarh  1679.9323\n",
            "45      Mumbai     Bhiwani  1415.8332\n",
            "46      Mumbai      Jaipur  1166.6787\n",
            "47      Mumbai      Kanpur  1335.2829\n"
          ]
        }
      ]
    },
    {
      "source": [
        "import gurobipy as gp\n",
        "from gurobipy import GRB\n",
        "model = gp.Model(\"MyModel\")"
      ],
      "cell_type": "code",
      "metadata": {
        "id": "AZrZ7A5xhOgG"
      },
      "execution_count": 594,
      "outputs": []
    },
    {
      "cell_type": "code",
      "source": [
        "# Create an environment with your WLS license\n",
        "params = {\n",
        "\"WLSACCESSID\": '803f8182-ebee-4591-8370-b64a82f775ea',\n",
        "\"WLSSECRET\": '7696ca12-c44b-46e1-9875-a948ff7c3fdf',\n",
        "\"LICENSEID\": 2574149,\n",
        "}\n",
        "env = gp.Env(params=params)\n",
        "model = gp.Model(env=env)"
      ],
      "metadata": {
        "colab": {
          "base_uri": "https://localhost:8080/"
        },
        "collapsed": true,
        "id": "o83Xeg-eGxNz",
        "outputId": "91529185-6ded-4bde-a162-085c4b52e2b2"
      },
      "execution_count": 595,
      "outputs": [
        {
          "output_type": "stream",
          "name": "stdout",
          "text": [
            "Set parameter WLSAccessID\n",
            "Set parameter WLSSecret\n",
            "Set parameter LicenseID to value 2574149\n",
            "Academic license 2574149 - for non-commercial use only - registered to pi___@gmail.com\n"
          ]
        }
      ]
    },
    {
      "cell_type": "markdown",
      "source": [
        "Defining known variables"
      ],
      "metadata": {
        "id": "bFyZ6v8fDeBq"
      }
    },
    {
      "cell_type": "code",
      "source": [
        "c = 0.1\n",
        "r = 0\n",
        "for i in range(0, len(df_customer_city)):\n",
        "  r = r + df_customer_city['Demand'][i]"
      ],
      "metadata": {
        "id": "XkDlRX1slhun",
        "collapsed": true
      },
      "execution_count": 596,
      "outputs": []
    },
    {
      "cell_type": "markdown",
      "source": [
        "Defining unknown variables"
      ],
      "metadata": {
        "id": "1E4HD3irDhEP"
      }
    },
    {
      "cell_type": "code",
      "source": [
        "x_var = {}\n",
        "y_var = {}\n",
        "z_var = {}"
      ],
      "metadata": {
        "id": "WV6GmeSFqMde"
      },
      "execution_count": 597,
      "outputs": []
    },
    {
      "cell_type": "code",
      "source": [
        "z = 0\n",
        "for i in range(0, len(df_DC_city)):\n",
        "  z_var[f\"z[{i}]\"] = model.addVar(vtype=GRB.BINARY, name=f\"z[{i}]\")\n",
        "  z = z + z_var[f\"z[{i}]\"]"
      ],
      "metadata": {
        "id": "8NB-2ZNMjQcT"
      },
      "execution_count": 598,
      "outputs": []
    },
    {
      "cell_type": "code",
      "source": [
        "x = 0\n",
        "for j in range(0, len(df_DC_city)):\n",
        "  for i in range(0, len(df_port_city)):\n",
        "    x_var[f\"x[{i+j}]\"] = model.addVar(vtype=GRB.INTEGER, lb=0, name=f\"x[{i+j}]\")\n",
        "    x = x + x_var[f\"x[{i+j}]\"]*z_var[f\"z[{j}]\"]"
      ],
      "metadata": {
        "collapsed": true,
        "id": "2ek-aRvdg_Di"
      },
      "execution_count": 599,
      "outputs": []
    },
    {
      "cell_type": "code",
      "source": [
        "y = 0\n",
        "for j in range(0, len(df_DC_city)):\n",
        "  for i in range(0, len(df_DC_city)*len(df_customer_city)):\n",
        "    y_var[f\"y[{i}]\"] = model.addVar(vtype=GRB.INTEGER, lb=0, name=f\"y[{i}]\")\n",
        "    y = y + y_var[f\"y[{i}]\"]*z_var[f\"z[{j}]\"]"
      ],
      "metadata": {
        "id": "sHGRfLAVilQ0"
      },
      "execution_count": 600,
      "outputs": []
    },
    {
      "cell_type": "markdown",
      "source": [
        "Constraints"
      ],
      "metadata": {
        "id": "sfkn4aDmDpLq"
      }
    },
    {
      "cell_type": "markdown",
      "source": [
        "Demand of each customer is exactly met from DCs."
      ],
      "metadata": {
        "id": "qFNlu4v0x-Q4"
      }
    },
    {
      "cell_type": "code",
      "source": [
        "for j in range(0, len(df_customer_city)):\n",
        "  a = 0\n",
        "  for i in range(0, len(df_DC_city)):\n",
        "    a = a + y_var[f\"y[{j+len(df_customer_city)*i}]\"]\n",
        "  model.addConstr(a == df_customer_city['Demand'][j])"
      ],
      "metadata": {
        "id": "TrX-_CGWDQIm"
      },
      "execution_count": 601,
      "outputs": []
    },
    {
      "cell_type": "markdown",
      "source": [
        "1. Outgoing from ports = total demand\n",
        "2. Outgoing from DC = total demand\n",
        "3. atleast one DC is opened"
      ],
      "metadata": {
        "id": "IJNqlBEiyO7_"
      }
    },
    {
      "cell_type": "code",
      "source": [
        "model.addConstr(x == r, \"Demand_x\")\n",
        "model.addConstr(y == r, \"Demand_y\")\n",
        "model.addConstr(z >= 1, \"Z_non_zero\")"
      ],
      "metadata": {
        "id": "uaDX047totth",
        "colab": {
          "base_uri": "https://localhost:8080/"
        },
        "outputId": "ca4efce4-2baa-42ef-8e18-dc19e7fda9fa"
      },
      "execution_count": 602,
      "outputs": [
        {
          "output_type": "execute_result",
          "data": {
            "text/plain": [
              "<gurobi.Constr *Awaiting Model Update*>"
            ]
          },
          "metadata": {},
          "execution_count": 602
        }
      ]
    },
    {
      "cell_type": "markdown",
      "source": [
        "Total incoming at a DC = Total outgoing from a DC"
      ],
      "metadata": {
        "id": "MqVkmsLVyfLa"
      }
    },
    {
      "cell_type": "code",
      "source": [
        "incoming = 0\n",
        "outgoing = 0\n",
        "for i in range(0, len(df_DC_city)):\n",
        "  for j in range(0, len(df_port_city)):\n",
        "    incoming = incoming + x_var[f\"x[{i+len(df_DC_city)*j}]\"]\n",
        "  for k in range(0, len(df_customer_city)):\n",
        "    outgoing = outgoing + y_var[f\"y[{k+len(df_customer_city)*i}]\"]\n",
        "  model.addConstr(incoming == outgoing)"
      ],
      "metadata": {
        "id": "Q3DCtlmdc7KO"
      },
      "execution_count": 603,
      "outputs": []
    },
    {
      "cell_type": "markdown",
      "source": [],
      "metadata": {
        "id": "osktIziWeMs9"
      }
    },
    {
      "cell_type": "markdown",
      "source": [
        "Pre-work for objective function"
      ],
      "metadata": {
        "id": "lNCgROfXDwhq"
      }
    },
    {
      "cell_type": "code",
      "source": [
        "p = 0\n",
        "for i in range(0, len(df_DC_city)):\n",
        "  for j in range(0, len(df_port_city)):\n",
        "    p = p + df_distance_port_DC['Distance'][i+len(df_DC_city)*j]*x_var[f\"x[{i+len(df_DC_city)*j}]\"]*z_var[f\"z[{i}]\"]\n",
        "p = p*c #This multiplication is fine as X is the linear expression before z is applied"
      ],
      "metadata": {
        "id": "dQbgiXCQotea"
      },
      "execution_count": 604,
      "outputs": []
    },
    {
      "cell_type": "code",
      "source": [
        "q = 0\n",
        "for i in range(0, len(df_DC_city)):\n",
        "  for j in range(0, len(df_customer_city)):\n",
        "    q = q + df_distance_DC_customer['Distance'][len(df_customer_city)*i+j]*y_var[f\"y[{len(df_customer_city)*i+j}]\"]*z_var[f\"z[{i}]\"]\n",
        "q = q*c"
      ],
      "metadata": {
        "id": "0c1cGjSR_85o"
      },
      "execution_count": 605,
      "outputs": []
    },
    {
      "cell_type": "code",
      "source": [
        "s = 0\n",
        "for i in range(0, len(df_DC_city)):\n",
        "  s = s + df_DC_city['Fixed Cost'][i]*z_var[f\"z[{i}]\"]"
      ],
      "metadata": {
        "id": "rVruN-FwAAsp"
      },
      "execution_count": 606,
      "outputs": []
    },
    {
      "cell_type": "markdown",
      "source": [
        "Objective function"
      ],
      "metadata": {
        "id": "mhAFfulcD0WP"
      }
    },
    {
      "cell_type": "code",
      "source": [
        "objective =  p + q + s"
      ],
      "metadata": {
        "id": "CdpgADY_AzHR"
      },
      "execution_count": 607,
      "outputs": []
    },
    {
      "cell_type": "code",
      "source": [
        "model.setObjective(objective, GRB.MINIMIZE)"
      ],
      "metadata": {
        "id": "kAy8kWQz6iCq"
      },
      "execution_count": 608,
      "outputs": []
    },
    {
      "cell_type": "code",
      "source": [
        "model.optimize()"
      ],
      "metadata": {
        "colab": {
          "base_uri": "https://localhost:8080/"
        },
        "id": "zbGRsp4-Vtif",
        "outputId": "a5fe9950-baba-43ae-cfe1-8c361c4b6208",
        "collapsed": true
      },
      "execution_count": 609,
      "outputs": [
        {
          "output_type": "stream",
          "name": "stdout",
          "text": [
            "Gurobi Optimizer version 11.0.3 build v11.0.3rc0 (linux64 - \"Ubuntu 22.04.3 LTS\")\n",
            "\n",
            "CPU model: Intel(R) Xeon(R) CPU @ 2.20GHz, instruction set [SSE2|AVX|AVX2]\n",
            "Thread count: 1 physical cores, 2 logical processors, using up to 2 threads\n",
            "\n",
            "Academic license 2574149 - for non-commercial use only - registered to pi___@gmail.com\n",
            "Optimize a model with 17 rows, 200 columns and 182 nonzeros\n",
            "Model fingerprint: 0x24540545\n",
            "Model has 52 quadratic objective terms\n",
            "Model has 2 quadratic constraints\n",
            "Variable types: 0 continuous, 200 integer (4 binary)\n",
            "Coefficient statistics:\n",
            "  Matrix range     [1e+00, 1e+00]\n",
            "  QMatrix range    [1e+00, 1e+00]\n",
            "  Objective range  [1e+04, 2e+06]\n",
            "  QObjective range [1e+01, 6e+02]\n",
            "  Bounds range     [1e+00, 1e+00]\n",
            "  RHS range        [1e+00, 4e+03]\n",
            "  QRHS range       [4e+04, 4e+04]\n",
            "Presolve time: 0.00s\n",
            "Presolved: 483 rows, 896 columns, 1451 nonzeros\n",
            "Presolved model has 464 SOS constraint(s)\n",
            "Variable types: 0 continuous, 896 integer (236 binary)\n",
            "Found heuristic solution: objective 9353494.8230\n",
            "\n",
            "Root relaxation: objective 4.349306e+06, 31 iterations, 0.00 seconds (0.00 work units)\n",
            "\n",
            "    Nodes    |    Current Node    |     Objective Bounds      |     Work\n",
            " Expl Unexpl |  Obj  Depth IntInf | Incumbent    BestBd   Gap | It/Node Time\n",
            "\n",
            "     0     0 4349305.72    0    2 9353494.82 4349305.72  53.5%     -    0s\n",
            "*    0     0               0    7353494.8230 7353494.82  0.00%     -    0s\n",
            "\n",
            "Cutting planes:\n",
            "  Gomory: 1\n",
            "  MIR: 2\n",
            "\n",
            "Explored 1 nodes (69 simplex iterations) in 0.13 seconds (0.02 work units)\n",
            "Thread count was 2 (of 2 available processors)\n",
            "\n",
            "Solution count 2: 7.35349e+06 9.35349e+06 \n",
            "\n",
            "Optimal solution found (tolerance 1.00e-04)\n",
            "Best objective 7.353494823000e+06, best bound 7.353494823000e+06, gap 0.0000%\n"
          ]
        }
      ]
    },
    {
      "cell_type": "code",
      "source": [
        "if model.status == GRB.OPTIMAL:\n",
        "    print(f\"Optimal objective value: {model.ObjVal}\")\n",
        "else:\n",
        "    print(\"No optimal solution found.\")"
      ],
      "metadata": {
        "id": "TXgWP7JKV1qf",
        "colab": {
          "base_uri": "https://localhost:8080/"
        },
        "outputId": "042a4857-fdfb-43c3-f60b-cee98e2ee933"
      },
      "execution_count": 610,
      "outputs": [
        {
          "output_type": "stream",
          "name": "stdout",
          "text": [
            "Optimal objective value: 7353494.822999999\n"
          ]
        }
      ]
    },
    {
      "cell_type": "code",
      "source": [
        "for i in range(0, len(df_DC_city)):\n",
        "  print(z_var[f\"z[{i}]\"])"
      ],
      "metadata": {
        "id": "t4d2u-pSV1n8",
        "colab": {
          "base_uri": "https://localhost:8080/"
        },
        "outputId": "add25fb4-0aef-4910-cdcb-e8ca41e72d64"
      },
      "execution_count": 611,
      "outputs": [
        {
          "output_type": "stream",
          "name": "stdout",
          "text": [
            "<gurobi.Var z[0] (value 1.0)>\n",
            "<gurobi.Var z[1] (value 1.0)>\n",
            "<gurobi.Var z[2] (value 0.0)>\n",
            "<gurobi.Var z[3] (value 0.0)>\n"
          ]
        }
      ]
    },
    {
      "cell_type": "markdown",
      "source": [
        "Visualization"
      ],
      "metadata": {
        "id": "uVtlcaQc10d-"
      }
    },
    {
      "cell_type": "code",
      "source": [
        "!pip install folium\n",
        "import folium"
      ],
      "metadata": {
        "id": "YwCMxv3T1zv2",
        "colab": {
          "base_uri": "https://localhost:8080/"
        },
        "outputId": "f316da31-53dd-40c3-a385-3972f0b6b5c1"
      },
      "execution_count": 612,
      "outputs": [
        {
          "output_type": "stream",
          "name": "stdout",
          "text": [
            "Requirement already satisfied: folium in /usr/local/lib/python3.10/dist-packages (0.17.0)\n",
            "Requirement already satisfied: branca>=0.6.0 in /usr/local/lib/python3.10/dist-packages (from folium) (0.8.0)\n",
            "Requirement already satisfied: jinja2>=2.9 in /usr/local/lib/python3.10/dist-packages (from folium) (3.1.4)\n",
            "Requirement already satisfied: numpy in /usr/local/lib/python3.10/dist-packages (from folium) (1.26.4)\n",
            "Requirement already satisfied: requests in /usr/local/lib/python3.10/dist-packages (from folium) (2.32.3)\n",
            "Requirement already satisfied: xyzservices in /usr/local/lib/python3.10/dist-packages (from folium) (2024.9.0)\n",
            "Requirement already satisfied: MarkupSafe>=2.0 in /usr/local/lib/python3.10/dist-packages (from jinja2>=2.9->folium) (3.0.2)\n",
            "Requirement already satisfied: charset-normalizer<4,>=2 in /usr/local/lib/python3.10/dist-packages (from requests->folium) (3.4.0)\n",
            "Requirement already satisfied: idna<4,>=2.5 in /usr/local/lib/python3.10/dist-packages (from requests->folium) (3.10)\n",
            "Requirement already satisfied: urllib3<3,>=1.21.1 in /usr/local/lib/python3.10/dist-packages (from requests->folium) (2.2.3)\n",
            "Requirement already satisfied: certifi>=2017.4.17 in /usr/local/lib/python3.10/dist-packages (from requests->folium) (2024.8.30)\n"
          ]
        }
      ]
    },
    {
      "cell_type": "code",
      "source": [
        "lat = 0\n",
        "long = 0\n",
        "n = 0\n",
        "for i in range(0, len(df_coordinate_DC_city)):\n",
        "  lat = lat + df_coordinate_DC_city['Latitude'][i]*z_var[f\"z[{i}]\"].x\n",
        "  long = long + df_coordinate_DC_city['Longitude'][i]*z_var[f\"z[{i}]\"].x\n",
        "  n = n + z_var[f\"z[{i}]\"].x\n",
        "lat = lat/n\n",
        "long = long/n\n",
        "m = folium.Map(location=[lat, long], zoom_start=5.1)"
      ],
      "metadata": {
        "id": "v2zczwP32Dg0"
      },
      "execution_count": 613,
      "outputs": []
    },
    {
      "cell_type": "code",
      "source": [
        "for i in range(0, len(df_port_city)):\n",
        "    # Providing location as a list [latitude, longitude]\n",
        "    folium.Marker(\n",
        "        location=[df_coordinate_port_city['Latitude'][i], df_coordinate_port_city['Longitude'][i]],\n",
        "        popup=f\"{df_coordinate_port_city['City'][i]}\",\n",
        "        icon=folium.Icon(color=\"darkgreen\", icon=\"ship\", prefix=\"fa\")\n",
        "    ).add_to(m)"
      ],
      "metadata": {
        "id": "SrIwNPzK2E6s"
      },
      "execution_count": 614,
      "outputs": []
    },
    {
      "cell_type": "code",
      "source": [
        "for i in range(0, len(df_customer_city)):\n",
        "    # Providing location as a list [latitude, longitude]\n",
        "    folium.Marker(\n",
        "        location=[df_coordinate_customer_city['Latitude'][i], df_coordinate_customer_city['Longitude'][i]],\n",
        "        popup=f\"{df_coordinate_customer_city['City'][i]}\",\n",
        "        icon=folium.Icon(color=\"red\", icon=\"user\", prefix=\"fa\")\n",
        "    ).add_to(m)"
      ],
      "metadata": {
        "id": "nHy82HeQ4k5C"
      },
      "execution_count": 615,
      "outputs": []
    },
    {
      "cell_type": "code",
      "source": [
        "for i in range(0, len(df_DC_city)):\n",
        "    # Providing location as a list [latitude, longitude]\n",
        "    if z_var[f\"z[{i}]\"].x == 1:\n",
        "      folium.Marker(location=[df_coordinate_DC_city['Latitude'][i], df_coordinate_DC_city['Longitude'][i]], popup=f\"{df_coordinate_DC_city['City'][i]}\",\n",
        "        icon=folium.Icon(color=\"black\", icon=\"warehouse\", prefix=\"fa\")).add_to(m)"
      ],
      "metadata": {
        "id": "wZtS0Rmf4k14"
      },
      "execution_count": 616,
      "outputs": []
    },
    {
      "cell_type": "code",
      "source": [
        "for i in range(0, len(df_port_city)*len(df_DC_city)):\n",
        "  if z_var[f\"z[{i}]\"].x == 1:\n",
        "    sourc_city = df_distance_port_DC['Source'][i]\n",
        "    destination_city = df_distance_port_DC['Destination'][i]\n",
        "    source_lat = df_coordinate_port_city.loc[df_coordinate_port_city['City'] == sourc_city, 'Latitude'].iloc[0] #Access the first element using iloc[0]\n",
        "    source_lon = df_coordinate_port_city.loc[df_coordinate_port_city['City'] == sourc_city, 'Longitude'].iloc[0] #Access the first element using iloc[0]\n",
        "    destination_lat = df_coordinate_DC_city.loc[df_coordinate_DC_city['City'] == destination_city, 'Latitude'].iloc[0] #Access the first element using iloc[0]\n",
        "    destination_lon = df_coordinate_DC_city.loc[df_coordinate_DC_city['City'] == destination_city, 'Longitude'].iloc[0] #Access the first element using iloc[0]\n",
        "\n",
        "    folium.PolyLine(\n",
        "        locations=[(source_lat, source_lon), (destination_lat, destination_lon)],\n",
        "        color=\"darkgreen\",\n",
        "    ).add_to(m)"
      ],
      "metadata": {
        "id": "q22VmhB8v3iN"
      },
      "execution_count": 617,
      "outputs": []
    },
    {
      "cell_type": "code",
      "source": [
        "for i in range(0, len(df_DC_city)*len(df_customer_city)):\n",
        "  if y_var[f\"y[{i}]\"].x > 1:\n",
        "    # Get the source and destination cities\n",
        "    source_city = df_distance_DC_customer['Source'][i]\n",
        "    destination_city = df_distance_DC_customer['Destination'][i]\n",
        "\n",
        "    # Get the coordinates for the source and destination cities\n",
        "    source_lat = df_coordinate_DC_city.loc[df_coordinate_DC_city['City'] == source_city, 'Latitude'].iloc[0] #Access the first element using iloc[0]\n",
        "    source_lon = df_coordinate_DC_city.loc[df_coordinate_DC_city['City'] == source_city, 'Longitude'].iloc[0] #Access the first element using iloc[0]\n",
        "    destination_lat = df_coordinate_customer_city.loc[df_coordinate_customer_city['City'] == destination_city, 'Latitude'].iloc[0] #Access the first element using iloc[0]\n",
        "    destination_lon = df_coordinate_customer_city.loc[df_coordinate_customer_city['City'] == destination_city, 'Longitude'].iloc[0] #Access the first element using iloc[0]\n",
        "\n",
        "    # Add the polyline to the map\n",
        "    folium.PolyLine(\n",
        "        locations=[(source_lat, source_lon), (destination_lat, destination_lon)],\n",
        "        color=\"orange\",\n",
        "    ).add_to(m)"
      ],
      "metadata": {
        "id": "Jq7ZjKm99taZ"
      },
      "execution_count": 618,
      "outputs": []
    },
    {
      "cell_type": "code",
      "source": [
        "m.save(\"my_map.html\")"
      ],
      "metadata": {
        "id": "A60qwiTTL77u"
      },
      "execution_count": 619,
      "outputs": []
    },
    {
      "cell_type": "code",
      "source": [
        "m"
      ],
      "metadata": {
        "collapsed": true,
        "id": "RvMgHH-I2Ey1",
        "colab": {
          "base_uri": "https://localhost:8080/",
          "height": 685
        },
        "outputId": "849d3125-18ca-4398-8f49-bf96d9b5f101"
      },
      "execution_count": 620,
      "outputs": [
        {
          "output_type": "execute_result",
          "data": {
            "text/plain": [
              "<folium.folium.Map at 0x7af714834490>"
            ],
            "text/html": [
              "<div style=\"width:100%;\"><div style=\"position:relative;width:100%;height:0;padding-bottom:60%;\"><span style=\"color:#565656\">Make this Notebook Trusted to load map: File -> Trust Notebook</span><iframe srcdoc=\"&lt;!DOCTYPE html&gt;\n",
              "&lt;html&gt;\n",
              "&lt;head&gt;\n",
              "    \n",
              "    &lt;meta http-equiv=&quot;content-type&quot; content=&quot;text/html; charset=UTF-8&quot; /&gt;\n",
              "    \n",
              "        &lt;script&gt;\n",
              "            L_NO_TOUCH = false;\n",
              "            L_DISABLE_3D = false;\n",
              "        &lt;/script&gt;\n",
              "    \n",
              "    &lt;style&gt;html, body {width: 100%;height: 100%;margin: 0;padding: 0;}&lt;/style&gt;\n",
              "    &lt;style&gt;#map {position:absolute;top:0;bottom:0;right:0;left:0;}&lt;/style&gt;\n",
              "    &lt;script src=&quot;https://cdn.jsdelivr.net/npm/leaflet@1.9.3/dist/leaflet.js&quot;&gt;&lt;/script&gt;\n",
              "    &lt;script src=&quot;https://code.jquery.com/jquery-3.7.1.min.js&quot;&gt;&lt;/script&gt;\n",
              "    &lt;script src=&quot;https://cdn.jsdelivr.net/npm/bootstrap@5.2.2/dist/js/bootstrap.bundle.min.js&quot;&gt;&lt;/script&gt;\n",
              "    &lt;script src=&quot;https://cdnjs.cloudflare.com/ajax/libs/Leaflet.awesome-markers/2.0.2/leaflet.awesome-markers.js&quot;&gt;&lt;/script&gt;\n",
              "    &lt;link rel=&quot;stylesheet&quot; href=&quot;https://cdn.jsdelivr.net/npm/leaflet@1.9.3/dist/leaflet.css&quot;/&gt;\n",
              "    &lt;link rel=&quot;stylesheet&quot; href=&quot;https://cdn.jsdelivr.net/npm/bootstrap@5.2.2/dist/css/bootstrap.min.css&quot;/&gt;\n",
              "    &lt;link rel=&quot;stylesheet&quot; href=&quot;https://netdna.bootstrapcdn.com/bootstrap/3.0.0/css/bootstrap-glyphicons.css&quot;/&gt;\n",
              "    &lt;link rel=&quot;stylesheet&quot; href=&quot;https://cdn.jsdelivr.net/npm/@fortawesome/fontawesome-free@6.2.0/css/all.min.css&quot;/&gt;\n",
              "    &lt;link rel=&quot;stylesheet&quot; href=&quot;https://cdnjs.cloudflare.com/ajax/libs/Leaflet.awesome-markers/2.0.2/leaflet.awesome-markers.css&quot;/&gt;\n",
              "    &lt;link rel=&quot;stylesheet&quot; href=&quot;https://cdn.jsdelivr.net/gh/python-visualization/folium/folium/templates/leaflet.awesome.rotate.min.css&quot;/&gt;\n",
              "    \n",
              "            &lt;meta name=&quot;viewport&quot; content=&quot;width=device-width,\n",
              "                initial-scale=1.0, maximum-scale=1.0, user-scalable=no&quot; /&gt;\n",
              "            &lt;style&gt;\n",
              "                #map_d37d62e13cdef63c5452cc803d624c1b {\n",
              "                    position: relative;\n",
              "                    width: 100.0%;\n",
              "                    height: 100.0%;\n",
              "                    left: 0.0%;\n",
              "                    top: 0.0%;\n",
              "                }\n",
              "                .leaflet-container { font-size: 1rem; }\n",
              "            &lt;/style&gt;\n",
              "        \n",
              "&lt;/head&gt;\n",
              "&lt;body&gt;\n",
              "    \n",
              "    \n",
              "            &lt;div class=&quot;folium-map&quot; id=&quot;map_d37d62e13cdef63c5452cc803d624c1b&quot; &gt;&lt;/div&gt;\n",
              "        \n",
              "&lt;/body&gt;\n",
              "&lt;script&gt;\n",
              "    \n",
              "    \n",
              "            var map_d37d62e13cdef63c5452cc803d624c1b = L.map(\n",
              "                &quot;map_d37d62e13cdef63c5452cc803d624c1b&quot;,\n",
              "                {\n",
              "                    center: [19.80785345, 77.0859241],\n",
              "                    crs: L.CRS.EPSG3857,\n",
              "                    zoom: 5.1,\n",
              "                    zoomControl: true,\n",
              "                    preferCanvas: false,\n",
              "                }\n",
              "            );\n",
              "\n",
              "            \n",
              "\n",
              "        \n",
              "    \n",
              "            var tile_layer_aba05a1c0ebe45cb3626f3e53a63eabb = L.tileLayer(\n",
              "                &quot;https://tile.openstreetmap.org/{z}/{x}/{y}.png&quot;,\n",
              "                {&quot;attribution&quot;: &quot;\\u0026copy; \\u003ca href=\\&quot;https://www.openstreetmap.org/copyright\\&quot;\\u003eOpenStreetMap\\u003c/a\\u003e contributors&quot;, &quot;detectRetina&quot;: false, &quot;maxNativeZoom&quot;: 19, &quot;maxZoom&quot;: 19, &quot;minZoom&quot;: 0, &quot;noWrap&quot;: false, &quot;opacity&quot;: 1, &quot;subdomains&quot;: &quot;abc&quot;, &quot;tms&quot;: false}\n",
              "            );\n",
              "        \n",
              "    \n",
              "            tile_layer_aba05a1c0ebe45cb3626f3e53a63eabb.addTo(map_d37d62e13cdef63c5452cc803d624c1b);\n",
              "        \n",
              "    \n",
              "            var marker_7a134873b435840f8333644d4cc6c4d0 = L.marker(\n",
              "                [18.945030600000003, 72.94942299008869],\n",
              "                {}\n",
              "            ).addTo(map_d37d62e13cdef63c5452cc803d624c1b);\n",
              "        \n",
              "    \n",
              "            var icon_b9dd99deb7546b31c840ce7ee7c5dd64 = L.AwesomeMarkers.icon(\n",
              "                {&quot;extraClasses&quot;: &quot;fa-rotate-0&quot;, &quot;icon&quot;: &quot;ship&quot;, &quot;iconColor&quot;: &quot;white&quot;, &quot;markerColor&quot;: &quot;darkgreen&quot;, &quot;prefix&quot;: &quot;fa&quot;}\n",
              "            );\n",
              "            marker_7a134873b435840f8333644d4cc6c4d0.setIcon(icon_b9dd99deb7546b31c840ce7ee7c5dd64);\n",
              "        \n",
              "    \n",
              "        var popup_f70e3b5de20d644de9d49bc42164794a = L.popup({&quot;maxWidth&quot;: &quot;100%&quot;});\n",
              "\n",
              "        \n",
              "            \n",
              "                var html_d81bc0c36ce913623201d9ae64b56a34 = $(`&lt;div id=&quot;html_d81bc0c36ce913623201d9ae64b56a34&quot; style=&quot;width: 100.0%; height: 100.0%;&quot;&gt;NHAVA SHEVA&lt;/div&gt;`)[0];\n",
              "                popup_f70e3b5de20d644de9d49bc42164794a.setContent(html_d81bc0c36ce913623201d9ae64b56a34);\n",
              "            \n",
              "        \n",
              "\n",
              "        marker_7a134873b435840f8333644d4cc6c4d0.bindPopup(popup_f70e3b5de20d644de9d49bc42164794a)\n",
              "        ;\n",
              "\n",
              "        \n",
              "    \n",
              "    \n",
              "            var marker_aa83e3a10fa188c890e555f7c8865860 = L.marker(\n",
              "                [12.9767936, 77.590082],\n",
              "                {}\n",
              "            ).addTo(map_d37d62e13cdef63c5452cc803d624c1b);\n",
              "        \n",
              "    \n",
              "            var icon_0b257f2ebac92c2f6bb2543da362c66a = L.AwesomeMarkers.icon(\n",
              "                {&quot;extraClasses&quot;: &quot;fa-rotate-0&quot;, &quot;icon&quot;: &quot;user&quot;, &quot;iconColor&quot;: &quot;white&quot;, &quot;markerColor&quot;: &quot;red&quot;, &quot;prefix&quot;: &quot;fa&quot;}\n",
              "            );\n",
              "            marker_aa83e3a10fa188c890e555f7c8865860.setIcon(icon_0b257f2ebac92c2f6bb2543da362c66a);\n",
              "        \n",
              "    \n",
              "        var popup_cdbba19430a7e4b63ae2db09b275c018 = L.popup({&quot;maxWidth&quot;: &quot;100%&quot;});\n",
              "\n",
              "        \n",
              "            \n",
              "                var html_d558649b6eed08b49cb128d737cdd94c = $(`&lt;div id=&quot;html_d558649b6eed08b49cb128d737cdd94c&quot; style=&quot;width: 100.0%; height: 100.0%;&quot;&gt;Bengaluru&lt;/div&gt;`)[0];\n",
              "                popup_cdbba19430a7e4b63ae2db09b275c018.setContent(html_d558649b6eed08b49cb128d737cdd94c);\n",
              "            \n",
              "        \n",
              "\n",
              "        marker_aa83e3a10fa188c890e555f7c8865860.bindPopup(popup_cdbba19430a7e4b63ae2db09b275c018)\n",
              "        ;\n",
              "\n",
              "        \n",
              "    \n",
              "    \n",
              "            var marker_ef1c90947bdf8bc8f93f2987e09b2378 = L.marker(\n",
              "                [9.9261153, 78.1140983],\n",
              "                {}\n",
              "            ).addTo(map_d37d62e13cdef63c5452cc803d624c1b);\n",
              "        \n",
              "    \n",
              "            var icon_7db1fa4f8cc551fd9bcb24a4177d148c = L.AwesomeMarkers.icon(\n",
              "                {&quot;extraClasses&quot;: &quot;fa-rotate-0&quot;, &quot;icon&quot;: &quot;user&quot;, &quot;iconColor&quot;: &quot;white&quot;, &quot;markerColor&quot;: &quot;red&quot;, &quot;prefix&quot;: &quot;fa&quot;}\n",
              "            );\n",
              "            marker_ef1c90947bdf8bc8f93f2987e09b2378.setIcon(icon_7db1fa4f8cc551fd9bcb24a4177d148c);\n",
              "        \n",
              "    \n",
              "        var popup_fc5a6238a27632c9dea002a78155f5e3 = L.popup({&quot;maxWidth&quot;: &quot;100%&quot;});\n",
              "\n",
              "        \n",
              "            \n",
              "                var html_0a7bad97bf4b000592dc3afdbccfd7b9 = $(`&lt;div id=&quot;html_0a7bad97bf4b000592dc3afdbccfd7b9&quot; style=&quot;width: 100.0%; height: 100.0%;&quot;&gt;Madurai&lt;/div&gt;`)[0];\n",
              "                popup_fc5a6238a27632c9dea002a78155f5e3.setContent(html_0a7bad97bf4b000592dc3afdbccfd7b9);\n",
              "            \n",
              "        \n",
              "\n",
              "        marker_ef1c90947bdf8bc8f93f2987e09b2378.bindPopup(popup_fc5a6238a27632c9dea002a78155f5e3)\n",
              "        ;\n",
              "\n",
              "        \n",
              "    \n",
              "    \n",
              "            var marker_8baa3b71c591b14ef2cc07f71d84f75e = L.marker(\n",
              "                [9.9674277, 76.2454436],\n",
              "                {}\n",
              "            ).addTo(map_d37d62e13cdef63c5452cc803d624c1b);\n",
              "        \n",
              "    \n",
              "            var icon_58ab300ab4216cae5f98059ec6dcb18b = L.AwesomeMarkers.icon(\n",
              "                {&quot;extraClasses&quot;: &quot;fa-rotate-0&quot;, &quot;icon&quot;: &quot;user&quot;, &quot;iconColor&quot;: &quot;white&quot;, &quot;markerColor&quot;: &quot;red&quot;, &quot;prefix&quot;: &quot;fa&quot;}\n",
              "            );\n",
              "            marker_8baa3b71c591b14ef2cc07f71d84f75e.setIcon(icon_58ab300ab4216cae5f98059ec6dcb18b);\n",
              "        \n",
              "    \n",
              "        var popup_e78745fcbea19068ce0d917b63cd752c = L.popup({&quot;maxWidth&quot;: &quot;100%&quot;});\n",
              "\n",
              "        \n",
              "            \n",
              "                var html_6fafed3cbcfd1336d112b49b4cb86793 = $(`&lt;div id=&quot;html_6fafed3cbcfd1336d112b49b4cb86793&quot; style=&quot;width: 100.0%; height: 100.0%;&quot;&gt;Kochi&lt;/div&gt;`)[0];\n",
              "                popup_e78745fcbea19068ce0d917b63cd752c.setContent(html_6fafed3cbcfd1336d112b49b4cb86793);\n",
              "            \n",
              "        \n",
              "\n",
              "        marker_8baa3b71c591b14ef2cc07f71d84f75e.bindPopup(popup_e78745fcbea19068ce0d917b63cd752c)\n",
              "        ;\n",
              "\n",
              "        \n",
              "    \n",
              "    \n",
              "            var marker_8c3b5c23f35e130c8c2a2a5d2f98a049 = L.marker(\n",
              "                [13.0836939, 80.270186],\n",
              "                {}\n",
              "            ).addTo(map_d37d62e13cdef63c5452cc803d624c1b);\n",
              "        \n",
              "    \n",
              "            var icon_e40e3b18f3a4174aa09ff7b277c99a36 = L.AwesomeMarkers.icon(\n",
              "                {&quot;extraClasses&quot;: &quot;fa-rotate-0&quot;, &quot;icon&quot;: &quot;user&quot;, &quot;iconColor&quot;: &quot;white&quot;, &quot;markerColor&quot;: &quot;red&quot;, &quot;prefix&quot;: &quot;fa&quot;}\n",
              "            );\n",
              "            marker_8c3b5c23f35e130c8c2a2a5d2f98a049.setIcon(icon_e40e3b18f3a4174aa09ff7b277c99a36);\n",
              "        \n",
              "    \n",
              "        var popup_8c90ccf812728ccb54f65120b3380ef8 = L.popup({&quot;maxWidth&quot;: &quot;100%&quot;});\n",
              "\n",
              "        \n",
              "            \n",
              "                var html_01809f5b7bec186171c906de45ebda40 = $(`&lt;div id=&quot;html_01809f5b7bec186171c906de45ebda40&quot; style=&quot;width: 100.0%; height: 100.0%;&quot;&gt;Chennai&lt;/div&gt;`)[0];\n",
              "                popup_8c90ccf812728ccb54f65120b3380ef8.setContent(html_01809f5b7bec186171c906de45ebda40);\n",
              "            \n",
              "        \n",
              "\n",
              "        marker_8c3b5c23f35e130c8c2a2a5d2f98a049.bindPopup(popup_8c90ccf812728ccb54f65120b3380ef8)\n",
              "        ;\n",
              "\n",
              "        \n",
              "    \n",
              "    \n",
              "            var marker_000074881191bf05ef4185cabd9c7083 = L.marker(\n",
              "                [12.3051828, 76.6553609],\n",
              "                {}\n",
              "            ).addTo(map_d37d62e13cdef63c5452cc803d624c1b);\n",
              "        \n",
              "    \n",
              "            var icon_15c950fcd77c4599d9fb0bfcfae2f48a = L.AwesomeMarkers.icon(\n",
              "                {&quot;extraClasses&quot;: &quot;fa-rotate-0&quot;, &quot;icon&quot;: &quot;user&quot;, &quot;iconColor&quot;: &quot;white&quot;, &quot;markerColor&quot;: &quot;red&quot;, &quot;prefix&quot;: &quot;fa&quot;}\n",
              "            );\n",
              "            marker_000074881191bf05ef4185cabd9c7083.setIcon(icon_15c950fcd77c4599d9fb0bfcfae2f48a);\n",
              "        \n",
              "    \n",
              "        var popup_7228753657431f18288ac7dab6ccce86 = L.popup({&quot;maxWidth&quot;: &quot;100%&quot;});\n",
              "\n",
              "        \n",
              "            \n",
              "                var html_9100587cb5c5dc31b0c152b9ddd99798 = $(`&lt;div id=&quot;html_9100587cb5c5dc31b0c152b9ddd99798&quot; style=&quot;width: 100.0%; height: 100.0%;&quot;&gt;Mysuru&lt;/div&gt;`)[0];\n",
              "                popup_7228753657431f18288ac7dab6ccce86.setContent(html_9100587cb5c5dc31b0c152b9ddd99798);\n",
              "            \n",
              "        \n",
              "\n",
              "        marker_000074881191bf05ef4185cabd9c7083.bindPopup(popup_7228753657431f18288ac7dab6ccce86)\n",
              "        ;\n",
              "\n",
              "        \n",
              "    \n",
              "    \n",
              "            var marker_59c622d994eb93f57590337a3e84149c = L.marker(\n",
              "                [28.9963296, 77.7061915],\n",
              "                {}\n",
              "            ).addTo(map_d37d62e13cdef63c5452cc803d624c1b);\n",
              "        \n",
              "    \n",
              "            var icon_6c60f59d7ba0fe38211846750adf3548 = L.AwesomeMarkers.icon(\n",
              "                {&quot;extraClasses&quot;: &quot;fa-rotate-0&quot;, &quot;icon&quot;: &quot;user&quot;, &quot;iconColor&quot;: &quot;white&quot;, &quot;markerColor&quot;: &quot;red&quot;, &quot;prefix&quot;: &quot;fa&quot;}\n",
              "            );\n",
              "            marker_59c622d994eb93f57590337a3e84149c.setIcon(icon_6c60f59d7ba0fe38211846750adf3548);\n",
              "        \n",
              "    \n",
              "        var popup_718837a023d8d2ac403e250a54068d5a = L.popup({&quot;maxWidth&quot;: &quot;100%&quot;});\n",
              "\n",
              "        \n",
              "            \n",
              "                var html_32af9736d1c5038c8cdb3b3e6450434c = $(`&lt;div id=&quot;html_32af9736d1c5038c8cdb3b3e6450434c&quot; style=&quot;width: 100.0%; height: 100.0%;&quot;&gt;Meerut&lt;/div&gt;`)[0];\n",
              "                popup_718837a023d8d2ac403e250a54068d5a.setContent(html_32af9736d1c5038c8cdb3b3e6450434c);\n",
              "            \n",
              "        \n",
              "\n",
              "        marker_59c622d994eb93f57590337a3e84149c.bindPopup(popup_718837a023d8d2ac403e250a54068d5a)\n",
              "        ;\n",
              "\n",
              "        \n",
              "    \n",
              "    \n",
              "            var marker_5abec0ad77c9b0f53c04875b4701a305 = L.marker(\n",
              "                [27.8761073, 78.13581531245276],\n",
              "                {}\n",
              "            ).addTo(map_d37d62e13cdef63c5452cc803d624c1b);\n",
              "        \n",
              "    \n",
              "            var icon_0f4ca38280c2a3f0a3cd6a21d04e0ec6 = L.AwesomeMarkers.icon(\n",
              "                {&quot;extraClasses&quot;: &quot;fa-rotate-0&quot;, &quot;icon&quot;: &quot;user&quot;, &quot;iconColor&quot;: &quot;white&quot;, &quot;markerColor&quot;: &quot;red&quot;, &quot;prefix&quot;: &quot;fa&quot;}\n",
              "            );\n",
              "            marker_5abec0ad77c9b0f53c04875b4701a305.setIcon(icon_0f4ca38280c2a3f0a3cd6a21d04e0ec6);\n",
              "        \n",
              "    \n",
              "        var popup_d4950f67200a8227bd70482ed8fe4695 = L.popup({&quot;maxWidth&quot;: &quot;100%&quot;});\n",
              "\n",
              "        \n",
              "            \n",
              "                var html_f8754877543c6ca7c1753e1ebd15cb10 = $(`&lt;div id=&quot;html_f8754877543c6ca7c1753e1ebd15cb10&quot; style=&quot;width: 100.0%; height: 100.0%;&quot;&gt;Aligarh&lt;/div&gt;`)[0];\n",
              "                popup_d4950f67200a8227bd70482ed8fe4695.setContent(html_f8754877543c6ca7c1753e1ebd15cb10);\n",
              "            \n",
              "        \n",
              "\n",
              "        marker_5abec0ad77c9b0f53c04875b4701a305.bindPopup(popup_d4950f67200a8227bd70482ed8fe4695)\n",
              "        ;\n",
              "\n",
              "        \n",
              "    \n",
              "    \n",
              "            var marker_f39c32366e2a2128fe85bfbe84d5445e = L.marker(\n",
              "                [27.1752554, 78.0098161],\n",
              "                {}\n",
              "            ).addTo(map_d37d62e13cdef63c5452cc803d624c1b);\n",
              "        \n",
              "    \n",
              "            var icon_d8704b160d85f8b0b77dd58f6f1c6ee8 = L.AwesomeMarkers.icon(\n",
              "                {&quot;extraClasses&quot;: &quot;fa-rotate-0&quot;, &quot;icon&quot;: &quot;user&quot;, &quot;iconColor&quot;: &quot;white&quot;, &quot;markerColor&quot;: &quot;red&quot;, &quot;prefix&quot;: &quot;fa&quot;}\n",
              "            );\n",
              "            marker_f39c32366e2a2128fe85bfbe84d5445e.setIcon(icon_d8704b160d85f8b0b77dd58f6f1c6ee8);\n",
              "        \n",
              "    \n",
              "        var popup_3338e23c95ea5dfe4efb32522e3e3106 = L.popup({&quot;maxWidth&quot;: &quot;100%&quot;});\n",
              "\n",
              "        \n",
              "            \n",
              "                var html_d53e5750cb22e75d4fca06a26d5cb0ec = $(`&lt;div id=&quot;html_d53e5750cb22e75d4fca06a26d5cb0ec&quot; style=&quot;width: 100.0%; height: 100.0%;&quot;&gt;Agra&lt;/div&gt;`)[0];\n",
              "                popup_3338e23c95ea5dfe4efb32522e3e3106.setContent(html_d53e5750cb22e75d4fca06a26d5cb0ec);\n",
              "            \n",
              "        \n",
              "\n",
              "        marker_f39c32366e2a2128fe85bfbe84d5445e.bindPopup(popup_3338e23c95ea5dfe4efb32522e3e3106)\n",
              "        ;\n",
              "\n",
              "        \n",
              "    \n",
              "    \n",
              "            var marker_c3159de5b4ec7cd6aada549cd8a4e9f0 = L.marker(\n",
              "                [30.72984395, 76.78414567016054],\n",
              "                {}\n",
              "            ).addTo(map_d37d62e13cdef63c5452cc803d624c1b);\n",
              "        \n",
              "    \n",
              "            var icon_cbebf33ec73c2156f5d7eb6947e984c7 = L.AwesomeMarkers.icon(\n",
              "                {&quot;extraClasses&quot;: &quot;fa-rotate-0&quot;, &quot;icon&quot;: &quot;user&quot;, &quot;iconColor&quot;: &quot;white&quot;, &quot;markerColor&quot;: &quot;red&quot;, &quot;prefix&quot;: &quot;fa&quot;}\n",
              "            );\n",
              "            marker_c3159de5b4ec7cd6aada549cd8a4e9f0.setIcon(icon_cbebf33ec73c2156f5d7eb6947e984c7);\n",
              "        \n",
              "    \n",
              "        var popup_2af6b159c90158a7605c550a40e8c133 = L.popup({&quot;maxWidth&quot;: &quot;100%&quot;});\n",
              "\n",
              "        \n",
              "            \n",
              "                var html_0edb17023fc3f5c696480955e9243f4f = $(`&lt;div id=&quot;html_0edb17023fc3f5c696480955e9243f4f&quot; style=&quot;width: 100.0%; height: 100.0%;&quot;&gt;Chandigarh&lt;/div&gt;`)[0];\n",
              "                popup_2af6b159c90158a7605c550a40e8c133.setContent(html_0edb17023fc3f5c696480955e9243f4f);\n",
              "            \n",
              "        \n",
              "\n",
              "        marker_c3159de5b4ec7cd6aada549cd8a4e9f0.bindPopup(popup_2af6b159c90158a7605c550a40e8c133)\n",
              "        ;\n",
              "\n",
              "        \n",
              "    \n",
              "    \n",
              "            var marker_b105a072c373fb7fe18afe438a99664c = L.marker(\n",
              "                [28.7931703, 76.1391283],\n",
              "                {}\n",
              "            ).addTo(map_d37d62e13cdef63c5452cc803d624c1b);\n",
              "        \n",
              "    \n",
              "            var icon_f00b36660ea15e4371c0e51142224e01 = L.AwesomeMarkers.icon(\n",
              "                {&quot;extraClasses&quot;: &quot;fa-rotate-0&quot;, &quot;icon&quot;: &quot;user&quot;, &quot;iconColor&quot;: &quot;white&quot;, &quot;markerColor&quot;: &quot;red&quot;, &quot;prefix&quot;: &quot;fa&quot;}\n",
              "            );\n",
              "            marker_b105a072c373fb7fe18afe438a99664c.setIcon(icon_f00b36660ea15e4371c0e51142224e01);\n",
              "        \n",
              "    \n",
              "        var popup_4d2da1d7c2d9ffd2e186ba3894f0b503 = L.popup({&quot;maxWidth&quot;: &quot;100%&quot;});\n",
              "\n",
              "        \n",
              "            \n",
              "                var html_07b39f19f5d2ac50639468bfdbd03962 = $(`&lt;div id=&quot;html_07b39f19f5d2ac50639468bfdbd03962&quot; style=&quot;width: 100.0%; height: 100.0%;&quot;&gt;Bhiwani&lt;/div&gt;`)[0];\n",
              "                popup_4d2da1d7c2d9ffd2e186ba3894f0b503.setContent(html_07b39f19f5d2ac50639468bfdbd03962);\n",
              "            \n",
              "        \n",
              "\n",
              "        marker_b105a072c373fb7fe18afe438a99664c.bindPopup(popup_4d2da1d7c2d9ffd2e186ba3894f0b503)\n",
              "        ;\n",
              "\n",
              "        \n",
              "    \n",
              "    \n",
              "            var marker_89fd4f7a9bf303028b806fe73f8b9ba9 = L.marker(\n",
              "                [26.9154576, 75.8189817],\n",
              "                {}\n",
              "            ).addTo(map_d37d62e13cdef63c5452cc803d624c1b);\n",
              "        \n",
              "    \n",
              "            var icon_c9bbb8d2a0187cdfa70a258de72fa150 = L.AwesomeMarkers.icon(\n",
              "                {&quot;extraClasses&quot;: &quot;fa-rotate-0&quot;, &quot;icon&quot;: &quot;user&quot;, &quot;iconColor&quot;: &quot;white&quot;, &quot;markerColor&quot;: &quot;red&quot;, &quot;prefix&quot;: &quot;fa&quot;}\n",
              "            );\n",
              "            marker_89fd4f7a9bf303028b806fe73f8b9ba9.setIcon(icon_c9bbb8d2a0187cdfa70a258de72fa150);\n",
              "        \n",
              "    \n",
              "        var popup_7d5300c491389997423dd0d1110ba44e = L.popup({&quot;maxWidth&quot;: &quot;100%&quot;});\n",
              "\n",
              "        \n",
              "            \n",
              "                var html_1d38cfff609a61da247afaa4b7848d5b = $(`&lt;div id=&quot;html_1d38cfff609a61da247afaa4b7848d5b&quot; style=&quot;width: 100.0%; height: 100.0%;&quot;&gt;Jaipur&lt;/div&gt;`)[0];\n",
              "                popup_7d5300c491389997423dd0d1110ba44e.setContent(html_1d38cfff609a61da247afaa4b7848d5b);\n",
              "            \n",
              "        \n",
              "\n",
              "        marker_89fd4f7a9bf303028b806fe73f8b9ba9.bindPopup(popup_7d5300c491389997423dd0d1110ba44e)\n",
              "        ;\n",
              "\n",
              "        \n",
              "    \n",
              "    \n",
              "            var marker_dcf4898243976d73ac03a4e3824378cc = L.marker(\n",
              "                [26.4609135, 80.3217588],\n",
              "                {}\n",
              "            ).addTo(map_d37d62e13cdef63c5452cc803d624c1b);\n",
              "        \n",
              "    \n",
              "            var icon_ad73d3cabe774262e880f9cd6a9b5afe = L.AwesomeMarkers.icon(\n",
              "                {&quot;extraClasses&quot;: &quot;fa-rotate-0&quot;, &quot;icon&quot;: &quot;user&quot;, &quot;iconColor&quot;: &quot;white&quot;, &quot;markerColor&quot;: &quot;red&quot;, &quot;prefix&quot;: &quot;fa&quot;}\n",
              "            );\n",
              "            marker_dcf4898243976d73ac03a4e3824378cc.setIcon(icon_ad73d3cabe774262e880f9cd6a9b5afe);\n",
              "        \n",
              "    \n",
              "        var popup_4a7c040b800e3d320daea5f07630efcd = L.popup({&quot;maxWidth&quot;: &quot;100%&quot;});\n",
              "\n",
              "        \n",
              "            \n",
              "                var html_7f647bf76eff13416a78467ab9073f5e = $(`&lt;div id=&quot;html_7f647bf76eff13416a78467ab9073f5e&quot; style=&quot;width: 100.0%; height: 100.0%;&quot;&gt;Kanpur&lt;/div&gt;`)[0];\n",
              "                popup_4a7c040b800e3d320daea5f07630efcd.setContent(html_7f647bf76eff13416a78467ab9073f5e);\n",
              "            \n",
              "        \n",
              "\n",
              "        marker_dcf4898243976d73ac03a4e3824378cc.bindPopup(popup_4a7c040b800e3d320daea5f07630efcd)\n",
              "        ;\n",
              "\n",
              "        \n",
              "    \n",
              "    \n",
              "            var marker_c535500de802a725654cf57f6b75bc1e = L.marker(\n",
              "                [28.6138954, 77.2090057],\n",
              "                {}\n",
              "            ).addTo(map_d37d62e13cdef63c5452cc803d624c1b);\n",
              "        \n",
              "    \n",
              "            var icon_4199ad69267af1cb3a23d36c3e6a7605 = L.AwesomeMarkers.icon(\n",
              "                {&quot;extraClasses&quot;: &quot;fa-rotate-0&quot;, &quot;icon&quot;: &quot;warehouse&quot;, &quot;iconColor&quot;: &quot;white&quot;, &quot;markerColor&quot;: &quot;black&quot;, &quot;prefix&quot;: &quot;fa&quot;}\n",
              "            );\n",
              "            marker_c535500de802a725654cf57f6b75bc1e.setIcon(icon_4199ad69267af1cb3a23d36c3e6a7605);\n",
              "        \n",
              "    \n",
              "        var popup_35b9959b1f8d7130a19720b2620750ad = L.popup({&quot;maxWidth&quot;: &quot;100%&quot;});\n",
              "\n",
              "        \n",
              "            \n",
              "                var html_1dd56f64f64369dffd00dba1e749db5b = $(`&lt;div id=&quot;html_1dd56f64f64369dffd00dba1e749db5b&quot; style=&quot;width: 100.0%; height: 100.0%;&quot;&gt;New Delhi&lt;/div&gt;`)[0];\n",
              "                popup_35b9959b1f8d7130a19720b2620750ad.setContent(html_1dd56f64f64369dffd00dba1e749db5b);\n",
              "            \n",
              "        \n",
              "\n",
              "        marker_c535500de802a725654cf57f6b75bc1e.bindPopup(popup_35b9959b1f8d7130a19720b2620750ad)\n",
              "        ;\n",
              "\n",
              "        \n",
              "    \n",
              "    \n",
              "            var marker_1f8e9c32dcf57262ffdce4822debf165 = L.marker(\n",
              "                [11.0018115, 76.9628425],\n",
              "                {}\n",
              "            ).addTo(map_d37d62e13cdef63c5452cc803d624c1b);\n",
              "        \n",
              "    \n",
              "            var icon_faef5804912b57582c49820718d6b34f = L.AwesomeMarkers.icon(\n",
              "                {&quot;extraClasses&quot;: &quot;fa-rotate-0&quot;, &quot;icon&quot;: &quot;warehouse&quot;, &quot;iconColor&quot;: &quot;white&quot;, &quot;markerColor&quot;: &quot;black&quot;, &quot;prefix&quot;: &quot;fa&quot;}\n",
              "            );\n",
              "            marker_1f8e9c32dcf57262ffdce4822debf165.setIcon(icon_faef5804912b57582c49820718d6b34f);\n",
              "        \n",
              "    \n",
              "        var popup_d8cb390243c574b23aa1d886f155f93b = L.popup({&quot;maxWidth&quot;: &quot;100%&quot;});\n",
              "\n",
              "        \n",
              "            \n",
              "                var html_cf837d029fcf6d488c13b22c174d663d = $(`&lt;div id=&quot;html_cf837d029fcf6d488c13b22c174d663d&quot; style=&quot;width: 100.0%; height: 100.0%;&quot;&gt;Coimbatore&lt;/div&gt;`)[0];\n",
              "                popup_d8cb390243c574b23aa1d886f155f93b.setContent(html_cf837d029fcf6d488c13b22c174d663d);\n",
              "            \n",
              "        \n",
              "\n",
              "        marker_1f8e9c32dcf57262ffdce4822debf165.bindPopup(popup_d8cb390243c574b23aa1d886f155f93b)\n",
              "        ;\n",
              "\n",
              "        \n",
              "    \n",
              "    \n",
              "            var poly_line_71082312eb4aba7dc6b9184cb4350bc1 = L.polyline(\n",
              "                [[18.945030600000003, 72.94942299008869], [28.6138954, 77.2090057]],\n",
              "                {&quot;bubblingMouseEvents&quot;: true, &quot;color&quot;: &quot;darkgreen&quot;, &quot;dashArray&quot;: null, &quot;dashOffset&quot;: null, &quot;fill&quot;: false, &quot;fillColor&quot;: &quot;darkgreen&quot;, &quot;fillOpacity&quot;: 0.2, &quot;fillRule&quot;: &quot;evenodd&quot;, &quot;lineCap&quot;: &quot;round&quot;, &quot;lineJoin&quot;: &quot;round&quot;, &quot;noClip&quot;: false, &quot;opacity&quot;: 1.0, &quot;smoothFactor&quot;: 1.0, &quot;stroke&quot;: true, &quot;weight&quot;: 3}\n",
              "            ).addTo(map_d37d62e13cdef63c5452cc803d624c1b);\n",
              "        \n",
              "    \n",
              "            var poly_line_beb4357d4a42b0c08527712b43e5e239 = L.polyline(\n",
              "                [[18.945030600000003, 72.94942299008869], [11.0018115, 76.9628425]],\n",
              "                {&quot;bubblingMouseEvents&quot;: true, &quot;color&quot;: &quot;darkgreen&quot;, &quot;dashArray&quot;: null, &quot;dashOffset&quot;: null, &quot;fill&quot;: false, &quot;fillColor&quot;: &quot;darkgreen&quot;, &quot;fillOpacity&quot;: 0.2, &quot;fillRule&quot;: &quot;evenodd&quot;, &quot;lineCap&quot;: &quot;round&quot;, &quot;lineJoin&quot;: &quot;round&quot;, &quot;noClip&quot;: false, &quot;opacity&quot;: 1.0, &quot;smoothFactor&quot;: 1.0, &quot;stroke&quot;: true, &quot;weight&quot;: 3}\n",
              "            ).addTo(map_d37d62e13cdef63c5452cc803d624c1b);\n",
              "        \n",
              "    \n",
              "            var poly_line_13af5b3a5ae25d30f77526a1fe96574c = L.polyline(\n",
              "                [[28.6138954, 77.2090057], [28.9963296, 77.7061915]],\n",
              "                {&quot;bubblingMouseEvents&quot;: true, &quot;color&quot;: &quot;orange&quot;, &quot;dashArray&quot;: null, &quot;dashOffset&quot;: null, &quot;fill&quot;: false, &quot;fillColor&quot;: &quot;orange&quot;, &quot;fillOpacity&quot;: 0.2, &quot;fillRule&quot;: &quot;evenodd&quot;, &quot;lineCap&quot;: &quot;round&quot;, &quot;lineJoin&quot;: &quot;round&quot;, &quot;noClip&quot;: false, &quot;opacity&quot;: 1.0, &quot;smoothFactor&quot;: 1.0, &quot;stroke&quot;: true, &quot;weight&quot;: 3}\n",
              "            ).addTo(map_d37d62e13cdef63c5452cc803d624c1b);\n",
              "        \n",
              "    \n",
              "            var poly_line_af73b846d9a38f30555299063dc15787 = L.polyline(\n",
              "                [[28.6138954, 77.2090057], [27.8761073, 78.13581531245276]],\n",
              "                {&quot;bubblingMouseEvents&quot;: true, &quot;color&quot;: &quot;orange&quot;, &quot;dashArray&quot;: null, &quot;dashOffset&quot;: null, &quot;fill&quot;: false, &quot;fillColor&quot;: &quot;orange&quot;, &quot;fillOpacity&quot;: 0.2, &quot;fillRule&quot;: &quot;evenodd&quot;, &quot;lineCap&quot;: &quot;round&quot;, &quot;lineJoin&quot;: &quot;round&quot;, &quot;noClip&quot;: false, &quot;opacity&quot;: 1.0, &quot;smoothFactor&quot;: 1.0, &quot;stroke&quot;: true, &quot;weight&quot;: 3}\n",
              "            ).addTo(map_d37d62e13cdef63c5452cc803d624c1b);\n",
              "        \n",
              "    \n",
              "            var poly_line_fe54e21de4eb6faf213521750f1b535b = L.polyline(\n",
              "                [[28.6138954, 77.2090057], [27.1752554, 78.0098161]],\n",
              "                {&quot;bubblingMouseEvents&quot;: true, &quot;color&quot;: &quot;orange&quot;, &quot;dashArray&quot;: null, &quot;dashOffset&quot;: null, &quot;fill&quot;: false, &quot;fillColor&quot;: &quot;orange&quot;, &quot;fillOpacity&quot;: 0.2, &quot;fillRule&quot;: &quot;evenodd&quot;, &quot;lineCap&quot;: &quot;round&quot;, &quot;lineJoin&quot;: &quot;round&quot;, &quot;noClip&quot;: false, &quot;opacity&quot;: 1.0, &quot;smoothFactor&quot;: 1.0, &quot;stroke&quot;: true, &quot;weight&quot;: 3}\n",
              "            ).addTo(map_d37d62e13cdef63c5452cc803d624c1b);\n",
              "        \n",
              "    \n",
              "            var poly_line_436899de5655df2df6e4f5e61f827985 = L.polyline(\n",
              "                [[28.6138954, 77.2090057], [30.72984395, 76.78414567016054]],\n",
              "                {&quot;bubblingMouseEvents&quot;: true, &quot;color&quot;: &quot;orange&quot;, &quot;dashArray&quot;: null, &quot;dashOffset&quot;: null, &quot;fill&quot;: false, &quot;fillColor&quot;: &quot;orange&quot;, &quot;fillOpacity&quot;: 0.2, &quot;fillRule&quot;: &quot;evenodd&quot;, &quot;lineCap&quot;: &quot;round&quot;, &quot;lineJoin&quot;: &quot;round&quot;, &quot;noClip&quot;: false, &quot;opacity&quot;: 1.0, &quot;smoothFactor&quot;: 1.0, &quot;stroke&quot;: true, &quot;weight&quot;: 3}\n",
              "            ).addTo(map_d37d62e13cdef63c5452cc803d624c1b);\n",
              "        \n",
              "    \n",
              "            var poly_line_81b50950e4d5010156cd90f4c9472906 = L.polyline(\n",
              "                [[28.6138954, 77.2090057], [28.7931703, 76.1391283]],\n",
              "                {&quot;bubblingMouseEvents&quot;: true, &quot;color&quot;: &quot;orange&quot;, &quot;dashArray&quot;: null, &quot;dashOffset&quot;: null, &quot;fill&quot;: false, &quot;fillColor&quot;: &quot;orange&quot;, &quot;fillOpacity&quot;: 0.2, &quot;fillRule&quot;: &quot;evenodd&quot;, &quot;lineCap&quot;: &quot;round&quot;, &quot;lineJoin&quot;: &quot;round&quot;, &quot;noClip&quot;: false, &quot;opacity&quot;: 1.0, &quot;smoothFactor&quot;: 1.0, &quot;stroke&quot;: true, &quot;weight&quot;: 3}\n",
              "            ).addTo(map_d37d62e13cdef63c5452cc803d624c1b);\n",
              "        \n",
              "    \n",
              "            var poly_line_a518c9fac64a091d3ac36987485921ec = L.polyline(\n",
              "                [[28.6138954, 77.2090057], [26.9154576, 75.8189817]],\n",
              "                {&quot;bubblingMouseEvents&quot;: true, &quot;color&quot;: &quot;orange&quot;, &quot;dashArray&quot;: null, &quot;dashOffset&quot;: null, &quot;fill&quot;: false, &quot;fillColor&quot;: &quot;orange&quot;, &quot;fillOpacity&quot;: 0.2, &quot;fillRule&quot;: &quot;evenodd&quot;, &quot;lineCap&quot;: &quot;round&quot;, &quot;lineJoin&quot;: &quot;round&quot;, &quot;noClip&quot;: false, &quot;opacity&quot;: 1.0, &quot;smoothFactor&quot;: 1.0, &quot;stroke&quot;: true, &quot;weight&quot;: 3}\n",
              "            ).addTo(map_d37d62e13cdef63c5452cc803d624c1b);\n",
              "        \n",
              "    \n",
              "            var poly_line_6bdb9855cb72865742862b8443d2c328 = L.polyline(\n",
              "                [[28.6138954, 77.2090057], [26.4609135, 80.3217588]],\n",
              "                {&quot;bubblingMouseEvents&quot;: true, &quot;color&quot;: &quot;orange&quot;, &quot;dashArray&quot;: null, &quot;dashOffset&quot;: null, &quot;fill&quot;: false, &quot;fillColor&quot;: &quot;orange&quot;, &quot;fillOpacity&quot;: 0.2, &quot;fillRule&quot;: &quot;evenodd&quot;, &quot;lineCap&quot;: &quot;round&quot;, &quot;lineJoin&quot;: &quot;round&quot;, &quot;noClip&quot;: false, &quot;opacity&quot;: 1.0, &quot;smoothFactor&quot;: 1.0, &quot;stroke&quot;: true, &quot;weight&quot;: 3}\n",
              "            ).addTo(map_d37d62e13cdef63c5452cc803d624c1b);\n",
              "        \n",
              "    \n",
              "            var poly_line_2ac5bf1a788baa2aa5a5f1f86c2c6aa7 = L.polyline(\n",
              "                [[11.0018115, 76.9628425], [12.9767936, 77.590082]],\n",
              "                {&quot;bubblingMouseEvents&quot;: true, &quot;color&quot;: &quot;orange&quot;, &quot;dashArray&quot;: null, &quot;dashOffset&quot;: null, &quot;fill&quot;: false, &quot;fillColor&quot;: &quot;orange&quot;, &quot;fillOpacity&quot;: 0.2, &quot;fillRule&quot;: &quot;evenodd&quot;, &quot;lineCap&quot;: &quot;round&quot;, &quot;lineJoin&quot;: &quot;round&quot;, &quot;noClip&quot;: false, &quot;opacity&quot;: 1.0, &quot;smoothFactor&quot;: 1.0, &quot;stroke&quot;: true, &quot;weight&quot;: 3}\n",
              "            ).addTo(map_d37d62e13cdef63c5452cc803d624c1b);\n",
              "        \n",
              "    \n",
              "            var poly_line_ddbb9c7457b6b55a818d6e827c6b8205 = L.polyline(\n",
              "                [[11.0018115, 76.9628425], [9.9261153, 78.1140983]],\n",
              "                {&quot;bubblingMouseEvents&quot;: true, &quot;color&quot;: &quot;orange&quot;, &quot;dashArray&quot;: null, &quot;dashOffset&quot;: null, &quot;fill&quot;: false, &quot;fillColor&quot;: &quot;orange&quot;, &quot;fillOpacity&quot;: 0.2, &quot;fillRule&quot;: &quot;evenodd&quot;, &quot;lineCap&quot;: &quot;round&quot;, &quot;lineJoin&quot;: &quot;round&quot;, &quot;noClip&quot;: false, &quot;opacity&quot;: 1.0, &quot;smoothFactor&quot;: 1.0, &quot;stroke&quot;: true, &quot;weight&quot;: 3}\n",
              "            ).addTo(map_d37d62e13cdef63c5452cc803d624c1b);\n",
              "        \n",
              "    \n",
              "            var poly_line_ec644d664a1f6dcc79388e67aea282b4 = L.polyline(\n",
              "                [[11.0018115, 76.9628425], [9.9674277, 76.2454436]],\n",
              "                {&quot;bubblingMouseEvents&quot;: true, &quot;color&quot;: &quot;orange&quot;, &quot;dashArray&quot;: null, &quot;dashOffset&quot;: null, &quot;fill&quot;: false, &quot;fillColor&quot;: &quot;orange&quot;, &quot;fillOpacity&quot;: 0.2, &quot;fillRule&quot;: &quot;evenodd&quot;, &quot;lineCap&quot;: &quot;round&quot;, &quot;lineJoin&quot;: &quot;round&quot;, &quot;noClip&quot;: false, &quot;opacity&quot;: 1.0, &quot;smoothFactor&quot;: 1.0, &quot;stroke&quot;: true, &quot;weight&quot;: 3}\n",
              "            ).addTo(map_d37d62e13cdef63c5452cc803d624c1b);\n",
              "        \n",
              "    \n",
              "            var poly_line_aa3731ebb046983e7caad904699e5b6e = L.polyline(\n",
              "                [[11.0018115, 76.9628425], [13.0836939, 80.270186]],\n",
              "                {&quot;bubblingMouseEvents&quot;: true, &quot;color&quot;: &quot;orange&quot;, &quot;dashArray&quot;: null, &quot;dashOffset&quot;: null, &quot;fill&quot;: false, &quot;fillColor&quot;: &quot;orange&quot;, &quot;fillOpacity&quot;: 0.2, &quot;fillRule&quot;: &quot;evenodd&quot;, &quot;lineCap&quot;: &quot;round&quot;, &quot;lineJoin&quot;: &quot;round&quot;, &quot;noClip&quot;: false, &quot;opacity&quot;: 1.0, &quot;smoothFactor&quot;: 1.0, &quot;stroke&quot;: true, &quot;weight&quot;: 3}\n",
              "            ).addTo(map_d37d62e13cdef63c5452cc803d624c1b);\n",
              "        \n",
              "    \n",
              "            var poly_line_cb7a45859f52a4f881f510d69d6d3ed4 = L.polyline(\n",
              "                [[11.0018115, 76.9628425], [12.3051828, 76.6553609]],\n",
              "                {&quot;bubblingMouseEvents&quot;: true, &quot;color&quot;: &quot;orange&quot;, &quot;dashArray&quot;: null, &quot;dashOffset&quot;: null, &quot;fill&quot;: false, &quot;fillColor&quot;: &quot;orange&quot;, &quot;fillOpacity&quot;: 0.2, &quot;fillRule&quot;: &quot;evenodd&quot;, &quot;lineCap&quot;: &quot;round&quot;, &quot;lineJoin&quot;: &quot;round&quot;, &quot;noClip&quot;: false, &quot;opacity&quot;: 1.0, &quot;smoothFactor&quot;: 1.0, &quot;stroke&quot;: true, &quot;weight&quot;: 3}\n",
              "            ).addTo(map_d37d62e13cdef63c5452cc803d624c1b);\n",
              "        \n",
              "    \n",
              "            tile_layer_aba05a1c0ebe45cb3626f3e53a63eabb.addTo(map_d37d62e13cdef63c5452cc803d624c1b);\n",
              "        \n",
              "&lt;/script&gt;\n",
              "&lt;/html&gt;\" style=\"position:absolute;width:100%;height:100%;left:0;top:0;border:none !important;\" allowfullscreen webkitallowfullscreen mozallowfullscreen></iframe></div></div>"
            ]
          },
          "metadata": {},
          "execution_count": 620
        }
      ]
    },
    {
      "cell_type": "code",
      "source": [],
      "metadata": {
        "id": "fj1pjPfv2EsD"
      },
      "execution_count": 620,
      "outputs": []
    }
  ]
}