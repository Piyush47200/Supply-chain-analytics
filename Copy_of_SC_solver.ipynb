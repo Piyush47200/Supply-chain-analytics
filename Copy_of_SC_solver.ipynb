{
  "nbformat": 4,
  "nbformat_minor": 0,
  "metadata": {
    "colab": {
      "provenance": [],
      "authorship_tag": "ABX9TyNDq7Tr1Vo9hnInWcejF39D"
    },
    "kernelspec": {
      "name": "python3",
      "display_name": "Python 3"
    },
    "language_info": {
      "name": "python"
    }
  },
  "cells": [
    {
      "cell_type": "markdown",
      "source": [
        "Validation: 1. Model works for multi DC, multi customer locations\n",
        "2. Testing yet to be done for multi port, multi DC and multi customer locations."
      ],
      "metadata": {
        "id": "8hwgvFHlywqL"
      }
    },
    {
      "cell_type": "markdown",
      "source": [
        "Install libraries"
      ],
      "metadata": {
        "id": "IrfDGmcxw0MI"
      }
    },
    {
      "cell_type": "code",
      "source": [
        "!pip install geopy\n",
        "!pip install openrouteservice\n",
        "!pip install gurobipy"
      ],
      "metadata": {
        "colab": {
          "base_uri": "https://localhost:8080/"
        },
        "id": "lRuvvLqROOoN",
        "outputId": "3ce3593a-e7df-4a28-b23a-89d829a3bb32",
        "collapsed": true
      },
      "execution_count": null,
      "outputs": [
        {
          "output_type": "stream",
          "name": "stdout",
          "text": [
            "Requirement already satisfied: geopy in /usr/local/lib/python3.10/dist-packages (2.4.1)\n",
            "Requirement already satisfied: geographiclib<3,>=1.52 in /usr/local/lib/python3.10/dist-packages (from geopy) (2.0)\n",
            "Collecting openrouteservice\n",
            "  Downloading openrouteservice-2.3.3-py3-none-any.whl.metadata (9.2 kB)\n",
            "Requirement already satisfied: requests>=2.0 in /usr/local/lib/python3.10/dist-packages (from openrouteservice) (2.32.3)\n",
            "Requirement already satisfied: charset-normalizer<4,>=2 in /usr/local/lib/python3.10/dist-packages (from requests>=2.0->openrouteservice) (3.4.0)\n",
            "Requirement already satisfied: idna<4,>=2.5 in /usr/local/lib/python3.10/dist-packages (from requests>=2.0->openrouteservice) (3.10)\n",
            "Requirement already satisfied: urllib3<3,>=1.21.1 in /usr/local/lib/python3.10/dist-packages (from requests>=2.0->openrouteservice) (2.2.3)\n",
            "Requirement already satisfied: certifi>=2017.4.17 in /usr/local/lib/python3.10/dist-packages (from requests>=2.0->openrouteservice) (2024.8.30)\n",
            "Downloading openrouteservice-2.3.3-py3-none-any.whl (33 kB)\n",
            "Installing collected packages: openrouteservice\n",
            "Successfully installed openrouteservice-2.3.3\n",
            "Collecting gurobipy\n",
            "  Downloading gurobipy-11.0.3-cp310-cp310-manylinux2014_x86_64.manylinux_2_17_x86_64.whl.metadata (15 kB)\n",
            "Downloading gurobipy-11.0.3-cp310-cp310-manylinux2014_x86_64.manylinux_2_17_x86_64.whl (13.4 MB)\n",
            "\u001b[2K   \u001b[90m━━━━━━━━━━━━━━━━━━━━━━━━━━━━━━━━━━━━━━━━\u001b[0m \u001b[32m13.4/13.4 MB\u001b[0m \u001b[31m67.5 MB/s\u001b[0m eta \u001b[36m0:00:00\u001b[0m\n",
            "\u001b[?25hInstalling collected packages: gurobipy\n",
            "Successfully installed gurobipy-11.0.3\n"
          ]
        }
      ]
    },
    {
      "cell_type": "markdown",
      "source": [
        "Import libraries"
      ],
      "metadata": {
        "id": "Dx0iv8aCpefd"
      }
    },
    {
      "cell_type": "code",
      "execution_count": 425,
      "metadata": {
        "id": "lhcZ9wnzjiDX"
      },
      "outputs": [],
      "source": [
        "from geopy.geocoders import Nominatim\n",
        "import pandas as pd\n",
        "import time\n",
        "import openrouteservice\n",
        "import math\n"
      ]
    },
    {
      "cell_type": "markdown",
      "source": [
        "Load port, DC and customer sheets."
      ],
      "metadata": {
        "id": "5d_7UQzWxAIF"
      }
    },
    {
      "cell_type": "code",
      "source": [
        "df_port_city=pd.read_excel('Port.xlsx')\n",
        "df_DC_city=pd.read_excel('DC.xlsx')\n",
        "df_customer_city=pd.read_excel('Customer.xlsx')"
      ],
      "metadata": {
        "id": "m1FOT2Jew8Cf"
      },
      "execution_count": 426,
      "outputs": []
    },
    {
      "cell_type": "code",
      "source": [
        "print(df_port_city)\n",
        "print(df_DC_city)\n",
        "print(df_customer_city)"
      ],
      "metadata": {
        "colab": {
          "base_uri": "https://localhost:8080/"
        },
        "id": "AwtNvUnbE133",
        "outputId": "21a5c676-7941-404c-a8e4-f88064ec4786"
      },
      "execution_count": 427,
      "outputs": [
        {
          "output_type": "stream",
          "name": "stdout",
          "text": [
            "          City\n",
            "0  NHAVA SHEVA\n",
            "         City  Fixed Cost\n",
            "0   New Delhi       10000\n",
            "1  Coimbatore       20000\n",
            "2     Kolkata     2000000\n",
            "3      Mumbai     2000000\n",
            "          City  Demand\n",
            "0    Bengaluru    3000\n",
            "1      Madurai    3200\n",
            "2        Kochi    3300\n",
            "3      Chennai    3400\n",
            "4       Mysuru    3500\n",
            "5       Meerut    3600\n",
            "6      Aligarh    3700\n",
            "7         Agra    3800\n",
            "8   Chandigarh    3900\n",
            "9      Bhiwani    4000\n",
            "10      Jaipur    4100\n",
            "11      Kanpur    4200\n"
          ]
        }
      ]
    },
    {
      "cell_type": "markdown",
      "source": [
        "Defining dataframes for port, DC and customer to hold coordinates data."
      ],
      "metadata": {
        "id": "gaVQZS-4MEuy"
      }
    },
    {
      "cell_type": "code",
      "source": [
        "df_coordinate_port_city=pd.DataFrame(columns=['City','Latitude','Longitude'])\n",
        "df_coordinate_DC_city=pd.DataFrame(columns=['City','Latitude','Longitude'])\n",
        "df_coordinate_customer_city = pd.DataFrame(columns=['City', 'Latitude', 'Longitude', 'Demand'])"
      ],
      "metadata": {
        "id": "sT91Rv3fNjZb"
      },
      "execution_count": 428,
      "outputs": []
    },
    {
      "cell_type": "markdown",
      "source": [
        "Finding coordinates for ports"
      ],
      "metadata": {
        "id": "Kf1KvSjyNNGk"
      }
    },
    {
      "cell_type": "code",
      "source": [
        "geolocator = Nominatim(user_agent=\"your_email_or_app_name\")\n",
        "for i in range(0, len(df_port_city)):\n",
        "  location = geolocator.geocode(df_port_city['City'].iloc[i])\n",
        "  if location:\n",
        "    df_coordinate_port_city.loc[i] = [df_port_city['City'].iloc[i], location.latitude, location.longitude]\n",
        "  else:\n",
        "    df_coordinate_port_city.loc[i] = [df_port_city['City'].iloc[i], None, None]"
      ],
      "metadata": {
        "id": "CxVFZGZ_NA8j"
      },
      "execution_count": 429,
      "outputs": []
    },
    {
      "cell_type": "markdown",
      "source": [
        "Exporting port coordinates to excel"
      ],
      "metadata": {
        "id": "d7-2czxnNPvT"
      }
    },
    {
      "cell_type": "code",
      "source": [
        "df_coordinate_port_city.to_excel('coordinates_port_city.xlsx', index=False)"
      ],
      "metadata": {
        "id": "f9ISTmtlNTEC"
      },
      "execution_count": 430,
      "outputs": []
    },
    {
      "cell_type": "markdown",
      "source": [
        "Finding coordinates for DC"
      ],
      "metadata": {
        "id": "ZLj_mtuqMmiN"
      }
    },
    {
      "cell_type": "code",
      "source": [
        "import pandas as pd\n",
        "from geopy.geocoders import Nominatim\n",
        "\n",
        "# Assuming df_coordinate_DC_city was initialized as:\n",
        "# df_coordinate_DC_city = pd.DataFrame(columns=['City', 'Latitude', 'Longitude'])\n",
        "\n",
        "# Modify the code as follows:\n",
        "# Define columns for df_coordinate_DC_city if it doesn't exist\n",
        "if df_coordinate_DC_city.empty:\n",
        "  df_coordinate_DC_city = pd.DataFrame(columns=['City', 'Latitude', 'Longitude', 'Fixed Cost'])\n",
        "\n",
        "for i in range(0, len(df_DC_city)):\n",
        "  location = geolocator.geocode(df_DC_city['City'].iloc[i])\n",
        "  if location:\n",
        "    # Assign values to the row, including the 'Fixed Cost' column\n",
        "    df_coordinate_DC_city.loc[i] = [df_DC_city['City'].iloc[i], location.latitude, location.longitude, df_DC_city['Fixed Cost'].iloc[i]]\n",
        "  else:\n",
        "    # Assign values to the row, including the 'Fixed Cost' column and None for coordinates\n",
        "    df_coordinate_DC_city.loc[i] = [df_DC_city['City'].iloc[i], None, None, df_DC_city['Fixed Cost'].iloc[i]]"
      ],
      "metadata": {
        "id": "CvIkQXG9MZv6"
      },
      "execution_count": 431,
      "outputs": []
    },
    {
      "cell_type": "markdown",
      "source": [
        "Exporting DC coordinates to excel"
      ],
      "metadata": {
        "id": "uxgMkTMWMqgW"
      }
    },
    {
      "cell_type": "code",
      "source": [
        "df_coordinate_DC_city.to_excel('coordinates_DC_city.xlsx', index=False)"
      ],
      "metadata": {
        "id": "Rf6tV_orMgQZ"
      },
      "execution_count": 432,
      "outputs": []
    },
    {
      "cell_type": "markdown",
      "source": [
        "Finding coordinates for customer"
      ],
      "metadata": {
        "id": "-9xCOooVMUzJ"
      }
    },
    {
      "cell_type": "code",
      "source": [
        "geolocator = Nominatim(user_agent=\"your_email_or_app_name\")\n",
        "# Increased timeout to 10 seconds\n",
        "for i in range(0, len(df_customer_city)):\n",
        "  try:\n",
        "    location = geolocator.geocode(df_customer_city['City'].iloc[i], timeout=10)\n",
        "    if location:\n",
        "      df_coordinate_customer_city.loc[i] = [df_customer_city['City'].iloc[i], location.latitude, location.longitude,df_customer_city['Demand'].iloc[i]]\n",
        "    else:\n",
        "      df_coordinate_customer_city.loc[i] = [df_customer_city['City'].iloc[i], None, None,df_customer_city['Demand'].iloc[i]]\n",
        "    #time.sleep(2) # Wait 2 seconds between requests to avoid rate limiting\n",
        "  except GeocoderTimedOut:\n",
        "    print(\"Geocoding timed out for city:\", df_customer_city['City'].iloc[i])\n",
        "    df_coordinate_customer_city.loc[i] = [df_customer_city['City'].iloc[i], None, None,df_customer_city['Demand'].iloc[i]]\n",
        "  except GeocoderUnavailable:\n",
        "    print(\"Geocoder service unavailable for city:\", df_customer_city['City'].iloc[i])\n",
        "    df_coordinate_customer_city.loc[i] = [df_customer_city['City'].iloc[i], None, None,df_customer_city['Demand'].iloc[i]]\n",
        "  except Exception as e:\n",
        "    print(\"Error geocoding city:\", df_customer_city['City'].iloc[i], \"-\", e)\n",
        "    df_coordinate_customer_city.loc[i] = [df_customer_city['City'].iloc[i], None, None,df_customer_city['Demand'].iloc[i]]"
      ],
      "metadata": {
        "collapsed": true,
        "id": "k6ViT35yqc_0"
      },
      "execution_count": 433,
      "outputs": []
    },
    {
      "cell_type": "markdown",
      "source": [
        "Exporting coordintates of customers to excel."
      ],
      "metadata": {
        "id": "oEWuJvT2xhI2"
      }
    },
    {
      "cell_type": "code",
      "source": [
        "df_coordinate_customer_city.to_excel('coordinate_customer_city.xlsx', index=False)"
      ],
      "metadata": {
        "id": "8fwd2YBctLRU"
      },
      "execution_count": 434,
      "outputs": []
    },
    {
      "cell_type": "markdown",
      "source": [
        "Define a new dataframe"
      ],
      "metadata": {
        "id": "-EWzFMYkzI5J"
      }
    },
    {
      "cell_type": "code",
      "source": [
        "print(df_coordinate_customer_city)"
      ],
      "metadata": {
        "id": "r8Ro2NBRy6n7",
        "colab": {
          "base_uri": "https://localhost:8080/"
        },
        "outputId": "f3b75f16-f846-4624-ce95-46b195518f00"
      },
      "execution_count": 435,
      "outputs": [
        {
          "output_type": "stream",
          "name": "stdout",
          "text": [
            "          City   Latitude  Longitude  Demand\n",
            "0    Bengaluru  12.976794  77.590082    3000\n",
            "1      Madurai   9.926115  78.114098    3200\n",
            "2        Kochi   9.967428  76.245444    3300\n",
            "3      Chennai  13.083694  80.270186    3400\n",
            "4       Mysuru  12.305183  76.655361    3500\n",
            "5       Meerut  28.996330  77.706192    3600\n",
            "6      Aligarh  27.876107  78.135815    3700\n",
            "7         Agra  27.175255  78.009816    3800\n",
            "8   Chandigarh  30.729844  76.784146    3900\n",
            "9      Bhiwani  28.793170  76.139128    4000\n",
            "10      Jaipur  26.915458  75.818982    4100\n",
            "11      Kanpur  26.460914  80.321759    4200\n"
          ]
        }
      ]
    },
    {
      "cell_type": "code",
      "source": [
        "print(df_coordinate_port_city)"
      ],
      "metadata": {
        "id": "HPliCJuDznLc",
        "colab": {
          "base_uri": "https://localhost:8080/"
        },
        "outputId": "5600fb6c-90fd-4059-de1d-c711d84da8e1"
      },
      "execution_count": 436,
      "outputs": [
        {
          "output_type": "stream",
          "name": "stdout",
          "text": [
            "          City   Latitude  Longitude\n",
            "0  NHAVA SHEVA  18.945031  72.949423\n"
          ]
        }
      ]
    },
    {
      "cell_type": "markdown",
      "source": [],
      "metadata": {
        "id": "gTCq8k_QPcCa"
      }
    },
    {
      "cell_type": "code",
      "source": [
        "print(df_coordinate_DC_city)"
      ],
      "metadata": {
        "id": "LAi5k0CU2NrR",
        "colab": {
          "base_uri": "https://localhost:8080/"
        },
        "outputId": "f04535fa-dcc9-4a75-c3f4-90cc28056aa6"
      },
      "execution_count": 437,
      "outputs": [
        {
          "output_type": "stream",
          "name": "stdout",
          "text": [
            "         City   Latitude  Longitude  Fixed Cost\n",
            "0   New Delhi  28.613895  77.209006       10000\n",
            "1  Coimbatore  11.001812  76.962842       20000\n",
            "2     Kolkata  22.572646  88.363895     2000000\n",
            "3      Mumbai  19.054999  72.869203     2000000\n"
          ]
        }
      ]
    },
    {
      "cell_type": "markdown",
      "source": [
        "Defining two new dataframes for distance calculations"
      ],
      "metadata": {
        "id": "S9ipchI6pwn-"
      }
    },
    {
      "cell_type": "code",
      "source": [
        "df_distance_port_DC=pd.DataFrame(columns=['Source','Destination','Distance'])\n",
        "df_distance_DC_customer=pd.DataFrame(columns=['Source','Destination','Distance'])"
      ],
      "metadata": {
        "id": "P1M9KvlvQNyY"
      },
      "execution_count": 438,
      "outputs": []
    },
    {
      "cell_type": "markdown",
      "source": [
        "Defining a function which will calculate the distance"
      ],
      "metadata": {
        "id": "EzqSaaC3p1pL"
      }
    },
    {
      "cell_type": "code",
      "source": [
        "def distance(lat1, lon1, lat2, lon2):\n",
        "  client = openrouteservice.Client(key='5b3ce3597851110001cf62489d683e3d831942f3adab13e6a2e5a7dc')\n",
        "\n",
        "# Coordinates of New Delhi and Kolkata (longitude, latitude)\n",
        "  source = (lon1, lat1)\n",
        "  destination = (lon2, lat2)\n",
        "  routes = client.directions(coordinates=[source, destination],profile='driving-hgv', format='geojson')\n",
        "\n",
        "  distance_meters = routes['features'][0]['properties']['segments'][0]['distance']\n",
        "  distance_km = distance_meters / 1000\n",
        "  #print(f\"Road distance between New Delhi and Kolkata is {distance_km:.2f} km\")\n",
        "  return distance_km"
      ],
      "metadata": {
        "id": "A3gBOvAKadR8"
      },
      "execution_count": 439,
      "outputs": []
    },
    {
      "cell_type": "markdown",
      "source": [
        "Estimating distance for port to DC"
      ],
      "metadata": {
        "id": "tJVO0XxNp677"
      }
    },
    {
      "cell_type": "code",
      "source": [
        "k=0\n",
        "for j in range(0,len(df_coordinate_port_city)):\n",
        "  for i in range(0,len(df_coordinate_DC_city)):\n",
        "    dist=distance(df_coordinate_port_city['Latitude'].iloc[j], df_coordinate_port_city['Longitude'].iloc[j], df_coordinate_DC_city['Latitude'].iloc[i], df_coordinate_DC_city['Longitude'].iloc[i])\n",
        "    df_distance_port_DC.loc[k]=[df_coordinate_port_city['City'].iloc[j],df_coordinate_DC_city['City'].iloc[i],dist]\n",
        "    k=k+1\n"
      ],
      "metadata": {
        "id": "nDgfhRx_QNwY"
      },
      "execution_count": 440,
      "outputs": []
    },
    {
      "cell_type": "code",
      "source": [
        "print(df_distance_port_DC)\n",
        "print(df_distance_port_DC['Distance'][0])"
      ],
      "metadata": {
        "colab": {
          "base_uri": "https://localhost:8080/"
        },
        "id": "o4qQNIisPdjV",
        "outputId": "d434c31f-48cb-4128-ef22-decea49f6f96"
      },
      "execution_count": 441,
      "outputs": [
        {
          "output_type": "stream",
          "name": "stdout",
          "text": [
            "        Source Destination   Distance\n",
            "0  NHAVA SHEVA   New Delhi  1482.7279\n",
            "1  NHAVA SHEVA  Coimbatore  1324.2070\n",
            "2  NHAVA SHEVA     Kolkata  1932.8627\n",
            "3  NHAVA SHEVA      Mumbai    47.8468\n",
            "1482.7278999999999\n"
          ]
        }
      ]
    },
    {
      "cell_type": "markdown",
      "source": [
        "Estimating distance for DC to customer"
      ],
      "metadata": {
        "id": "UW1o0dTUp_HX"
      }
    },
    {
      "cell_type": "code",
      "source": [
        "k=0\n",
        "for j in range(0,len(df_coordinate_DC_city)):\n",
        "  for i in range(0,len(df_coordinate_customer_city)):\n",
        "    dist=distance(df_coordinate_DC_city['Latitude'].iloc[j], df_coordinate_DC_city['Longitude'].iloc[j], df_coordinate_customer_city['Latitude'].iloc[i], df_coordinate_customer_city['Longitude'].iloc[i])\n",
        "    df_distance_DC_customer.loc[k]=[df_coordinate_DC_city['City'].iloc[j],df_coordinate_customer_city['City'].iloc[i],dist]\n",
        "    k=k+1"
      ],
      "metadata": {
        "id": "-lkJZb6pXlF9",
        "colab": {
          "base_uri": "https://localhost:8080/"
        },
        "outputId": "efa35bc3-2dff-4a8d-d165-7c1b010831ea"
      },
      "execution_count": 442,
      "outputs": [
        {
          "output_type": "stream",
          "name": "stderr",
          "text": [
            "/usr/local/lib/python3.10/dist-packages/openrouteservice/client.py:211: UserWarning: Rate limit exceeded. Retrying for the 1st time.\n",
            "  warnings.warn('Rate limit exceeded. Retrying for the {0}{1} time.'.format(retry_counter + 1,\n",
            "/usr/local/lib/python3.10/dist-packages/openrouteservice/client.py:211: UserWarning: Rate limit exceeded. Retrying for the 2nd time.\n",
            "  warnings.warn('Rate limit exceeded. Retrying for the {0}{1} time.'.format(retry_counter + 1,\n",
            "/usr/local/lib/python3.10/dist-packages/openrouteservice/client.py:211: UserWarning: Rate limit exceeded. Retrying for the 3rd time.\n",
            "  warnings.warn('Rate limit exceeded. Retrying for the {0}{1} time.'.format(retry_counter + 1,\n",
            "/usr/local/lib/python3.10/dist-packages/openrouteservice/client.py:211: UserWarning: Rate limit exceeded. Retrying for the 4th time.\n",
            "  warnings.warn('Rate limit exceeded. Retrying for the {0}{1} time.'.format(retry_counter + 1,\n",
            "/usr/local/lib/python3.10/dist-packages/openrouteservice/client.py:211: UserWarning: Rate limit exceeded. Retrying for the 5th time.\n",
            "  warnings.warn('Rate limit exceeded. Retrying for the {0}{1} time.'.format(retry_counter + 1,\n",
            "/usr/local/lib/python3.10/dist-packages/openrouteservice/client.py:211: UserWarning: Rate limit exceeded. Retrying for the 6th time.\n",
            "  warnings.warn('Rate limit exceeded. Retrying for the {0}{1} time.'.format(retry_counter + 1,\n",
            "/usr/local/lib/python3.10/dist-packages/openrouteservice/client.py:211: UserWarning: Rate limit exceeded. Retrying for the 7th time.\n",
            "  warnings.warn('Rate limit exceeded. Retrying for the {0}{1} time.'.format(retry_counter + 1,\n"
          ]
        }
      ]
    },
    {
      "cell_type": "code",
      "source": [
        "print(df_distance_DC_customer)\n",
        "df_distance_port_DC.to_excel('distance_port_DC.xlsx', index=False)\n",
        "df_distance_DC_customer.to_excel('distance_DC_customer.xlsx', index=False)"
      ],
      "metadata": {
        "colab": {
          "base_uri": "https://localhost:8080/"
        },
        "id": "Y1TbHDsaXlCF",
        "outputId": "486898d7-8147-44ee-f2b6-39dd667cfbb7"
      },
      "execution_count": 443,
      "outputs": [
        {
          "output_type": "stream",
          "name": "stdout",
          "text": [
            "        Source Destination   Distance\n",
            "0    New Delhi   Bengaluru  2110.0153\n",
            "1    New Delhi     Madurai  2542.9761\n",
            "2    New Delhi       Kochi  2650.2621\n",
            "3    New Delhi     Chennai  2173.4354\n",
            "4    New Delhi      Mysuru  2245.2512\n",
            "5    New Delhi      Meerut    83.1616\n",
            "6    New Delhi     Aligarh   157.6321\n",
            "7    New Delhi        Agra   200.9726\n",
            "8    New Delhi  Chandigarh   258.5782\n",
            "9    New Delhi     Bhiwani   125.2304\n",
            "10   New Delhi      Jaipur   272.6346\n",
            "11   New Delhi      Kanpur   450.0073\n",
            "12  Coimbatore   Bengaluru   338.9688\n",
            "13  Coimbatore     Madurai   228.0159\n",
            "14  Coimbatore       Kochi   197.8971\n",
            "15  Coimbatore     Chennai   513.7791\n",
            "16  Coimbatore      Mysuru   208.4256\n",
            "17  Coimbatore      Meerut  2500.2858\n",
            "18  Coimbatore     Aligarh  2355.9328\n",
            "19  Coimbatore        Agra  2264.1069\n",
            "20  Coimbatore  Chandigarh  2772.9097\n",
            "21  Coimbatore     Bhiwani  2508.8106\n",
            "22  Coimbatore      Jaipur  2259.6561\n",
            "23  Coimbatore      Kanpur  2143.8341\n",
            "24     Kolkata   Bengaluru  1887.1274\n",
            "25     Kolkata     Madurai  2109.7630\n",
            "26     Kolkata       Kochi  2297.9740\n",
            "27     Kolkata     Chennai  1663.9556\n",
            "28     Kolkata      Mysuru  2090.6890\n",
            "29     Kolkata      Meerut  1461.6813\n",
            "30     Kolkata     Aligarh  1324.7031\n",
            "31     Kolkata        Agra  1302.6392\n",
            "32     Kolkata  Chandigarh  1727.5482\n",
            "33     Kolkata     Bhiwani  1599.7849\n",
            "34     Kolkata      Jaipur  1535.1300\n",
            "35     Kolkata      Kanpur  1028.6980\n",
            "36      Mumbai   Bengaluru   994.2571\n",
            "37      Mumbai     Madurai  1420.8811\n",
            "38      Mumbai       Kochi  1355.3947\n",
            "39      Mumbai     Chennai  1251.9735\n",
            "40      Mumbai      Mysuru  1050.9386\n",
            "41      Mumbai      Meerut  1542.7494\n",
            "42      Mumbai     Aligarh  1491.6061\n",
            "43      Mumbai        Agra  1401.5558\n",
            "44      Mumbai  Chandigarh  1679.9323\n",
            "45      Mumbai     Bhiwani  1415.8332\n",
            "46      Mumbai      Jaipur  1166.6787\n",
            "47      Mumbai      Kanpur  1335.2829\n"
          ]
        }
      ]
    },
    {
      "source": [
        "import gurobipy as gp\n",
        "from gurobipy import GRB\n",
        "model = gp.Model(\"MyModel\")\n",
        "\n"
      ],
      "cell_type": "code",
      "metadata": {
        "id": "AZrZ7A5xhOgG"
      },
      "execution_count": 496,
      "outputs": []
    },
    {
      "cell_type": "code",
      "source": [
        "# Create an environment with your WLS license\n",
        "params = {\n",
        "\"WLSACCESSID\": '803f8182-ebee-4591-8370-b64a82f775ea',\n",
        "\"WLSSECRET\": '7696ca12-c44b-46e1-9875-a948ff7c3fdf',\n",
        "\"LICENSEID\": 2574149,\n",
        "}\n",
        "env = gp.Env(params=params)\n",
        "\n",
        "# Create the model within the Gurobi environment\n",
        "model = gp.Model(env=env)"
      ],
      "metadata": {
        "colab": {
          "base_uri": "https://localhost:8080/"
        },
        "id": "o83Xeg-eGxNz",
        "outputId": "5775938f-6e62-41ca-835b-1cb8a83a77cc"
      },
      "execution_count": 497,
      "outputs": [
        {
          "output_type": "stream",
          "name": "stdout",
          "text": [
            "Set parameter WLSAccessID\n",
            "Set parameter WLSSecret\n",
            "Set parameter LicenseID to value 2574149\n",
            "Academic license 2574149 - for non-commercial use only - registered to pi___@gmail.com\n"
          ]
        }
      ]
    },
    {
      "cell_type": "markdown",
      "source": [
        "Defining known variables"
      ],
      "metadata": {
        "id": "bFyZ6v8fDeBq"
      }
    },
    {
      "cell_type": "code",
      "source": [
        "c = 0.1\n",
        "r = 0\n",
        "for i in range(0, len(df_customer_city)):\n",
        "  r = r + df_customer_city['Demand'][i]\n",
        "print(r)"
      ],
      "metadata": {
        "id": "XkDlRX1slhun",
        "colab": {
          "base_uri": "https://localhost:8080/"
        },
        "outputId": "d1a42010-ccee-4057-e7fe-2f93b2f83b48"
      },
      "execution_count": 498,
      "outputs": [
        {
          "output_type": "stream",
          "name": "stdout",
          "text": [
            "43700\n"
          ]
        }
      ]
    },
    {
      "cell_type": "markdown",
      "source": [
        "Defining unknown variables"
      ],
      "metadata": {
        "id": "1E4HD3irDhEP"
      }
    },
    {
      "cell_type": "code",
      "source": [
        "x_var = {}\n",
        "y_var = {}\n",
        "z_var = {}"
      ],
      "metadata": {
        "id": "WV6GmeSFqMde"
      },
      "execution_count": 499,
      "outputs": []
    },
    {
      "cell_type": "code",
      "source": [
        "z = 0\n",
        "for i in range(0, len(df_DC_city)):\n",
        "  z_var[f\"z[{i}]\"] = model.addVar(vtype=GRB.BINARY, name=f\"z[{i}]\")\n",
        "  z = z + z_var[f\"z[{i}]\"]\n",
        "print(len(z_var))\n",
        "print(z_var)"
      ],
      "metadata": {
        "colab": {
          "base_uri": "https://localhost:8080/"
        },
        "id": "8NB-2ZNMjQcT",
        "outputId": "0c9bd39b-b73c-435d-d294-88b3518dd6bb"
      },
      "execution_count": 500,
      "outputs": [
        {
          "output_type": "stream",
          "name": "stdout",
          "text": [
            "4\n",
            "{'z[0]': <gurobi.Var *Awaiting Model Update*>, 'z[1]': <gurobi.Var *Awaiting Model Update*>, 'z[2]': <gurobi.Var *Awaiting Model Update*>, 'z[3]': <gurobi.Var *Awaiting Model Update*>}\n"
          ]
        }
      ]
    },
    {
      "cell_type": "code",
      "source": [
        "x = 0\n",
        "for j in range(0, len(df_DC_city)):\n",
        "  for i in range(0, len(df_port_city)):\n",
        "    x_var[f\"x[{i+j}]\"] = model.addVar(vtype=GRB.INTEGER, lb=0, name=f\"x[{i+j}]\")\n",
        "    x = x + x_var[f\"x[{i+j}]\"]*z_var[f\"z[{j}]\"]\n",
        "print(len(x_var))\n",
        "print(x_var)\n",
        "print(x)"
      ],
      "metadata": {
        "colab": {
          "base_uri": "https://localhost:8080/"
        },
        "collapsed": true,
        "id": "2ek-aRvdg_Di",
        "outputId": "480fd81c-e246-4c75-b9a3-0f3070430717"
      },
      "execution_count": 501,
      "outputs": [
        {
          "output_type": "stream",
          "name": "stdout",
          "text": [
            "4\n",
            "{'x[0]': <gurobi.Var *Awaiting Model Update*>, 'x[1]': <gurobi.Var *Awaiting Model Update*>, 'x[2]': <gurobi.Var *Awaiting Model Update*>, 'x[3]': <gurobi.Var *Awaiting Model Update*>}\n",
            "0.0 + [ <gurobi.Var *Awaiting Model Update*> * <gurobi.Var *Awaiting Model Update*> + <gurobi.Var *Awaiting Model Update*> * <gurobi.Var *Awaiting Model Update*> + <gurobi.Var *Awaiting Model Update*> * <gurobi.Var *Awaiting Model Update*> + <gurobi.Var *Awaiting Model Update*> * <gurobi.Var *Awaiting Model Update*> ]\n"
          ]
        }
      ]
    },
    {
      "cell_type": "code",
      "source": [
        "y = 0\n",
        "for j in range(0, len(df_DC_city)):\n",
        "  for i in range(0, len(df_DC_city)*len(df_customer_city)):\n",
        "    y_var[f\"y[{i}]\"] = model.addVar(vtype=GRB.INTEGER, lb=0, name=f\"y[{i}]\")\n",
        "    y = y + y_var[f\"y[{i}]\"]*z_var[f\"z[{j}]\"]\n",
        "print(len(y_var))\n",
        "print(y)"
      ],
      "metadata": {
        "colab": {
          "base_uri": "https://localhost:8080/"
        },
        "id": "sHGRfLAVilQ0",
        "outputId": "d7947121-5cda-4799-cb01-ba06d5786b46"
      },
      "execution_count": 502,
      "outputs": [
        {
          "output_type": "stream",
          "name": "stdout",
          "text": [
            "48\n",
            "0.0 + [ <gurobi.Var *Awaiting Model Update*> * <gurobi.Var *Awaiting Model Update*> + <gurobi.Var *Awaiting Model Update*> * <gurobi.Var *Awaiting Model Update*> + <gurobi.Var *Awaiting Model Update*> * <gurobi.Var *Awaiting Model Update*> + <gurobi.Var *Awaiting Model Update*> * <gurobi.Var *Awaiting Model Update*> + <gurobi.Var *Awaiting Model Update*> * <gurobi.Var *Awaiting Model Update*> + <gurobi.Var *Awaiting Model Update*> * <gurobi.Var *Awaiting Model Update*> + <gurobi.Var *Awaiting Model Update*> * <gurobi.Var *Awaiting Model Update*> + <gurobi.Var *Awaiting Model Update*> * <gurobi.Var *Awaiting Model Update*> + <gurobi.Var *Awaiting Model Update*> * <gurobi.Var *Awaiting Model Update*> + <gurobi.Var *Awaiting Model Update*> * <gurobi.Var *Awaiting Model Update*> + <gurobi.Var *Awaiting Model Update*> * <gurobi.Var *Awaiting Model Update*> + <gurobi.Var *Awaiting Model Update*> * <gurobi.Var *Awaiting Model Update*> + <gurobi.Var *Awaiting Model Update*> * <gurobi.Var *Awaiting Model Update*> + <gurobi.Var *Awaiting Model Update*> * <gurobi.Var *Awaiting Model Update*> + <gurobi.Var *Awaiting Model Update*> * <gurobi.Var *Awaiting Model Update*> + <gurobi.Var *Awaiting Model Update*> * <gurobi.Var *Awaiting Model Update*> + <gurobi.Var *Awaiting Model Update*> * <gurobi.Var *Awaiting Model Update*> + <gurobi.Var *Awaiting Model Update*> * <gurobi.Var *Awaiting Model Update*> + <gurobi.Var *Awaiting Model Update*> * <gurobi.Var *Awaiting Model Update*> + <gurobi.Var *Awaiting Model Update*> * <gurobi.Var *Awaiting Model Update*> + <gurobi.Var *Awaiting Model Update*> * <gurobi.Var *Awaiting Model Update*> + <gurobi.Var *Awaiting Model Update*> * <gurobi.Var *Awaiting Model Update*> + <gurobi.Var *Awaiting Model Update*> * <gurobi.Var *Awaiting Model Update*> + <gurobi.Var *Awaiting Model Update*> * <gurobi.Var *Awaiting Model Update*> + <gurobi.Var *Awaiting Model Update*> * <gurobi.Var *Awaiting Model Update*> + <gurobi.Var *Awaiting Model Update*> * <gurobi.Var *Awaiting Model Update*> + <gurobi.Var *Awaiting Model Update*> * <gurobi.Var *Awaiting Model Update*> + <gurobi.Var *Awaiting Model Update*> * <gurobi.Var *Awaiting Model Update*> + <gurobi.Var *Awaiting Model Update*> * <gurobi.Var *Awaiting Model Update*> + <gurobi.Var *Awaiting Model Update*> * <gurobi.Var *Awaiting Model Update*> + <gurobi.Var *Awaiting Model Update*> * <gurobi.Var *Awaiting Model Update*> + <gurobi.Var *Awaiting Model Update*> * <gurobi.Var *Awaiting Model Update*> + <gurobi.Var *Awaiting Model Update*> * <gurobi.Var *Awaiting Model Update*> + <gurobi.Var *Awaiting Model Update*> * <gurobi.Var *Awaiting Model Update*> + <gurobi.Var *Awaiting Model Update*> * <gurobi.Var *Awaiting Model Update*> + <gurobi.Var *Awaiting Model Update*> * <gurobi.Var *Awaiting Model Update*> + <gurobi.Var *Awaiting Model Update*> * <gurobi.Var *Awaiting Model Update*> + <gurobi.Var *Awaiting Model Update*> * <gurobi.Var *Awaiting Model Update*> + <gurobi.Var *Awaiting Model Update*> * <gurobi.Var *Awaiting Model Update*> + <gurobi.Var *Awaiting Model Update*> * <gurobi.Var *Awaiting Model Update*> + <gurobi.Var *Awaiting Model Update*> * <gurobi.Var *Awaiting Model Update*> + <gurobi.Var *Awaiting Model Update*> * <gurobi.Var *Awaiting Model Update*> + <gurobi.Var *Awaiting Model Update*> * <gurobi.Var *Awaiting Model Update*> + <gurobi.Var *Awaiting Model Update*> * <gurobi.Var *Awaiting Model Update*> + <gurobi.Var *Awaiting Model Update*> * <gurobi.Var *Awaiting Model Update*> + <gurobi.Var *Awaiting Model Update*> * <gurobi.Var *Awaiting Model Update*> + <gurobi.Var *Awaiting Model Update*> * <gurobi.Var *Awaiting Model Update*> + <gurobi.Var *Awaiting Model Update*> * <gurobi.Var *Awaiting Model Update*> + <gurobi.Var *Awaiting Model Update*> * <gurobi.Var *Awaiting Model Update*> + <gurobi.Var *Awaiting Model Update*> * <gurobi.Var *Awaiting Model Update*> + <gurobi.Var *Awaiting Model Update*> * <gurobi.Var *Awaiting Model Update*> + <gurobi.Var *Awaiting Model Update*> * <gurobi.Var *Awaiting Model Update*> + <gurobi.Var *Awaiting Model Update*> * <gurobi.Var *Awaiting Model Update*> + <gurobi.Var *Awaiting Model Update*> * <gurobi.Var *Awaiting Model Update*> + <gurobi.Var *Awaiting Model Update*> * <gurobi.Var *Awaiting Model Update*> + <gurobi.Var *Awaiting Model Update*> * <gurobi.Var *Awaiting Model Update*> + <gurobi.Var *Awaiting Model Update*> * <gurobi.Var *Awaiting Model Update*> + <gurobi.Var *Awaiting Model Update*> * <gurobi.Var *Awaiting Model Update*> + <gurobi.Var *Awaiting Model Update*> * <gurobi.Var *Awaiting Model Update*> + <gurobi.Var *Awaiting Model Update*> * <gurobi.Var *Awaiting Model Update*> + <gurobi.Var *Awaiting Model Update*> * <gurobi.Var *Awaiting Model Update*> + <gurobi.Var *Awaiting Model Update*> * <gurobi.Var *Awaiting Model Update*> + <gurobi.Var *Awaiting Model Update*> * <gurobi.Var *Awaiting Model Update*> + <gurobi.Var *Awaiting Model Update*> * <gurobi.Var *Awaiting Model Update*> + <gurobi.Var *Awaiting Model Update*> * <gurobi.Var *Awaiting Model Update*> + <gurobi.Var *Awaiting Model Update*> * <gurobi.Var *Awaiting Model Update*> + <gurobi.Var *Awaiting Model Update*> * <gurobi.Var *Awaiting Model Update*> + <gurobi.Var *Awaiting Model Update*> * <gurobi.Var *Awaiting Model Update*> + <gurobi.Var *Awaiting Model Update*> * <gurobi.Var *Awaiting Model Update*> + <gurobi.Var *Awaiting Model Update*> * <gurobi.Var *Awaiting Model Update*> + <gurobi.Var *Awaiting Model Update*> * <gurobi.Var *Awaiting Model Update*> + <gurobi.Var *Awaiting Model Update*> * <gurobi.Var *Awaiting Model Update*> + <gurobi.Var *Awaiting Model Update*> * <gurobi.Var *Awaiting Model Update*> + <gurobi.Var *Awaiting Model Update*> * <gurobi.Var *Awaiting Model Update*> + <gurobi.Var *Awaiting Model Update*> * <gurobi.Var *Awaiting Model Update*> + <gurobi.Var *Awaiting Model Update*> * <gurobi.Var *Awaiting Model Update*> + <gurobi.Var *Awaiting Model Update*> * <gurobi.Var *Awaiting Model Update*> + <gurobi.Var *Awaiting Model Update*> * <gurobi.Var *Awaiting Model Update*> + <gurobi.Var *Awaiting Model Update*> * <gurobi.Var *Awaiting Model Update*> + <gurobi.Var *Awaiting Model Update*> * <gurobi.Var *Awaiting Model Update*> + <gurobi.Var *Awaiting Model Update*> * <gurobi.Var *Awaiting Model Update*> + <gurobi.Var *Awaiting Model Update*> * <gurobi.Var *Awaiting Model Update*> + <gurobi.Var *Awaiting Model Update*> * <gurobi.Var *Awaiting Model Update*> + <gurobi.Var *Awaiting Model Update*> * <gurobi.Var *Awaiting Model Update*> + <gurobi.Var *Awaiting Model Update*> * <gurobi.Var *Awaiting Model Update*> + <gurobi.Var *Awaiting Model Update*> * <gurobi.Var *Awaiting Model Update*> + <gurobi.Var *Awaiting Model Update*> * <gurobi.Var *Awaiting Model Update*> + <gurobi.Var *Awaiting Model Update*> * <gurobi.Var *Awaiting Model Update*> + <gurobi.Var *Awaiting Model Update*> * <gurobi.Var *Awaiting Model Update*> + <gurobi.Var *Awaiting Model Update*> * <gurobi.Var *Awaiting Model Update*> + <gurobi.Var *Awaiting Model Update*> * <gurobi.Var *Awaiting Model Update*> + <gurobi.Var *Awaiting Model Update*> * <gurobi.Var *Awaiting Model Update*> + <gurobi.Var *Awaiting Model Update*> * <gurobi.Var *Awaiting Model Update*> + <gurobi.Var *Awaiting Model Update*> * <gurobi.Var *Awaiting Model Update*> + <gurobi.Var *Awaiting Model Update*> * <gurobi.Var *Awaiting Model Update*> + <gurobi.Var *Awaiting Model Update*> * <gurobi.Var *Awaiting Model Update*> + <gurobi.Var *Awaiting Model Update*> * <gurobi.Var *Awaiting Model Update*> + <gurobi.Var *Awaiting Model Update*> * <gurobi.Var *Awaiting Model Update*> + <gurobi.Var *Awaiting Model Update*> * <gurobi.Var *Awaiting Model Update*> + <gurobi.Var *Awaiting Model Update*> * <gurobi.Var *Awaiting Model Update*> + <gurobi.Var *Awaiting Model Update*> * <gurobi.Var *Awaiting Model Update*> + <gurobi.Var *Awaiting Model Update*> * <gurobi.Var *Awaiting Model Update*> + <gurobi.Var *Awaiting Model Update*> * <gurobi.Var *Awaiting Model Update*> + <gurobi.Var *Awaiting Model Update*> * <gurobi.Var *Awaiting Model Update*> + <gurobi.Var *Awaiting Model Update*> * <gurobi.Var *Awaiting Model Update*> + <gurobi.Var *Awaiting Model Update*> * <gurobi.Var *Awaiting Model Update*> + <gurobi.Var *Awaiting Model Update*> * <gurobi.Var *Awaiting Model Update*> + <gurobi.Var *Awaiting Model Update*> * <gurobi.Var *Awaiting Model Update*> + <gurobi.Var *Awaiting Model Update*> * <gurobi.Var *Awaiting Model Update*> + <gurobi.Var *Awaiting Model Update*> * <gurobi.Var *Awaiting Model Update*> + <gurobi.Var *Awaiting Model Update*> * <gurobi.Var *Awaiting Model Update*> + <gurobi.Var *Awaiting Model Update*> * <gurobi.Var *Awaiting Model Update*> + <gurobi.Var *Awaiting Model Update*> * <gurobi.Var *Awaiting Model Update*> + <gurobi.Var *Awaiting Model Update*> * <gurobi.Var *Awaiting Model Update*> + <gurobi.Var *Awaiting Model Update*> * <gurobi.Var *Awaiting Model Update*> + <gurobi.Var *Awaiting Model Update*> * <gurobi.Var *Awaiting Model Update*> + <gurobi.Var *Awaiting Model Update*> * <gurobi.Var *Awaiting Model Update*> + <gurobi.Var *Awaiting Model Update*> * <gurobi.Var *Awaiting Model Update*> + <gurobi.Var *Awaiting Model Update*> * <gurobi.Var *Awaiting Model Update*> + <gurobi.Var *Awaiting Model Update*> * <gurobi.Var *Awaiting Model Update*> + <gurobi.Var *Awaiting Model Update*> * <gurobi.Var *Awaiting Model Update*> + <gurobi.Var *Awaiting Model Update*> * <gurobi.Var *Awaiting Model Update*> + <gurobi.Var *Awaiting Model Update*> * <gurobi.Var *Awaiting Model Update*> + <gurobi.Var *Awaiting Model Update*> * <gurobi.Var *Awaiting Model Update*> + <gurobi.Var *Awaiting Model Update*> * <gurobi.Var *Awaiting Model Update*> + <gurobi.Var *Awaiting Model Update*> * <gurobi.Var *Awaiting Model Update*> + <gurobi.Var *Awaiting Model Update*> * <gurobi.Var *Awaiting Model Update*> + <gurobi.Var *Awaiting Model Update*> * <gurobi.Var *Awaiting Model Update*> + <gurobi.Var *Awaiting Model Update*> * <gurobi.Var *Awaiting Model Update*> + <gurobi.Var *Awaiting Model Update*> * <gurobi.Var *Awaiting Model Update*> + <gurobi.Var *Awaiting Model Update*> * <gurobi.Var *Awaiting Model Update*> + <gurobi.Var *Awaiting Model Update*> * <gurobi.Var *Awaiting Model Update*> + <gurobi.Var *Awaiting Model Update*> * <gurobi.Var *Awaiting Model Update*> + <gurobi.Var *Awaiting Model Update*> * <gurobi.Var *Awaiting Model Update*> + <gurobi.Var *Awaiting Model Update*> * <gurobi.Var *Awaiting Model Update*> + <gurobi.Var *Awaiting Model Update*> * <gurobi.Var *Awaiting Model Update*> + <gurobi.Var *Awaiting Model Update*> * <gurobi.Var *Awaiting Model Update*> + <gurobi.Var *Awaiting Model Update*> * <gurobi.Var *Awaiting Model Update*> + <gurobi.Var *Awaiting Model Update*> * <gurobi.Var *Awaiting Model Update*> + <gurobi.Var *Awaiting Model Update*> * <gurobi.Var *Awaiting Model Update*> + <gurobi.Var *Awaiting Model Update*> * <gurobi.Var *Awaiting Model Update*> + <gurobi.Var *Awaiting Model Update*> * <gurobi.Var *Awaiting Model Update*> + <gurobi.Var *Awaiting Model Update*> * <gurobi.Var *Awaiting Model Update*> + <gurobi.Var *Awaiting Model Update*> * <gurobi.Var *Awaiting Model Update*> + <gurobi.Var *Awaiting Model Update*> * <gurobi.Var *Awaiting Model Update*> + <gurobi.Var *Awaiting Model Update*> * <gurobi.Var *Awaiting Model Update*> + <gurobi.Var *Awaiting Model Update*> * <gurobi.Var *Awaiting Model Update*> + <gurobi.Var *Awaiting Model Update*> * <gurobi.Var *Awaiting Model Update*> + <gurobi.Var *Awaiting Model Update*> * <gurobi.Var *Awaiting Model Update*> + <gurobi.Var *Awaiting Model Update*> * <gurobi.Var *Awaiting Model Update*> + <gurobi.Var *Awaiting Model Update*> * <gurobi.Var *Awaiting Model Update*> + <gurobi.Var *Awaiting Model Update*> * <gurobi.Var *Awaiting Model Update*> + <gurobi.Var *Awaiting Model Update*> * <gurobi.Var *Awaiting Model Update*> + <gurobi.Var *Awaiting Model Update*> * <gurobi.Var *Awaiting Model Update*> + <gurobi.Var *Awaiting Model Update*> * <gurobi.Var *Awaiting Model Update*> + <gurobi.Var *Awaiting Model Update*> * <gurobi.Var *Awaiting Model Update*> + <gurobi.Var *Awaiting Model Update*> * <gurobi.Var *Awaiting Model Update*> + <gurobi.Var *Awaiting Model Update*> * <gurobi.Var *Awaiting Model Update*> + <gurobi.Var *Awaiting Model Update*> * <gurobi.Var *Awaiting Model Update*> + <gurobi.Var *Awaiting Model Update*> * <gurobi.Var *Awaiting Model Update*> + <gurobi.Var *Awaiting Model Update*> * <gurobi.Var *Awaiting Model Update*> + <gurobi.Var *Awaiting Model Update*> * <gurobi.Var *Awaiting Model Update*> + <gurobi.Var *Awaiting Model Update*> * <gurobi.Var *Awaiting Model Update*> + <gurobi.Var *Awaiting Model Update*> * <gurobi.Var *Awaiting Model Update*> + <gurobi.Var *Awaiting Model Update*> * <gurobi.Var *Awaiting Model Update*> + <gurobi.Var *Awaiting Model Update*> * <gurobi.Var *Awaiting Model Update*> + <gurobi.Var *Awaiting Model Update*> * <gurobi.Var *Awaiting Model Update*> + <gurobi.Var *Awaiting Model Update*> * <gurobi.Var *Awaiting Model Update*> + <gurobi.Var *Awaiting Model Update*> * <gurobi.Var *Awaiting Model Update*> + <gurobi.Var *Awaiting Model Update*> * <gurobi.Var *Awaiting Model Update*> + <gurobi.Var *Awaiting Model Update*> * <gurobi.Var *Awaiting Model Update*> + <gurobi.Var *Awaiting Model Update*> * <gurobi.Var *Awaiting Model Update*> + <gurobi.Var *Awaiting Model Update*> * <gurobi.Var *Awaiting Model Update*> + <gurobi.Var *Awaiting Model Update*> * <gurobi.Var *Awaiting Model Update*> + <gurobi.Var *Awaiting Model Update*> * <gurobi.Var *Awaiting Model Update*> + <gurobi.Var *Awaiting Model Update*> * <gurobi.Var *Awaiting Model Update*> + <gurobi.Var *Awaiting Model Update*> * <gurobi.Var *Awaiting Model Update*> + <gurobi.Var *Awaiting Model Update*> * <gurobi.Var *Awaiting Model Update*> + <gurobi.Var *Awaiting Model Update*> * <gurobi.Var *Awaiting Model Update*> + <gurobi.Var *Awaiting Model Update*> * <gurobi.Var *Awaiting Model Update*> + <gurobi.Var *Awaiting Model Update*> * <gurobi.Var *Awaiting Model Update*> + <gurobi.Var *Awaiting Model Update*> * <gurobi.Var *Awaiting Model Update*> + <gurobi.Var *Awaiting Model Update*> * <gurobi.Var *Awaiting Model Update*> + <gurobi.Var *Awaiting Model Update*> * <gurobi.Var *Awaiting Model Update*> + <gurobi.Var *Awaiting Model Update*> * <gurobi.Var *Awaiting Model Update*> + <gurobi.Var *Awaiting Model Update*> * <gurobi.Var *Awaiting Model Update*> + <gurobi.Var *Awaiting Model Update*> * <gurobi.Var *Awaiting Model Update*> + <gurobi.Var *Awaiting Model Update*> * <gurobi.Var *Awaiting Model Update*> + <gurobi.Var *Awaiting Model Update*> * <gurobi.Var *Awaiting Model Update*> + <gurobi.Var *Awaiting Model Update*> * <gurobi.Var *Awaiting Model Update*> + <gurobi.Var *Awaiting Model Update*> * <gurobi.Var *Awaiting Model Update*> + <gurobi.Var *Awaiting Model Update*> * <gurobi.Var *Awaiting Model Update*> ]\n"
          ]
        }
      ]
    },
    {
      "cell_type": "markdown",
      "source": [
        "Constraints"
      ],
      "metadata": {
        "id": "sfkn4aDmDpLq"
      }
    },
    {
      "cell_type": "markdown",
      "source": [
        "Demand of each customer is exactly met from DCs."
      ],
      "metadata": {
        "id": "qFNlu4v0x-Q4"
      }
    },
    {
      "cell_type": "code",
      "source": [
        "for j in range(0, len(df_customer_city)):\n",
        "  a = 0\n",
        "  for i in range(0, len(df_DC_city)):\n",
        "    a = a + y_var[f\"y[{j+len(df_customer_city)*i}]\"]\n",
        "  model.addConstr(a == df_customer_city['Demand'][j])"
      ],
      "metadata": {
        "id": "TrX-_CGWDQIm"
      },
      "execution_count": 503,
      "outputs": []
    },
    {
      "cell_type": "markdown",
      "source": [
        "1. Outgoing from ports = total demand\n",
        "2. Outgoing from DC = total demand\n",
        "3. atleast one DC is opened"
      ],
      "metadata": {
        "id": "IJNqlBEiyO7_"
      }
    },
    {
      "cell_type": "code",
      "source": [
        "model.addConstr(x == r, \"Demand_x\")\n",
        "model.addConstr(y == r, \"Demand_y\")\n",
        "model.addConstr(z >= 1, \"Z_non_zero\")"
      ],
      "metadata": {
        "id": "uaDX047totth",
        "colab": {
          "base_uri": "https://localhost:8080/"
        },
        "outputId": "56458bb1-fea4-4a8e-f184-f523e485e9b6"
      },
      "execution_count": 504,
      "outputs": [
        {
          "output_type": "execute_result",
          "data": {
            "text/plain": [
              "<gurobi.Constr *Awaiting Model Update*>"
            ]
          },
          "metadata": {},
          "execution_count": 504
        }
      ]
    },
    {
      "cell_type": "markdown",
      "source": [
        "Total incoming at a DC = Total outgoing from a DC"
      ],
      "metadata": {
        "id": "MqVkmsLVyfLa"
      }
    },
    {
      "cell_type": "code",
      "source": [
        "incoming = 0\n",
        "outgoing = 0\n",
        "for i in range(0, len(df_DC_city)):\n",
        "  for j in range(0, len(df_port_city)):\n",
        "    incoming = incoming + x_var[f\"x[{i+len(df_DC_city)*j}]\"]\n",
        "  for k in range(0, len(df_customer_city)):\n",
        "    outgoing = outgoing + y_var[f\"y[{k+len(df_customer_city)*i}]\"]\n",
        "  model.addConstr(incoming == outgoing)"
      ],
      "metadata": {
        "id": "Q3DCtlmdc7KO"
      },
      "execution_count": 505,
      "outputs": []
    },
    {
      "cell_type": "markdown",
      "source": [],
      "metadata": {
        "id": "osktIziWeMs9"
      }
    },
    {
      "cell_type": "code",
      "source": [
        "print(x)"
      ],
      "metadata": {
        "id": "1tWMhUrBotqo",
        "colab": {
          "base_uri": "https://localhost:8080/"
        },
        "outputId": "a5e05e6a-0c75-4355-f108-313158fe3519"
      },
      "execution_count": 506,
      "outputs": [
        {
          "output_type": "stream",
          "name": "stdout",
          "text": [
            "0.0 + [ <gurobi.Var *Awaiting Model Update*> * <gurobi.Var *Awaiting Model Update*> + <gurobi.Var *Awaiting Model Update*> * <gurobi.Var *Awaiting Model Update*> + <gurobi.Var *Awaiting Model Update*> * <gurobi.Var *Awaiting Model Update*> + <gurobi.Var *Awaiting Model Update*> * <gurobi.Var *Awaiting Model Update*> ]\n"
          ]
        }
      ]
    },
    {
      "cell_type": "markdown",
      "source": [
        "Pre-work for objective function"
      ],
      "metadata": {
        "id": "lNCgROfXDwhq"
      }
    },
    {
      "cell_type": "code",
      "source": [
        "p = 0\n",
        "for i in range(0, len(df_DC_city)):\n",
        "  for j in range(0, len(df_port_city)):\n",
        "    p = p + df_distance_port_DC['Distance'][i+len(df_DC_city)*j]*x_var[f\"x[{i+len(df_DC_city)*j}]\"]*z_var[f\"z[{i}]\"]\n",
        "p = p*c #This multiplication is fine as X is the linear expression before z is applied\n",
        "print(p)"
      ],
      "metadata": {
        "id": "dQbgiXCQotea",
        "colab": {
          "base_uri": "https://localhost:8080/"
        },
        "outputId": "d3cf32ff-0488-46ca-e527-936a6b50478d"
      },
      "execution_count": 507,
      "outputs": [
        {
          "output_type": "stream",
          "name": "stdout",
          "text": [
            "0.0 + [ 148.27279 <gurobi.Var *Awaiting Model Update*> * <gurobi.Var *Awaiting Model Update*> + 132.4207 <gurobi.Var *Awaiting Model Update*> * <gurobi.Var *Awaiting Model Update*> + 193.28627 <gurobi.Var *Awaiting Model Update*> * <gurobi.Var *Awaiting Model Update*> + 4.784680000000001 <gurobi.Var *Awaiting Model Update*> * <gurobi.Var *Awaiting Model Update*> ]\n"
          ]
        }
      ]
    },
    {
      "cell_type": "code",
      "source": [
        "q = 0\n",
        "for i in range(0, len(df_DC_city)):\n",
        "  for j in range(0, len(df_customer_city)):\n",
        "    print(df_distance_DC_customer['Distance'][len(df_customer_city)*i+j])\n",
        "    q = q + df_distance_DC_customer['Distance'][len(df_customer_city)*i+j]*y_var[f\"y[{len(df_customer_city)*i+j}]\"]*z_var[f\"z[{i}]\"]\n",
        "q = q*c\n",
        "print(q)"
      ],
      "metadata": {
        "id": "0c1cGjSR_85o",
        "colab": {
          "base_uri": "https://localhost:8080/"
        },
        "outputId": "1c5b5d1a-7d8a-4661-e71d-6e396eeb1aa1"
      },
      "execution_count": 508,
      "outputs": [
        {
          "output_type": "stream",
          "name": "stdout",
          "text": [
            "2110.0153\n",
            "2542.9761000000003\n",
            "2650.2621\n",
            "2173.4354\n",
            "2245.2512\n",
            "83.1616\n",
            "157.6321\n",
            "200.9726\n",
            "258.57820000000004\n",
            "125.23039999999999\n",
            "272.6346\n",
            "450.0073\n",
            "338.9688\n",
            "228.0159\n",
            "197.8971\n",
            "513.7791\n",
            "208.4256\n",
            "2500.2857999999997\n",
            "2355.9327999999996\n",
            "2264.1068999999998\n",
            "2772.9097\n",
            "2508.8106000000002\n",
            "2259.6561\n",
            "2143.8341\n",
            "1887.1273999999999\n",
            "2109.763\n",
            "2297.974\n",
            "1663.9556\n",
            "2090.689\n",
            "1461.6813\n",
            "1324.7031000000002\n",
            "1302.6391999999998\n",
            "1727.5482\n",
            "1599.7848999999999\n",
            "1535.13\n",
            "1028.698\n",
            "994.2570999999999\n",
            "1420.8811\n",
            "1355.3947\n",
            "1251.9735\n",
            "1050.9386000000002\n",
            "1542.7494\n",
            "1491.6061000000002\n",
            "1401.5558\n",
            "1679.9323\n",
            "1415.8332\n",
            "1166.6787\n",
            "1335.2829\n",
            "0.0 + [ 211.00153 <gurobi.Var *Awaiting Model Update*> * <gurobi.Var *Awaiting Model Update*> + 254.29761000000005 <gurobi.Var *Awaiting Model Update*> * <gurobi.Var *Awaiting Model Update*> + 265.02621 <gurobi.Var *Awaiting Model Update*> * <gurobi.Var *Awaiting Model Update*> + 217.34354 <gurobi.Var *Awaiting Model Update*> * <gurobi.Var *Awaiting Model Update*> + 224.52512000000002 <gurobi.Var *Awaiting Model Update*> * <gurobi.Var *Awaiting Model Update*> + 8.316160000000002 <gurobi.Var *Awaiting Model Update*> * <gurobi.Var *Awaiting Model Update*> + 15.76321 <gurobi.Var *Awaiting Model Update*> * <gurobi.Var *Awaiting Model Update*> + 20.097260000000002 <gurobi.Var *Awaiting Model Update*> * <gurobi.Var *Awaiting Model Update*> + 25.857820000000004 <gurobi.Var *Awaiting Model Update*> * <gurobi.Var *Awaiting Model Update*> + 12.52304 <gurobi.Var *Awaiting Model Update*> * <gurobi.Var *Awaiting Model Update*> + 27.26346 <gurobi.Var *Awaiting Model Update*> * <gurobi.Var *Awaiting Model Update*> + 45.000730000000004 <gurobi.Var *Awaiting Model Update*> * <gurobi.Var *Awaiting Model Update*> + 33.89688 <gurobi.Var *Awaiting Model Update*> * <gurobi.Var *Awaiting Model Update*> + 22.80159 <gurobi.Var *Awaiting Model Update*> * <gurobi.Var *Awaiting Model Update*> + 19.78971 <gurobi.Var *Awaiting Model Update*> * <gurobi.Var *Awaiting Model Update*> + 51.37791 <gurobi.Var *Awaiting Model Update*> * <gurobi.Var *Awaiting Model Update*> + 20.842560000000002 <gurobi.Var *Awaiting Model Update*> * <gurobi.Var *Awaiting Model Update*> + 250.02857999999998 <gurobi.Var *Awaiting Model Update*> * <gurobi.Var *Awaiting Model Update*> + 235.59327999999996 <gurobi.Var *Awaiting Model Update*> * <gurobi.Var *Awaiting Model Update*> + 226.41069 <gurobi.Var *Awaiting Model Update*> * <gurobi.Var *Awaiting Model Update*> + 277.29097 <gurobi.Var *Awaiting Model Update*> * <gurobi.Var *Awaiting Model Update*> + 250.88106000000005 <gurobi.Var *Awaiting Model Update*> * <gurobi.Var *Awaiting Model Update*> + 225.96561000000003 <gurobi.Var *Awaiting Model Update*> * <gurobi.Var *Awaiting Model Update*> + 214.38341000000003 <gurobi.Var *Awaiting Model Update*> * <gurobi.Var *Awaiting Model Update*> + 188.71274 <gurobi.Var *Awaiting Model Update*> * <gurobi.Var *Awaiting Model Update*> + 210.9763 <gurobi.Var *Awaiting Model Update*> * <gurobi.Var *Awaiting Model Update*> + 229.79740000000004 <gurobi.Var *Awaiting Model Update*> * <gurobi.Var *Awaiting Model Update*> + 166.39556000000002 <gurobi.Var *Awaiting Model Update*> * <gurobi.Var *Awaiting Model Update*> + 209.06889999999999 <gurobi.Var *Awaiting Model Update*> * <gurobi.Var *Awaiting Model Update*> + 146.16813 <gurobi.Var *Awaiting Model Update*> * <gurobi.Var *Awaiting Model Update*> + 132.47031 <gurobi.Var *Awaiting Model Update*> * <gurobi.Var *Awaiting Model Update*> + 130.26391999999998 <gurobi.Var *Awaiting Model Update*> * <gurobi.Var *Awaiting Model Update*> + 172.75482 <gurobi.Var *Awaiting Model Update*> * <gurobi.Var *Awaiting Model Update*> + 159.97849 <gurobi.Var *Awaiting Model Update*> * <gurobi.Var *Awaiting Model Update*> + 153.513 <gurobi.Var *Awaiting Model Update*> * <gurobi.Var *Awaiting Model Update*> + 102.86980000000001 <gurobi.Var *Awaiting Model Update*> * <gurobi.Var *Awaiting Model Update*> + 99.42571 <gurobi.Var *Awaiting Model Update*> * <gurobi.Var *Awaiting Model Update*> + 142.08811 <gurobi.Var *Awaiting Model Update*> * <gurobi.Var *Awaiting Model Update*> + 135.53947000000002 <gurobi.Var *Awaiting Model Update*> * <gurobi.Var *Awaiting Model Update*> + 125.19735000000001 <gurobi.Var *Awaiting Model Update*> * <gurobi.Var *Awaiting Model Update*> + 105.09386000000002 <gurobi.Var *Awaiting Model Update*> * <gurobi.Var *Awaiting Model Update*> + 154.27494000000002 <gurobi.Var *Awaiting Model Update*> * <gurobi.Var *Awaiting Model Update*> + 149.16061000000002 <gurobi.Var *Awaiting Model Update*> * <gurobi.Var *Awaiting Model Update*> + 140.15558000000001 <gurobi.Var *Awaiting Model Update*> * <gurobi.Var *Awaiting Model Update*> + 167.99323 <gurobi.Var *Awaiting Model Update*> * <gurobi.Var *Awaiting Model Update*> + 141.58332000000001 <gurobi.Var *Awaiting Model Update*> * <gurobi.Var *Awaiting Model Update*> + 116.66787 <gurobi.Var *Awaiting Model Update*> * <gurobi.Var *Awaiting Model Update*> + 133.52829 <gurobi.Var *Awaiting Model Update*> * <gurobi.Var *Awaiting Model Update*> ]\n"
          ]
        }
      ]
    },
    {
      "cell_type": "code",
      "source": [
        "s = 0\n",
        "for i in range(0, len(df_DC_city)):\n",
        "  s = s + df_DC_city['Fixed Cost'][i]*z_var[f\"z[{i}]\"]\n",
        "print(s)"
      ],
      "metadata": {
        "id": "rVruN-FwAAsp",
        "colab": {
          "base_uri": "https://localhost:8080/"
        },
        "outputId": "f0f1ce8a-229f-4d1b-c4b9-21c8cc1c9607"
      },
      "execution_count": 509,
      "outputs": [
        {
          "output_type": "stream",
          "name": "stdout",
          "text": [
            "10000.0 <gurobi.Var *Awaiting Model Update*> + 20000.0 <gurobi.Var *Awaiting Model Update*> + 2000000.0 <gurobi.Var *Awaiting Model Update*> + 2000000.0 <gurobi.Var *Awaiting Model Update*>\n"
          ]
        }
      ]
    },
    {
      "cell_type": "markdown",
      "source": [
        "Objective function"
      ],
      "metadata": {
        "id": "mhAFfulcD0WP"
      }
    },
    {
      "cell_type": "code",
      "source": [
        "objective =  p + q + s"
      ],
      "metadata": {
        "id": "CdpgADY_AzHR"
      },
      "execution_count": 510,
      "outputs": []
    },
    {
      "cell_type": "code",
      "source": [
        "model.setObjective(objective, GRB.MINIMIZE)"
      ],
      "metadata": {
        "id": "kAy8kWQz6iCq"
      },
      "execution_count": 511,
      "outputs": []
    },
    {
      "cell_type": "code",
      "source": [
        "model.optimize()"
      ],
      "metadata": {
        "colab": {
          "base_uri": "https://localhost:8080/"
        },
        "id": "zbGRsp4-Vtif",
        "outputId": "ca6a9c35-408b-4de0-abdd-818ca1756f98"
      },
      "execution_count": 512,
      "outputs": [
        {
          "output_type": "stream",
          "name": "stdout",
          "text": [
            "Gurobi Optimizer version 11.0.3 build v11.0.3rc0 (linux64 - \"Ubuntu 22.04.3 LTS\")\n",
            "\n",
            "CPU model: Intel(R) Xeon(R) CPU @ 2.20GHz, instruction set [SSE2|AVX|AVX2]\n",
            "Thread count: 1 physical cores, 2 logical processors, using up to 2 threads\n",
            "\n",
            "Academic license 2574149 - for non-commercial use only - registered to pi___@gmail.com\n",
            "Optimize a model with 17 rows, 200 columns and 182 nonzeros\n",
            "Model fingerprint: 0x24540545\n",
            "Model has 52 quadratic objective terms\n",
            "Model has 2 quadratic constraints\n",
            "Variable types: 0 continuous, 200 integer (4 binary)\n",
            "Coefficient statistics:\n",
            "  Matrix range     [1e+00, 1e+00]\n",
            "  QMatrix range    [1e+00, 1e+00]\n",
            "  Objective range  [1e+04, 2e+06]\n",
            "  QObjective range [1e+01, 6e+02]\n",
            "  Bounds range     [1e+00, 1e+00]\n",
            "  RHS range        [1e+00, 4e+03]\n",
            "  QRHS range       [4e+04, 4e+04]\n",
            "Presolve time: 0.00s\n",
            "Presolved: 483 rows, 896 columns, 1451 nonzeros\n",
            "Presolved model has 464 SOS constraint(s)\n",
            "Variable types: 0 continuous, 896 integer (236 binary)\n",
            "Found heuristic solution: objective 9353494.8230\n",
            "\n",
            "Root relaxation: objective 4.349306e+06, 31 iterations, 0.00 seconds (0.00 work units)\n",
            "\n",
            "    Nodes    |    Current Node    |     Objective Bounds      |     Work\n",
            " Expl Unexpl |  Obj  Depth IntInf | Incumbent    BestBd   Gap | It/Node Time\n",
            "\n",
            "     0     0 4349305.72    0    2 9353494.82 4349305.72  53.5%     -    0s\n",
            "*    0     0               0    7353494.8230 7353494.82  0.00%     -    0s\n",
            "\n",
            "Cutting planes:\n",
            "  Gomory: 1\n",
            "  MIR: 2\n",
            "\n",
            "Explored 1 nodes (69 simplex iterations) in 0.14 seconds (0.02 work units)\n",
            "Thread count was 2 (of 2 available processors)\n",
            "\n",
            "Solution count 2: 7.35349e+06 9.35349e+06 \n",
            "\n",
            "Optimal solution found (tolerance 1.00e-04)\n",
            "Best objective 7.353494823000e+06, best bound 7.353494823000e+06, gap 0.0000%\n"
          ]
        }
      ]
    },
    {
      "cell_type": "code",
      "source": [
        "if model.status == GRB.OPTIMAL:\n",
        "    print(f\"Optimal objective value: {model.ObjVal}\")\n",
        "else:\n",
        "    print(\"No optimal solution found.\")"
      ],
      "metadata": {
        "id": "TXgWP7JKV1qf",
        "colab": {
          "base_uri": "https://localhost:8080/"
        },
        "outputId": "4f514384-fa57-426b-f3ee-60db98a5a24e"
      },
      "execution_count": 513,
      "outputs": [
        {
          "output_type": "stream",
          "name": "stdout",
          "text": [
            "Optimal objective value: 7353494.822999999\n"
          ]
        }
      ]
    },
    {
      "cell_type": "code",
      "source": [
        "for i in range(0, len(df_DC_city)):\n",
        "  print(z_var[f\"z[{i}]\"])"
      ],
      "metadata": {
        "id": "t4d2u-pSV1n8",
        "colab": {
          "base_uri": "https://localhost:8080/"
        },
        "outputId": "96af1c22-07a9-4b4e-8f97-02fbed6f8cf8"
      },
      "execution_count": 514,
      "outputs": [
        {
          "output_type": "stream",
          "name": "stdout",
          "text": [
            "<gurobi.Var z[0] (value 1.0)>\n",
            "<gurobi.Var z[1] (value 1.0)>\n",
            "<gurobi.Var z[2] (value 0.0)>\n",
            "<gurobi.Var z[3] (value 0.0)>\n"
          ]
        }
      ]
    },
    {
      "cell_type": "code",
      "source": [
        "for i in range(0, len(df_DC_city)*len(df_customer_city)):\n",
        "  print(y_var[f\"y[{i}]\"])"
      ],
      "metadata": {
        "id": "OPfYROypV1YE",
        "colab": {
          "base_uri": "https://localhost:8080/"
        },
        "outputId": "3d11f2ec-c4d4-40f3-f88b-a0f55d002923"
      },
      "execution_count": 515,
      "outputs": [
        {
          "output_type": "stream",
          "name": "stdout",
          "text": [
            "<gurobi.Var y[0] (value 0.0)>\n",
            "<gurobi.Var y[1] (value 0.0)>\n",
            "<gurobi.Var y[2] (value 0.0)>\n",
            "<gurobi.Var y[3] (value 0.0)>\n",
            "<gurobi.Var y[4] (value 0.0)>\n",
            "<gurobi.Var y[5] (value 3600.0)>\n",
            "<gurobi.Var y[6] (value 3700.0)>\n",
            "<gurobi.Var y[7] (value 3800.0)>\n",
            "<gurobi.Var y[8] (value 3900.0)>\n",
            "<gurobi.Var y[9] (value 4000.0)>\n",
            "<gurobi.Var y[10] (value 4100.0)>\n",
            "<gurobi.Var y[11] (value 4200.0)>\n",
            "<gurobi.Var y[12] (value 3000.0)>\n",
            "<gurobi.Var y[13] (value 3200.0)>\n",
            "<gurobi.Var y[14] (value 3300.0)>\n",
            "<gurobi.Var y[15] (value 3400.0)>\n",
            "<gurobi.Var y[16] (value 3500.0)>\n",
            "<gurobi.Var y[17] (value 0.0)>\n",
            "<gurobi.Var y[18] (value 0.0)>\n",
            "<gurobi.Var y[19] (value 0.0)>\n",
            "<gurobi.Var y[20] (value 0.0)>\n",
            "<gurobi.Var y[21] (value 0.0)>\n",
            "<gurobi.Var y[22] (value 0.0)>\n",
            "<gurobi.Var y[23] (value 0.0)>\n",
            "<gurobi.Var y[24] (value 0.0)>\n",
            "<gurobi.Var y[25] (value 0.0)>\n",
            "<gurobi.Var y[26] (value 0.0)>\n",
            "<gurobi.Var y[27] (value 0.0)>\n",
            "<gurobi.Var y[28] (value 0.0)>\n",
            "<gurobi.Var y[29] (value 0.0)>\n",
            "<gurobi.Var y[30] (value 0.0)>\n",
            "<gurobi.Var y[31] (value 0.0)>\n",
            "<gurobi.Var y[32] (value 0.0)>\n",
            "<gurobi.Var y[33] (value 0.0)>\n",
            "<gurobi.Var y[34] (value 0.0)>\n",
            "<gurobi.Var y[35] (value 0.0)>\n",
            "<gurobi.Var y[36] (value 0.0)>\n",
            "<gurobi.Var y[37] (value 0.0)>\n",
            "<gurobi.Var y[38] (value 0.0)>\n",
            "<gurobi.Var y[39] (value 0.0)>\n",
            "<gurobi.Var y[40] (value 0.0)>\n",
            "<gurobi.Var y[41] (value 0.0)>\n",
            "<gurobi.Var y[42] (value 0.0)>\n",
            "<gurobi.Var y[43] (value 0.0)>\n",
            "<gurobi.Var y[44] (value 0.0)>\n",
            "<gurobi.Var y[45] (value 0.0)>\n",
            "<gurobi.Var y[46] (value 0.0)>\n",
            "<gurobi.Var y[47] (value 0.0)>\n"
          ]
        }
      ]
    },
    {
      "cell_type": "code",
      "source": [
        "for i in range(0, len(df_port_city)*len(df_DC_city)):\n",
        "  print(x_var[f\"x[{i}]\"])\n"
      ],
      "metadata": {
        "id": "_mhphlXcYarR",
        "colab": {
          "base_uri": "https://localhost:8080/"
        },
        "outputId": "9a6bef5a-6c68-48c8-a19e-f17ff13b5ae0"
      },
      "execution_count": 516,
      "outputs": [
        {
          "output_type": "stream",
          "name": "stdout",
          "text": [
            "<gurobi.Var x[0] (value 27300.0)>\n",
            "<gurobi.Var x[1] (value 16400.0)>\n",
            "<gurobi.Var x[2] (value 0.0)>\n",
            "<gurobi.Var x[3] (value 0.0)>\n"
          ]
        }
      ]
    },
    {
      "cell_type": "code",
      "source": [
        "print(q)"
      ],
      "metadata": {
        "id": "5UPzSiT5cNq-",
        "colab": {
          "base_uri": "https://localhost:8080/"
        },
        "outputId": "0c6b2f16-3cb3-4999-9591-7c476a03b22b"
      },
      "execution_count": 517,
      "outputs": [
        {
          "output_type": "stream",
          "name": "stdout",
          "text": [
            "0.0 + [ 211.00153 y[0] * z[0] + 254.29761000000005 y[1] * z[0] + 265.02621 y[2] * z[0] + 217.34354 y[3] * z[0] + 224.52512000000002 y[4] * z[0] + 8.316160000000002 y[5] * z[0] + 15.76321 y[6] * z[0] + 20.097260000000002 y[7] * z[0] + 25.857820000000004 y[8] * z[0] + 12.52304 y[9] * z[0] + 27.26346 y[10] * z[0] + 45.000730000000004 y[11] * z[0] + 33.89688 y[12] * z[1] + 22.80159 y[13] * z[1] + 19.78971 y[14] * z[1] + 51.37791 y[15] * z[1] + 20.842560000000002 y[16] * z[1] + 250.02857999999998 y[17] * z[1] + 235.59327999999996 y[18] * z[1] + 226.41069 y[19] * z[1] + 277.29097 y[20] * z[1] + 250.88106000000005 y[21] * z[1] + 225.96561000000003 y[22] * z[1] + 214.38341000000003 y[23] * z[1] + 188.71274 y[24] * z[2] + 210.9763 y[25] * z[2] + 229.79740000000004 y[26] * z[2] + 166.39556000000002 y[27] * z[2] + 209.06889999999999 y[28] * z[2] + 146.16813 y[29] * z[2] + 132.47031 y[30] * z[2] + 130.26391999999998 y[31] * z[2] + 172.75482 y[32] * z[2] + 159.97849 y[33] * z[2] + 153.513 y[34] * z[2] + 102.86980000000001 y[35] * z[2] + 99.42571 y[36] * z[3] + 142.08811 y[37] * z[3] + 135.53947000000002 y[38] * z[3] + 125.19735000000001 y[39] * z[3] + 105.09386000000002 y[40] * z[3] + 154.27494000000002 y[41] * z[3] + 149.16061000000002 y[42] * z[3] + 140.15558000000001 y[43] * z[3] + 167.99323 y[44] * z[3] + 141.58332000000001 y[45] * z[3] + 116.66787 y[46] * z[3] + 133.52829 y[47] * z[3] ]\n"
          ]
        }
      ]
    },
    {
      "cell_type": "code",
      "source": [
        "print(r)"
      ],
      "metadata": {
        "id": "pOxPwyOEcNo6",
        "colab": {
          "base_uri": "https://localhost:8080/"
        },
        "outputId": "50384c91-e07c-4c48-ab25-0d8cf018a002"
      },
      "execution_count": 518,
      "outputs": [
        {
          "output_type": "stream",
          "name": "stdout",
          "text": [
            "43700\n"
          ]
        }
      ]
    },
    {
      "cell_type": "code",
      "source": [
        "print(s)"
      ],
      "metadata": {
        "id": "XywRoX--cNlb",
        "colab": {
          "base_uri": "https://localhost:8080/"
        },
        "outputId": "b6d2f21e-d2d3-44c6-e2ba-59f9235d475c"
      },
      "execution_count": 519,
      "outputs": [
        {
          "output_type": "stream",
          "name": "stdout",
          "text": [
            "10000.0 z[0] + 20000.0 z[1] + 2000000.0 z[2] + 2000000.0 z[3]\n"
          ]
        }
      ]
    },
    {
      "cell_type": "code",
      "source": [
        "print(objective)"
      ],
      "metadata": {
        "id": "4kpVEPM3cNjl",
        "colab": {
          "base_uri": "https://localhost:8080/"
        },
        "outputId": "89d10f2f-dd59-4e07-a16a-0adb4e675069"
      },
      "execution_count": 520,
      "outputs": [
        {
          "output_type": "stream",
          "name": "stdout",
          "text": [
            "10000.0 z[0] + 20000.0 z[1] + 2000000.0 z[2] + 2000000.0 z[3] + [ 148.27279 x[0] * z[0] + 132.4207 x[1] * z[1] + 193.28627 x[2] * z[2] + 4.784680000000001 x[3] * z[3] + 211.00153 y[0] * z[0] + 254.29761000000005 y[1] * z[0] + 265.02621 y[2] * z[0] + 217.34354 y[3] * z[0] + 224.52512000000002 y[4] * z[0] + 8.316160000000002 y[5] * z[0] + 15.76321 y[6] * z[0] + 20.097260000000002 y[7] * z[0] + 25.857820000000004 y[8] * z[0] + 12.52304 y[9] * z[0] + 27.26346 y[10] * z[0] + 45.000730000000004 y[11] * z[0] + 33.89688 y[12] * z[1] + 22.80159 y[13] * z[1] + 19.78971 y[14] * z[1] + 51.37791 y[15] * z[1] + 20.842560000000002 y[16] * z[1] + 250.02857999999998 y[17] * z[1] + 235.59327999999996 y[18] * z[1] + 226.41069 y[19] * z[1] + 277.29097 y[20] * z[1] + 250.88106000000005 y[21] * z[1] + 225.96561000000003 y[22] * z[1] + 214.38341000000003 y[23] * z[1] + 188.71274 y[24] * z[2] + 210.9763 y[25] * z[2] + 229.79740000000004 y[26] * z[2] + 166.39556000000002 y[27] * z[2] + 209.06889999999999 y[28] * z[2] + 146.16813 y[29] * z[2] + 132.47031 y[30] * z[2] + 130.26391999999998 y[31] * z[2] + 172.75482 y[32] * z[2] + 159.97849 y[33] * z[2] + 153.513 y[34] * z[2] + 102.86980000000001 y[35] * z[2] + 99.42571 y[36] * z[3] + 142.08811 y[37] * z[3] + 135.53947000000002 y[38] * z[3] + 125.19735000000001 y[39] * z[3] + 105.09386000000002 y[40] * z[3] + 154.27494000000002 y[41] * z[3] + 149.16061000000002 y[42] * z[3] + 140.15558000000001 y[43] * z[3] + 167.99323 y[44] * z[3] + 141.58332000000001 y[45] * z[3] + 116.66787 y[46] * z[3] + 133.52829 y[47] * z[3] ]\n"
          ]
        }
      ]
    },
    {
      "cell_type": "code",
      "source": [],
      "metadata": {
        "id": "VSruznnThQqi"
      },
      "execution_count": 520,
      "outputs": []
    },
    {
      "cell_type": "markdown",
      "source": [
        "Visualization"
      ],
      "metadata": {
        "id": "uVtlcaQc10d-"
      }
    },
    {
      "cell_type": "code",
      "source": [
        "!pip install folium\n",
        "import folium"
      ],
      "metadata": {
        "id": "YwCMxv3T1zv2",
        "colab": {
          "base_uri": "https://localhost:8080/"
        },
        "outputId": "4d9e7a5a-d1f2-4be8-8448-ec3f6695a29d"
      },
      "execution_count": 521,
      "outputs": [
        {
          "output_type": "stream",
          "name": "stdout",
          "text": [
            "Requirement already satisfied: folium in /usr/local/lib/python3.10/dist-packages (0.17.0)\n",
            "Requirement already satisfied: branca>=0.6.0 in /usr/local/lib/python3.10/dist-packages (from folium) (0.8.0)\n",
            "Requirement already satisfied: jinja2>=2.9 in /usr/local/lib/python3.10/dist-packages (from folium) (3.1.4)\n",
            "Requirement already satisfied: numpy in /usr/local/lib/python3.10/dist-packages (from folium) (1.26.4)\n",
            "Requirement already satisfied: requests in /usr/local/lib/python3.10/dist-packages (from folium) (2.32.3)\n",
            "Requirement already satisfied: xyzservices in /usr/local/lib/python3.10/dist-packages (from folium) (2024.9.0)\n",
            "Requirement already satisfied: MarkupSafe>=2.0 in /usr/local/lib/python3.10/dist-packages (from jinja2>=2.9->folium) (3.0.2)\n",
            "Requirement already satisfied: charset-normalizer<4,>=2 in /usr/local/lib/python3.10/dist-packages (from requests->folium) (3.4.0)\n",
            "Requirement already satisfied: idna<4,>=2.5 in /usr/local/lib/python3.10/dist-packages (from requests->folium) (3.10)\n",
            "Requirement already satisfied: urllib3<3,>=1.21.1 in /usr/local/lib/python3.10/dist-packages (from requests->folium) (2.2.3)\n",
            "Requirement already satisfied: certifi>=2017.4.17 in /usr/local/lib/python3.10/dist-packages (from requests->folium) (2024.8.30)\n"
          ]
        }
      ]
    },
    {
      "cell_type": "code",
      "source": [
        "lat = 0\n",
        "long = 0\n",
        "n = 0\n",
        "for i in range(0, len(df_coordinate_DC_city)):\n",
        "  lat = lat + df_coordinate_DC_city['Latitude'][i]*z_var[f\"z[{i}]\"].x\n",
        "  long = long + df_coordinate_DC_city['Longitude'][i]*z_var[f\"z[{i}]\"].x\n",
        "  n = n + z_var[f\"z[{i}]\"].x\n",
        "lat = lat/n\n",
        "long = long/n\n",
        "m = folium.Map(location=[lat, long], zoom_start=5.1)"
      ],
      "metadata": {
        "id": "v2zczwP32Dg0"
      },
      "execution_count": 522,
      "outputs": []
    },
    {
      "cell_type": "code",
      "source": [
        "for i in range(0, len(df_port_city)):\n",
        "    # Providing location as a list [latitude, longitude]\n",
        "    folium.Marker(\n",
        "        location=[df_coordinate_port_city['Latitude'][i], df_coordinate_port_city['Longitude'][i]],\n",
        "        popup=f\"{df_coordinate_port_city['City'][i]}\",\n",
        "        icon=folium.Icon(color=\"darkgreen\", icon=\"ship\", prefix=\"fa\")\n",
        "    ).add_to(m)"
      ],
      "metadata": {
        "id": "SrIwNPzK2E6s"
      },
      "execution_count": 523,
      "outputs": []
    },
    {
      "cell_type": "code",
      "source": [
        "for i in range(0, len(df_customer_city)):\n",
        "    # Providing location as a list [latitude, longitude]\n",
        "    folium.Marker(\n",
        "        location=[df_coordinate_customer_city['Latitude'][i], df_coordinate_customer_city['Longitude'][i]],\n",
        "        popup=f\"{df_coordinate_customer_city['City'][i]}\",\n",
        "        icon=folium.Icon(color=\"red\", icon=\"user\", prefix=\"fa\")\n",
        "    ).add_to(m)"
      ],
      "metadata": {
        "id": "nHy82HeQ4k5C"
      },
      "execution_count": 524,
      "outputs": []
    },
    {
      "cell_type": "code",
      "source": [
        "for i in range(0, len(df_DC_city)):\n",
        "    # Providing location as a list [latitude, longitude]\n",
        "    if z_var[f\"z[{i}]\"].x == 1:\n",
        "      folium.Marker(location=[df_coordinate_DC_city['Latitude'][i], df_coordinate_DC_city['Longitude'][i]], popup=f\"{df_coordinate_DC_city['City'][i]}\",\n",
        "        icon=folium.Icon(color=\"black\", icon=\"warehouse\", prefix=\"fa\")).add_to(m)"
      ],
      "metadata": {
        "id": "wZtS0Rmf4k14"
      },
      "execution_count": 525,
      "outputs": []
    },
    {
      "cell_type": "code",
      "source": [
        "for i in range(0, len(df_customer_city)):\n",
        "    print(y_var[f\"y[{i}]\"].x)\n"
      ],
      "metadata": {
        "id": "EnabOtUiY1eY",
        "colab": {
          "base_uri": "https://localhost:8080/"
        },
        "outputId": "b47f3b8c-38c4-4abc-f271-20a413641805"
      },
      "execution_count": 526,
      "outputs": [
        {
          "output_type": "stream",
          "name": "stdout",
          "text": [
            "0.0\n",
            "0.0\n",
            "0.0\n",
            "0.0\n",
            "0.0\n",
            "3600.0\n",
            "3700.0\n",
            "3800.0\n",
            "3900.0\n",
            "4000.0\n",
            "4100.0\n",
            "4200.0\n"
          ]
        }
      ]
    },
    {
      "cell_type": "code",
      "source": [
        "for i in range(0, len(df_port_city)*len(df_DC_city)):\n",
        "  if z_var[f\"z[{i}]\"].x == 1:\n",
        "    sourc_city = df_distance_port_DC['Source'][i]\n",
        "    destination_city = df_distance_port_DC['Destination'][i]\n",
        "    source_lat = df_coordinate_port_city.loc[df_coordinate_port_city['City'] == sourc_city, 'Latitude'].iloc[0] #Access the first element using iloc[0]\n",
        "    source_lon = df_coordinate_port_city.loc[df_coordinate_port_city['City'] == sourc_city, 'Longitude'].iloc[0] #Access the first element using iloc[0]\n",
        "    destination_lat = df_coordinate_DC_city.loc[df_coordinate_DC_city['City'] == destination_city, 'Latitude'].iloc[0] #Access the first element using iloc[0]\n",
        "    destination_lon = df_coordinate_DC_city.loc[df_coordinate_DC_city['City'] == destination_city, 'Longitude'].iloc[0] #Access the first element using iloc[0]\n",
        "\n",
        "    folium.PolyLine(\n",
        "        locations=[(source_lat, source_lon), (destination_lat, destination_lon)],\n",
        "        color=\"darkgreen\",\n",
        "    ).add_to(m)"
      ],
      "metadata": {
        "id": "q22VmhB8v3iN"
      },
      "execution_count": 527,
      "outputs": []
    },
    {
      "cell_type": "code",
      "source": [
        "for i in range(0, len(df_DC_city)*len(df_customer_city)):\n",
        "  if y_var[f\"y[{i}]\"].x > 1:\n",
        "    # Get the source and destination cities\n",
        "    source_city = df_distance_DC_customer['Source'][i]\n",
        "    destination_city = df_distance_DC_customer['Destination'][i]\n",
        "\n",
        "    # Get the coordinates for the source and destination cities\n",
        "    source_lat = df_coordinate_DC_city.loc[df_coordinate_DC_city['City'] == source_city, 'Latitude'].iloc[0] #Access the first element using iloc[0]\n",
        "    source_lon = df_coordinate_DC_city.loc[df_coordinate_DC_city['City'] == source_city, 'Longitude'].iloc[0] #Access the first element using iloc[0]\n",
        "    destination_lat = df_coordinate_customer_city.loc[df_coordinate_customer_city['City'] == destination_city, 'Latitude'].iloc[0] #Access the first element using iloc[0]\n",
        "    destination_lon = df_coordinate_customer_city.loc[df_coordinate_customer_city['City'] == destination_city, 'Longitude'].iloc[0] #Access the first element using iloc[0]\n",
        "\n",
        "    # Add the polyline to the map\n",
        "    folium.PolyLine(\n",
        "        locations=[(source_lat, source_lon), (destination_lat, destination_lon)],\n",
        "        color=\"orange\",\n",
        "    ).add_to(m)"
      ],
      "metadata": {
        "id": "Jq7ZjKm99taZ"
      },
      "execution_count": 528,
      "outputs": []
    },
    {
      "cell_type": "code",
      "source": [],
      "metadata": {
        "id": "vVXt7uPKpUCC"
      },
      "execution_count": 528,
      "outputs": []
    },
    {
      "cell_type": "code",
      "source": [
        "m"
      ],
      "metadata": {
        "collapsed": true,
        "id": "RvMgHH-I2Ey1",
        "colab": {
          "base_uri": "https://localhost:8080/",
          "height": 685
        },
        "outputId": "8f4d0fa6-2667-4308-bd26-4088ef5e033c"
      },
      "execution_count": 529,
      "outputs": [
        {
          "output_type": "execute_result",
          "data": {
            "text/plain": [
              "<folium.folium.Map at 0x7af714395720>"
            ],
            "text/html": [
              "<div style=\"width:100%;\"><div style=\"position:relative;width:100%;height:0;padding-bottom:60%;\"><span style=\"color:#565656\">Make this Notebook Trusted to load map: File -> Trust Notebook</span><iframe srcdoc=\"&lt;!DOCTYPE html&gt;\n",
              "&lt;html&gt;\n",
              "&lt;head&gt;\n",
              "    \n",
              "    &lt;meta http-equiv=&quot;content-type&quot; content=&quot;text/html; charset=UTF-8&quot; /&gt;\n",
              "    \n",
              "        &lt;script&gt;\n",
              "            L_NO_TOUCH = false;\n",
              "            L_DISABLE_3D = false;\n",
              "        &lt;/script&gt;\n",
              "    \n",
              "    &lt;style&gt;html, body {width: 100%;height: 100%;margin: 0;padding: 0;}&lt;/style&gt;\n",
              "    &lt;style&gt;#map {position:absolute;top:0;bottom:0;right:0;left:0;}&lt;/style&gt;\n",
              "    &lt;script src=&quot;https://cdn.jsdelivr.net/npm/leaflet@1.9.3/dist/leaflet.js&quot;&gt;&lt;/script&gt;\n",
              "    &lt;script src=&quot;https://code.jquery.com/jquery-3.7.1.min.js&quot;&gt;&lt;/script&gt;\n",
              "    &lt;script src=&quot;https://cdn.jsdelivr.net/npm/bootstrap@5.2.2/dist/js/bootstrap.bundle.min.js&quot;&gt;&lt;/script&gt;\n",
              "    &lt;script src=&quot;https://cdnjs.cloudflare.com/ajax/libs/Leaflet.awesome-markers/2.0.2/leaflet.awesome-markers.js&quot;&gt;&lt;/script&gt;\n",
              "    &lt;link rel=&quot;stylesheet&quot; href=&quot;https://cdn.jsdelivr.net/npm/leaflet@1.9.3/dist/leaflet.css&quot;/&gt;\n",
              "    &lt;link rel=&quot;stylesheet&quot; href=&quot;https://cdn.jsdelivr.net/npm/bootstrap@5.2.2/dist/css/bootstrap.min.css&quot;/&gt;\n",
              "    &lt;link rel=&quot;stylesheet&quot; href=&quot;https://netdna.bootstrapcdn.com/bootstrap/3.0.0/css/bootstrap-glyphicons.css&quot;/&gt;\n",
              "    &lt;link rel=&quot;stylesheet&quot; href=&quot;https://cdn.jsdelivr.net/npm/@fortawesome/fontawesome-free@6.2.0/css/all.min.css&quot;/&gt;\n",
              "    &lt;link rel=&quot;stylesheet&quot; href=&quot;https://cdnjs.cloudflare.com/ajax/libs/Leaflet.awesome-markers/2.0.2/leaflet.awesome-markers.css&quot;/&gt;\n",
              "    &lt;link rel=&quot;stylesheet&quot; href=&quot;https://cdn.jsdelivr.net/gh/python-visualization/folium/folium/templates/leaflet.awesome.rotate.min.css&quot;/&gt;\n",
              "    \n",
              "            &lt;meta name=&quot;viewport&quot; content=&quot;width=device-width,\n",
              "                initial-scale=1.0, maximum-scale=1.0, user-scalable=no&quot; /&gt;\n",
              "            &lt;style&gt;\n",
              "                #map_29dd22cf4a6b8bbe54197d85b44d4f17 {\n",
              "                    position: relative;\n",
              "                    width: 100.0%;\n",
              "                    height: 100.0%;\n",
              "                    left: 0.0%;\n",
              "                    top: 0.0%;\n",
              "                }\n",
              "                .leaflet-container { font-size: 1rem; }\n",
              "            &lt;/style&gt;\n",
              "        \n",
              "&lt;/head&gt;\n",
              "&lt;body&gt;\n",
              "    \n",
              "    \n",
              "            &lt;div class=&quot;folium-map&quot; id=&quot;map_29dd22cf4a6b8bbe54197d85b44d4f17&quot; &gt;&lt;/div&gt;\n",
              "        \n",
              "&lt;/body&gt;\n",
              "&lt;script&gt;\n",
              "    \n",
              "    \n",
              "            var map_29dd22cf4a6b8bbe54197d85b44d4f17 = L.map(\n",
              "                &quot;map_29dd22cf4a6b8bbe54197d85b44d4f17&quot;,\n",
              "                {\n",
              "                    center: [19.80785345, 77.0859241],\n",
              "                    crs: L.CRS.EPSG3857,\n",
              "                    zoom: 5.1,\n",
              "                    zoomControl: true,\n",
              "                    preferCanvas: false,\n",
              "                }\n",
              "            );\n",
              "\n",
              "            \n",
              "\n",
              "        \n",
              "    \n",
              "            var tile_layer_8a0e395df1e69cd05ac99d1140cc78ac = L.tileLayer(\n",
              "                &quot;https://tile.openstreetmap.org/{z}/{x}/{y}.png&quot;,\n",
              "                {&quot;attribution&quot;: &quot;\\u0026copy; \\u003ca href=\\&quot;https://www.openstreetmap.org/copyright\\&quot;\\u003eOpenStreetMap\\u003c/a\\u003e contributors&quot;, &quot;detectRetina&quot;: false, &quot;maxNativeZoom&quot;: 19, &quot;maxZoom&quot;: 19, &quot;minZoom&quot;: 0, &quot;noWrap&quot;: false, &quot;opacity&quot;: 1, &quot;subdomains&quot;: &quot;abc&quot;, &quot;tms&quot;: false}\n",
              "            );\n",
              "        \n",
              "    \n",
              "            tile_layer_8a0e395df1e69cd05ac99d1140cc78ac.addTo(map_29dd22cf4a6b8bbe54197d85b44d4f17);\n",
              "        \n",
              "    \n",
              "            var marker_e4062efc4d8e3144ae9693b3878682ce = L.marker(\n",
              "                [18.945030600000003, 72.94942299008869],\n",
              "                {}\n",
              "            ).addTo(map_29dd22cf4a6b8bbe54197d85b44d4f17);\n",
              "        \n",
              "    \n",
              "            var icon_708a6a0aa874192cc02a673e0693c7b0 = L.AwesomeMarkers.icon(\n",
              "                {&quot;extraClasses&quot;: &quot;fa-rotate-0&quot;, &quot;icon&quot;: &quot;ship&quot;, &quot;iconColor&quot;: &quot;white&quot;, &quot;markerColor&quot;: &quot;darkgreen&quot;, &quot;prefix&quot;: &quot;fa&quot;}\n",
              "            );\n",
              "            marker_e4062efc4d8e3144ae9693b3878682ce.setIcon(icon_708a6a0aa874192cc02a673e0693c7b0);\n",
              "        \n",
              "    \n",
              "        var popup_77c2305d3061c9e9b8622ea6ef480a1a = L.popup({&quot;maxWidth&quot;: &quot;100%&quot;});\n",
              "\n",
              "        \n",
              "            \n",
              "                var html_dea167e745e2213dbf7fc331e41be80d = $(`&lt;div id=&quot;html_dea167e745e2213dbf7fc331e41be80d&quot; style=&quot;width: 100.0%; height: 100.0%;&quot;&gt;NHAVA SHEVA&lt;/div&gt;`)[0];\n",
              "                popup_77c2305d3061c9e9b8622ea6ef480a1a.setContent(html_dea167e745e2213dbf7fc331e41be80d);\n",
              "            \n",
              "        \n",
              "\n",
              "        marker_e4062efc4d8e3144ae9693b3878682ce.bindPopup(popup_77c2305d3061c9e9b8622ea6ef480a1a)\n",
              "        ;\n",
              "\n",
              "        \n",
              "    \n",
              "    \n",
              "            var marker_8fdc331a0b816f4f3ffd915fc1792980 = L.marker(\n",
              "                [12.9767936, 77.590082],\n",
              "                {}\n",
              "            ).addTo(map_29dd22cf4a6b8bbe54197d85b44d4f17);\n",
              "        \n",
              "    \n",
              "            var icon_fd2f0b636fccf4506b8fced0c8934e08 = L.AwesomeMarkers.icon(\n",
              "                {&quot;extraClasses&quot;: &quot;fa-rotate-0&quot;, &quot;icon&quot;: &quot;user&quot;, &quot;iconColor&quot;: &quot;white&quot;, &quot;markerColor&quot;: &quot;red&quot;, &quot;prefix&quot;: &quot;fa&quot;}\n",
              "            );\n",
              "            marker_8fdc331a0b816f4f3ffd915fc1792980.setIcon(icon_fd2f0b636fccf4506b8fced0c8934e08);\n",
              "        \n",
              "    \n",
              "        var popup_f6d75882933e92803feeec1bdfb303a5 = L.popup({&quot;maxWidth&quot;: &quot;100%&quot;});\n",
              "\n",
              "        \n",
              "            \n",
              "                var html_70d96fbbbc0d8c4c6507f1152a2737da = $(`&lt;div id=&quot;html_70d96fbbbc0d8c4c6507f1152a2737da&quot; style=&quot;width: 100.0%; height: 100.0%;&quot;&gt;Bengaluru&lt;/div&gt;`)[0];\n",
              "                popup_f6d75882933e92803feeec1bdfb303a5.setContent(html_70d96fbbbc0d8c4c6507f1152a2737da);\n",
              "            \n",
              "        \n",
              "\n",
              "        marker_8fdc331a0b816f4f3ffd915fc1792980.bindPopup(popup_f6d75882933e92803feeec1bdfb303a5)\n",
              "        ;\n",
              "\n",
              "        \n",
              "    \n",
              "    \n",
              "            var marker_11feb67e302971a48ba4cb39b811a190 = L.marker(\n",
              "                [9.9261153, 78.1140983],\n",
              "                {}\n",
              "            ).addTo(map_29dd22cf4a6b8bbe54197d85b44d4f17);\n",
              "        \n",
              "    \n",
              "            var icon_684cb52dd96397e39cbdfa59e0517939 = L.AwesomeMarkers.icon(\n",
              "                {&quot;extraClasses&quot;: &quot;fa-rotate-0&quot;, &quot;icon&quot;: &quot;user&quot;, &quot;iconColor&quot;: &quot;white&quot;, &quot;markerColor&quot;: &quot;red&quot;, &quot;prefix&quot;: &quot;fa&quot;}\n",
              "            );\n",
              "            marker_11feb67e302971a48ba4cb39b811a190.setIcon(icon_684cb52dd96397e39cbdfa59e0517939);\n",
              "        \n",
              "    \n",
              "        var popup_6ee0cb56e8a59b6451c4c9608e40b83e = L.popup({&quot;maxWidth&quot;: &quot;100%&quot;});\n",
              "\n",
              "        \n",
              "            \n",
              "                var html_e4176b3f3bf9bb2c0bd69016fb27527b = $(`&lt;div id=&quot;html_e4176b3f3bf9bb2c0bd69016fb27527b&quot; style=&quot;width: 100.0%; height: 100.0%;&quot;&gt;Madurai&lt;/div&gt;`)[0];\n",
              "                popup_6ee0cb56e8a59b6451c4c9608e40b83e.setContent(html_e4176b3f3bf9bb2c0bd69016fb27527b);\n",
              "            \n",
              "        \n",
              "\n",
              "        marker_11feb67e302971a48ba4cb39b811a190.bindPopup(popup_6ee0cb56e8a59b6451c4c9608e40b83e)\n",
              "        ;\n",
              "\n",
              "        \n",
              "    \n",
              "    \n",
              "            var marker_cb5913523d81f9be9963fdb1f7b98f3e = L.marker(\n",
              "                [9.9674277, 76.2454436],\n",
              "                {}\n",
              "            ).addTo(map_29dd22cf4a6b8bbe54197d85b44d4f17);\n",
              "        \n",
              "    \n",
              "            var icon_a9bf8064e117af6ed8214eb1e1a54d49 = L.AwesomeMarkers.icon(\n",
              "                {&quot;extraClasses&quot;: &quot;fa-rotate-0&quot;, &quot;icon&quot;: &quot;user&quot;, &quot;iconColor&quot;: &quot;white&quot;, &quot;markerColor&quot;: &quot;red&quot;, &quot;prefix&quot;: &quot;fa&quot;}\n",
              "            );\n",
              "            marker_cb5913523d81f9be9963fdb1f7b98f3e.setIcon(icon_a9bf8064e117af6ed8214eb1e1a54d49);\n",
              "        \n",
              "    \n",
              "        var popup_c3c87025a79c98919ff666871f0b1ae4 = L.popup({&quot;maxWidth&quot;: &quot;100%&quot;});\n",
              "\n",
              "        \n",
              "            \n",
              "                var html_90e12c02e9eb3f652de66444984ff82a = $(`&lt;div id=&quot;html_90e12c02e9eb3f652de66444984ff82a&quot; style=&quot;width: 100.0%; height: 100.0%;&quot;&gt;Kochi&lt;/div&gt;`)[0];\n",
              "                popup_c3c87025a79c98919ff666871f0b1ae4.setContent(html_90e12c02e9eb3f652de66444984ff82a);\n",
              "            \n",
              "        \n",
              "\n",
              "        marker_cb5913523d81f9be9963fdb1f7b98f3e.bindPopup(popup_c3c87025a79c98919ff666871f0b1ae4)\n",
              "        ;\n",
              "\n",
              "        \n",
              "    \n",
              "    \n",
              "            var marker_1cc9ba375d1305d8d852fae2a341eb72 = L.marker(\n",
              "                [13.0836939, 80.270186],\n",
              "                {}\n",
              "            ).addTo(map_29dd22cf4a6b8bbe54197d85b44d4f17);\n",
              "        \n",
              "    \n",
              "            var icon_15e7b4b2805d346bae2a88adf253f4f4 = L.AwesomeMarkers.icon(\n",
              "                {&quot;extraClasses&quot;: &quot;fa-rotate-0&quot;, &quot;icon&quot;: &quot;user&quot;, &quot;iconColor&quot;: &quot;white&quot;, &quot;markerColor&quot;: &quot;red&quot;, &quot;prefix&quot;: &quot;fa&quot;}\n",
              "            );\n",
              "            marker_1cc9ba375d1305d8d852fae2a341eb72.setIcon(icon_15e7b4b2805d346bae2a88adf253f4f4);\n",
              "        \n",
              "    \n",
              "        var popup_4db9b669c782945d913e5b7c0554b583 = L.popup({&quot;maxWidth&quot;: &quot;100%&quot;});\n",
              "\n",
              "        \n",
              "            \n",
              "                var html_4aa363b330246553d4ef5bca18f8ae3d = $(`&lt;div id=&quot;html_4aa363b330246553d4ef5bca18f8ae3d&quot; style=&quot;width: 100.0%; height: 100.0%;&quot;&gt;Chennai&lt;/div&gt;`)[0];\n",
              "                popup_4db9b669c782945d913e5b7c0554b583.setContent(html_4aa363b330246553d4ef5bca18f8ae3d);\n",
              "            \n",
              "        \n",
              "\n",
              "        marker_1cc9ba375d1305d8d852fae2a341eb72.bindPopup(popup_4db9b669c782945d913e5b7c0554b583)\n",
              "        ;\n",
              "\n",
              "        \n",
              "    \n",
              "    \n",
              "            var marker_54dfaccc00a5e7042676b398cc8167f8 = L.marker(\n",
              "                [12.3051828, 76.6553609],\n",
              "                {}\n",
              "            ).addTo(map_29dd22cf4a6b8bbe54197d85b44d4f17);\n",
              "        \n",
              "    \n",
              "            var icon_584579d1b7f8f91698cfdc96d95bc852 = L.AwesomeMarkers.icon(\n",
              "                {&quot;extraClasses&quot;: &quot;fa-rotate-0&quot;, &quot;icon&quot;: &quot;user&quot;, &quot;iconColor&quot;: &quot;white&quot;, &quot;markerColor&quot;: &quot;red&quot;, &quot;prefix&quot;: &quot;fa&quot;}\n",
              "            );\n",
              "            marker_54dfaccc00a5e7042676b398cc8167f8.setIcon(icon_584579d1b7f8f91698cfdc96d95bc852);\n",
              "        \n",
              "    \n",
              "        var popup_ae0ede53b2036501dd66981ee8fbd2d2 = L.popup({&quot;maxWidth&quot;: &quot;100%&quot;});\n",
              "\n",
              "        \n",
              "            \n",
              "                var html_c764860a327f3dcb35f03480026aa4ae = $(`&lt;div id=&quot;html_c764860a327f3dcb35f03480026aa4ae&quot; style=&quot;width: 100.0%; height: 100.0%;&quot;&gt;Mysuru&lt;/div&gt;`)[0];\n",
              "                popup_ae0ede53b2036501dd66981ee8fbd2d2.setContent(html_c764860a327f3dcb35f03480026aa4ae);\n",
              "            \n",
              "        \n",
              "\n",
              "        marker_54dfaccc00a5e7042676b398cc8167f8.bindPopup(popup_ae0ede53b2036501dd66981ee8fbd2d2)\n",
              "        ;\n",
              "\n",
              "        \n",
              "    \n",
              "    \n",
              "            var marker_e67481bb10a3fa4ae3af23f9dfd7f4e2 = L.marker(\n",
              "                [28.9963296, 77.7061915],\n",
              "                {}\n",
              "            ).addTo(map_29dd22cf4a6b8bbe54197d85b44d4f17);\n",
              "        \n",
              "    \n",
              "            var icon_09d8a0165a5208dd040cb0361d7a702e = L.AwesomeMarkers.icon(\n",
              "                {&quot;extraClasses&quot;: &quot;fa-rotate-0&quot;, &quot;icon&quot;: &quot;user&quot;, &quot;iconColor&quot;: &quot;white&quot;, &quot;markerColor&quot;: &quot;red&quot;, &quot;prefix&quot;: &quot;fa&quot;}\n",
              "            );\n",
              "            marker_e67481bb10a3fa4ae3af23f9dfd7f4e2.setIcon(icon_09d8a0165a5208dd040cb0361d7a702e);\n",
              "        \n",
              "    \n",
              "        var popup_1e968a868eed73e867c0a8011a013927 = L.popup({&quot;maxWidth&quot;: &quot;100%&quot;});\n",
              "\n",
              "        \n",
              "            \n",
              "                var html_5bdd9141aaf49b49f3750800ff7a1ddb = $(`&lt;div id=&quot;html_5bdd9141aaf49b49f3750800ff7a1ddb&quot; style=&quot;width: 100.0%; height: 100.0%;&quot;&gt;Meerut&lt;/div&gt;`)[0];\n",
              "                popup_1e968a868eed73e867c0a8011a013927.setContent(html_5bdd9141aaf49b49f3750800ff7a1ddb);\n",
              "            \n",
              "        \n",
              "\n",
              "        marker_e67481bb10a3fa4ae3af23f9dfd7f4e2.bindPopup(popup_1e968a868eed73e867c0a8011a013927)\n",
              "        ;\n",
              "\n",
              "        \n",
              "    \n",
              "    \n",
              "            var marker_8bb5fa30b5ab764abd0406dcfd7352ed = L.marker(\n",
              "                [27.8761073, 78.13581531245276],\n",
              "                {}\n",
              "            ).addTo(map_29dd22cf4a6b8bbe54197d85b44d4f17);\n",
              "        \n",
              "    \n",
              "            var icon_efff686d33cf6547d34ad55ca4a6ab6f = L.AwesomeMarkers.icon(\n",
              "                {&quot;extraClasses&quot;: &quot;fa-rotate-0&quot;, &quot;icon&quot;: &quot;user&quot;, &quot;iconColor&quot;: &quot;white&quot;, &quot;markerColor&quot;: &quot;red&quot;, &quot;prefix&quot;: &quot;fa&quot;}\n",
              "            );\n",
              "            marker_8bb5fa30b5ab764abd0406dcfd7352ed.setIcon(icon_efff686d33cf6547d34ad55ca4a6ab6f);\n",
              "        \n",
              "    \n",
              "        var popup_203b8c2f79af7ea1130721f654c442e8 = L.popup({&quot;maxWidth&quot;: &quot;100%&quot;});\n",
              "\n",
              "        \n",
              "            \n",
              "                var html_ffe1b87a52817f86effc94b5b754edef = $(`&lt;div id=&quot;html_ffe1b87a52817f86effc94b5b754edef&quot; style=&quot;width: 100.0%; height: 100.0%;&quot;&gt;Aligarh&lt;/div&gt;`)[0];\n",
              "                popup_203b8c2f79af7ea1130721f654c442e8.setContent(html_ffe1b87a52817f86effc94b5b754edef);\n",
              "            \n",
              "        \n",
              "\n",
              "        marker_8bb5fa30b5ab764abd0406dcfd7352ed.bindPopup(popup_203b8c2f79af7ea1130721f654c442e8)\n",
              "        ;\n",
              "\n",
              "        \n",
              "    \n",
              "    \n",
              "            var marker_5d04457297e4af36f2723c47a6367c58 = L.marker(\n",
              "                [27.1752554, 78.0098161],\n",
              "                {}\n",
              "            ).addTo(map_29dd22cf4a6b8bbe54197d85b44d4f17);\n",
              "        \n",
              "    \n",
              "            var icon_0ad5f2832ea33a734650ca514be99d50 = L.AwesomeMarkers.icon(\n",
              "                {&quot;extraClasses&quot;: &quot;fa-rotate-0&quot;, &quot;icon&quot;: &quot;user&quot;, &quot;iconColor&quot;: &quot;white&quot;, &quot;markerColor&quot;: &quot;red&quot;, &quot;prefix&quot;: &quot;fa&quot;}\n",
              "            );\n",
              "            marker_5d04457297e4af36f2723c47a6367c58.setIcon(icon_0ad5f2832ea33a734650ca514be99d50);\n",
              "        \n",
              "    \n",
              "        var popup_22270ab8e693850861bf661b1249e303 = L.popup({&quot;maxWidth&quot;: &quot;100%&quot;});\n",
              "\n",
              "        \n",
              "            \n",
              "                var html_811bd353ae7056be2dc286698e1c06ab = $(`&lt;div id=&quot;html_811bd353ae7056be2dc286698e1c06ab&quot; style=&quot;width: 100.0%; height: 100.0%;&quot;&gt;Agra&lt;/div&gt;`)[0];\n",
              "                popup_22270ab8e693850861bf661b1249e303.setContent(html_811bd353ae7056be2dc286698e1c06ab);\n",
              "            \n",
              "        \n",
              "\n",
              "        marker_5d04457297e4af36f2723c47a6367c58.bindPopup(popup_22270ab8e693850861bf661b1249e303)\n",
              "        ;\n",
              "\n",
              "        \n",
              "    \n",
              "    \n",
              "            var marker_8c14de7cd9c6f770bfa7ecb82a670527 = L.marker(\n",
              "                [30.72984395, 76.78414567016054],\n",
              "                {}\n",
              "            ).addTo(map_29dd22cf4a6b8bbe54197d85b44d4f17);\n",
              "        \n",
              "    \n",
              "            var icon_6c14805f0023505650fe674ce327709d = L.AwesomeMarkers.icon(\n",
              "                {&quot;extraClasses&quot;: &quot;fa-rotate-0&quot;, &quot;icon&quot;: &quot;user&quot;, &quot;iconColor&quot;: &quot;white&quot;, &quot;markerColor&quot;: &quot;red&quot;, &quot;prefix&quot;: &quot;fa&quot;}\n",
              "            );\n",
              "            marker_8c14de7cd9c6f770bfa7ecb82a670527.setIcon(icon_6c14805f0023505650fe674ce327709d);\n",
              "        \n",
              "    \n",
              "        var popup_5085cc518d5cde0d8a0fa0b796518912 = L.popup({&quot;maxWidth&quot;: &quot;100%&quot;});\n",
              "\n",
              "        \n",
              "            \n",
              "                var html_ec9bc6becdbd17032a5dbd09d66e09c1 = $(`&lt;div id=&quot;html_ec9bc6becdbd17032a5dbd09d66e09c1&quot; style=&quot;width: 100.0%; height: 100.0%;&quot;&gt;Chandigarh&lt;/div&gt;`)[0];\n",
              "                popup_5085cc518d5cde0d8a0fa0b796518912.setContent(html_ec9bc6becdbd17032a5dbd09d66e09c1);\n",
              "            \n",
              "        \n",
              "\n",
              "        marker_8c14de7cd9c6f770bfa7ecb82a670527.bindPopup(popup_5085cc518d5cde0d8a0fa0b796518912)\n",
              "        ;\n",
              "\n",
              "        \n",
              "    \n",
              "    \n",
              "            var marker_2b12100aa97a912ad87d8b5b05f1f72a = L.marker(\n",
              "                [28.7931703, 76.1391283],\n",
              "                {}\n",
              "            ).addTo(map_29dd22cf4a6b8bbe54197d85b44d4f17);\n",
              "        \n",
              "    \n",
              "            var icon_035dd78f860611a06da5791353e4cf03 = L.AwesomeMarkers.icon(\n",
              "                {&quot;extraClasses&quot;: &quot;fa-rotate-0&quot;, &quot;icon&quot;: &quot;user&quot;, &quot;iconColor&quot;: &quot;white&quot;, &quot;markerColor&quot;: &quot;red&quot;, &quot;prefix&quot;: &quot;fa&quot;}\n",
              "            );\n",
              "            marker_2b12100aa97a912ad87d8b5b05f1f72a.setIcon(icon_035dd78f860611a06da5791353e4cf03);\n",
              "        \n",
              "    \n",
              "        var popup_7c2b35ce5092222604bc8d831a8b6d87 = L.popup({&quot;maxWidth&quot;: &quot;100%&quot;});\n",
              "\n",
              "        \n",
              "            \n",
              "                var html_d40542a34f6f9cc46d82f0f09af5b81d = $(`&lt;div id=&quot;html_d40542a34f6f9cc46d82f0f09af5b81d&quot; style=&quot;width: 100.0%; height: 100.0%;&quot;&gt;Bhiwani&lt;/div&gt;`)[0];\n",
              "                popup_7c2b35ce5092222604bc8d831a8b6d87.setContent(html_d40542a34f6f9cc46d82f0f09af5b81d);\n",
              "            \n",
              "        \n",
              "\n",
              "        marker_2b12100aa97a912ad87d8b5b05f1f72a.bindPopup(popup_7c2b35ce5092222604bc8d831a8b6d87)\n",
              "        ;\n",
              "\n",
              "        \n",
              "    \n",
              "    \n",
              "            var marker_491598484ef199a3fe9c81378cef91bf = L.marker(\n",
              "                [26.9154576, 75.8189817],\n",
              "                {}\n",
              "            ).addTo(map_29dd22cf4a6b8bbe54197d85b44d4f17);\n",
              "        \n",
              "    \n",
              "            var icon_4c17c651e26137c07c32092baec4b069 = L.AwesomeMarkers.icon(\n",
              "                {&quot;extraClasses&quot;: &quot;fa-rotate-0&quot;, &quot;icon&quot;: &quot;user&quot;, &quot;iconColor&quot;: &quot;white&quot;, &quot;markerColor&quot;: &quot;red&quot;, &quot;prefix&quot;: &quot;fa&quot;}\n",
              "            );\n",
              "            marker_491598484ef199a3fe9c81378cef91bf.setIcon(icon_4c17c651e26137c07c32092baec4b069);\n",
              "        \n",
              "    \n",
              "        var popup_d5fb3a634a39ebf11ee69fe0db68c2b0 = L.popup({&quot;maxWidth&quot;: &quot;100%&quot;});\n",
              "\n",
              "        \n",
              "            \n",
              "                var html_4fcfdb4aa2d0caf527b91d16dde56ab6 = $(`&lt;div id=&quot;html_4fcfdb4aa2d0caf527b91d16dde56ab6&quot; style=&quot;width: 100.0%; height: 100.0%;&quot;&gt;Jaipur&lt;/div&gt;`)[0];\n",
              "                popup_d5fb3a634a39ebf11ee69fe0db68c2b0.setContent(html_4fcfdb4aa2d0caf527b91d16dde56ab6);\n",
              "            \n",
              "        \n",
              "\n",
              "        marker_491598484ef199a3fe9c81378cef91bf.bindPopup(popup_d5fb3a634a39ebf11ee69fe0db68c2b0)\n",
              "        ;\n",
              "\n",
              "        \n",
              "    \n",
              "    \n",
              "            var marker_d85313b6ca1b37511011f9868440c0e5 = L.marker(\n",
              "                [26.4609135, 80.3217588],\n",
              "                {}\n",
              "            ).addTo(map_29dd22cf4a6b8bbe54197d85b44d4f17);\n",
              "        \n",
              "    \n",
              "            var icon_118e138ae0077b73183dac27848f6650 = L.AwesomeMarkers.icon(\n",
              "                {&quot;extraClasses&quot;: &quot;fa-rotate-0&quot;, &quot;icon&quot;: &quot;user&quot;, &quot;iconColor&quot;: &quot;white&quot;, &quot;markerColor&quot;: &quot;red&quot;, &quot;prefix&quot;: &quot;fa&quot;}\n",
              "            );\n",
              "            marker_d85313b6ca1b37511011f9868440c0e5.setIcon(icon_118e138ae0077b73183dac27848f6650);\n",
              "        \n",
              "    \n",
              "        var popup_f2f5e0ee26512a19fa4a98d8b0b4e7df = L.popup({&quot;maxWidth&quot;: &quot;100%&quot;});\n",
              "\n",
              "        \n",
              "            \n",
              "                var html_a36904b85dc17cf1394f0eb7fb8962ca = $(`&lt;div id=&quot;html_a36904b85dc17cf1394f0eb7fb8962ca&quot; style=&quot;width: 100.0%; height: 100.0%;&quot;&gt;Kanpur&lt;/div&gt;`)[0];\n",
              "                popup_f2f5e0ee26512a19fa4a98d8b0b4e7df.setContent(html_a36904b85dc17cf1394f0eb7fb8962ca);\n",
              "            \n",
              "        \n",
              "\n",
              "        marker_d85313b6ca1b37511011f9868440c0e5.bindPopup(popup_f2f5e0ee26512a19fa4a98d8b0b4e7df)\n",
              "        ;\n",
              "\n",
              "        \n",
              "    \n",
              "    \n",
              "            var marker_dbc568477dfe0a28f62107a6aefb5f6c = L.marker(\n",
              "                [28.6138954, 77.2090057],\n",
              "                {}\n",
              "            ).addTo(map_29dd22cf4a6b8bbe54197d85b44d4f17);\n",
              "        \n",
              "    \n",
              "            var icon_bda4f3e24ae7d40c9f39cb535a179aa2 = L.AwesomeMarkers.icon(\n",
              "                {&quot;extraClasses&quot;: &quot;fa-rotate-0&quot;, &quot;icon&quot;: &quot;warehouse&quot;, &quot;iconColor&quot;: &quot;white&quot;, &quot;markerColor&quot;: &quot;black&quot;, &quot;prefix&quot;: &quot;fa&quot;}\n",
              "            );\n",
              "            marker_dbc568477dfe0a28f62107a6aefb5f6c.setIcon(icon_bda4f3e24ae7d40c9f39cb535a179aa2);\n",
              "        \n",
              "    \n",
              "        var popup_0f1cebe36584e34ca70d3b51f92e0259 = L.popup({&quot;maxWidth&quot;: &quot;100%&quot;});\n",
              "\n",
              "        \n",
              "            \n",
              "                var html_9ca8169c01a353ef61d9e0f6276858ea = $(`&lt;div id=&quot;html_9ca8169c01a353ef61d9e0f6276858ea&quot; style=&quot;width: 100.0%; height: 100.0%;&quot;&gt;New Delhi&lt;/div&gt;`)[0];\n",
              "                popup_0f1cebe36584e34ca70d3b51f92e0259.setContent(html_9ca8169c01a353ef61d9e0f6276858ea);\n",
              "            \n",
              "        \n",
              "\n",
              "        marker_dbc568477dfe0a28f62107a6aefb5f6c.bindPopup(popup_0f1cebe36584e34ca70d3b51f92e0259)\n",
              "        ;\n",
              "\n",
              "        \n",
              "    \n",
              "    \n",
              "            var marker_46cd3ca76f05f08db1570feed3774021 = L.marker(\n",
              "                [11.0018115, 76.9628425],\n",
              "                {}\n",
              "            ).addTo(map_29dd22cf4a6b8bbe54197d85b44d4f17);\n",
              "        \n",
              "    \n",
              "            var icon_d9d8ad578e038e8b047280c5141ad328 = L.AwesomeMarkers.icon(\n",
              "                {&quot;extraClasses&quot;: &quot;fa-rotate-0&quot;, &quot;icon&quot;: &quot;warehouse&quot;, &quot;iconColor&quot;: &quot;white&quot;, &quot;markerColor&quot;: &quot;black&quot;, &quot;prefix&quot;: &quot;fa&quot;}\n",
              "            );\n",
              "            marker_46cd3ca76f05f08db1570feed3774021.setIcon(icon_d9d8ad578e038e8b047280c5141ad328);\n",
              "        \n",
              "    \n",
              "        var popup_6858d4105f5e052e41dfcdbbbcca45b5 = L.popup({&quot;maxWidth&quot;: &quot;100%&quot;});\n",
              "\n",
              "        \n",
              "            \n",
              "                var html_5d96c93817c0277e036246ee5b04e9c3 = $(`&lt;div id=&quot;html_5d96c93817c0277e036246ee5b04e9c3&quot; style=&quot;width: 100.0%; height: 100.0%;&quot;&gt;Coimbatore&lt;/div&gt;`)[0];\n",
              "                popup_6858d4105f5e052e41dfcdbbbcca45b5.setContent(html_5d96c93817c0277e036246ee5b04e9c3);\n",
              "            \n",
              "        \n",
              "\n",
              "        marker_46cd3ca76f05f08db1570feed3774021.bindPopup(popup_6858d4105f5e052e41dfcdbbbcca45b5)\n",
              "        ;\n",
              "\n",
              "        \n",
              "    \n",
              "    \n",
              "            var poly_line_568a8d2449435230df4c958f4cd9f7a3 = L.polyline(\n",
              "                [[18.945030600000003, 72.94942299008869], [28.6138954, 77.2090057]],\n",
              "                {&quot;bubblingMouseEvents&quot;: true, &quot;color&quot;: &quot;darkgreen&quot;, &quot;dashArray&quot;: null, &quot;dashOffset&quot;: null, &quot;fill&quot;: false, &quot;fillColor&quot;: &quot;darkgreen&quot;, &quot;fillOpacity&quot;: 0.2, &quot;fillRule&quot;: &quot;evenodd&quot;, &quot;lineCap&quot;: &quot;round&quot;, &quot;lineJoin&quot;: &quot;round&quot;, &quot;noClip&quot;: false, &quot;opacity&quot;: 1.0, &quot;smoothFactor&quot;: 1.0, &quot;stroke&quot;: true, &quot;weight&quot;: 3}\n",
              "            ).addTo(map_29dd22cf4a6b8bbe54197d85b44d4f17);\n",
              "        \n",
              "    \n",
              "            var poly_line_1fe9a05228366517b3a3558ec7478850 = L.polyline(\n",
              "                [[18.945030600000003, 72.94942299008869], [11.0018115, 76.9628425]],\n",
              "                {&quot;bubblingMouseEvents&quot;: true, &quot;color&quot;: &quot;darkgreen&quot;, &quot;dashArray&quot;: null, &quot;dashOffset&quot;: null, &quot;fill&quot;: false, &quot;fillColor&quot;: &quot;darkgreen&quot;, &quot;fillOpacity&quot;: 0.2, &quot;fillRule&quot;: &quot;evenodd&quot;, &quot;lineCap&quot;: &quot;round&quot;, &quot;lineJoin&quot;: &quot;round&quot;, &quot;noClip&quot;: false, &quot;opacity&quot;: 1.0, &quot;smoothFactor&quot;: 1.0, &quot;stroke&quot;: true, &quot;weight&quot;: 3}\n",
              "            ).addTo(map_29dd22cf4a6b8bbe54197d85b44d4f17);\n",
              "        \n",
              "    \n",
              "            var poly_line_11bf61e93557bb67aeeb67cd5ba0b4c5 = L.polyline(\n",
              "                [[28.6138954, 77.2090057], [28.9963296, 77.7061915]],\n",
              "                {&quot;bubblingMouseEvents&quot;: true, &quot;color&quot;: &quot;orange&quot;, &quot;dashArray&quot;: null, &quot;dashOffset&quot;: null, &quot;fill&quot;: false, &quot;fillColor&quot;: &quot;orange&quot;, &quot;fillOpacity&quot;: 0.2, &quot;fillRule&quot;: &quot;evenodd&quot;, &quot;lineCap&quot;: &quot;round&quot;, &quot;lineJoin&quot;: &quot;round&quot;, &quot;noClip&quot;: false, &quot;opacity&quot;: 1.0, &quot;smoothFactor&quot;: 1.0, &quot;stroke&quot;: true, &quot;weight&quot;: 3}\n",
              "            ).addTo(map_29dd22cf4a6b8bbe54197d85b44d4f17);\n",
              "        \n",
              "    \n",
              "            var poly_line_53bf79706e7c405afcee14b8bb930f82 = L.polyline(\n",
              "                [[28.6138954, 77.2090057], [27.8761073, 78.13581531245276]],\n",
              "                {&quot;bubblingMouseEvents&quot;: true, &quot;color&quot;: &quot;orange&quot;, &quot;dashArray&quot;: null, &quot;dashOffset&quot;: null, &quot;fill&quot;: false, &quot;fillColor&quot;: &quot;orange&quot;, &quot;fillOpacity&quot;: 0.2, &quot;fillRule&quot;: &quot;evenodd&quot;, &quot;lineCap&quot;: &quot;round&quot;, &quot;lineJoin&quot;: &quot;round&quot;, &quot;noClip&quot;: false, &quot;opacity&quot;: 1.0, &quot;smoothFactor&quot;: 1.0, &quot;stroke&quot;: true, &quot;weight&quot;: 3}\n",
              "            ).addTo(map_29dd22cf4a6b8bbe54197d85b44d4f17);\n",
              "        \n",
              "    \n",
              "            var poly_line_8b9a5c4ce063360036f108a7880679e8 = L.polyline(\n",
              "                [[28.6138954, 77.2090057], [27.1752554, 78.0098161]],\n",
              "                {&quot;bubblingMouseEvents&quot;: true, &quot;color&quot;: &quot;orange&quot;, &quot;dashArray&quot;: null, &quot;dashOffset&quot;: null, &quot;fill&quot;: false, &quot;fillColor&quot;: &quot;orange&quot;, &quot;fillOpacity&quot;: 0.2, &quot;fillRule&quot;: &quot;evenodd&quot;, &quot;lineCap&quot;: &quot;round&quot;, &quot;lineJoin&quot;: &quot;round&quot;, &quot;noClip&quot;: false, &quot;opacity&quot;: 1.0, &quot;smoothFactor&quot;: 1.0, &quot;stroke&quot;: true, &quot;weight&quot;: 3}\n",
              "            ).addTo(map_29dd22cf4a6b8bbe54197d85b44d4f17);\n",
              "        \n",
              "    \n",
              "            var poly_line_75f9b62802bae3e306b44e0e5a6792a7 = L.polyline(\n",
              "                [[28.6138954, 77.2090057], [30.72984395, 76.78414567016054]],\n",
              "                {&quot;bubblingMouseEvents&quot;: true, &quot;color&quot;: &quot;orange&quot;, &quot;dashArray&quot;: null, &quot;dashOffset&quot;: null, &quot;fill&quot;: false, &quot;fillColor&quot;: &quot;orange&quot;, &quot;fillOpacity&quot;: 0.2, &quot;fillRule&quot;: &quot;evenodd&quot;, &quot;lineCap&quot;: &quot;round&quot;, &quot;lineJoin&quot;: &quot;round&quot;, &quot;noClip&quot;: false, &quot;opacity&quot;: 1.0, &quot;smoothFactor&quot;: 1.0, &quot;stroke&quot;: true, &quot;weight&quot;: 3}\n",
              "            ).addTo(map_29dd22cf4a6b8bbe54197d85b44d4f17);\n",
              "        \n",
              "    \n",
              "            var poly_line_d22b2a341d707629ca4038e4b4649cfc = L.polyline(\n",
              "                [[28.6138954, 77.2090057], [28.7931703, 76.1391283]],\n",
              "                {&quot;bubblingMouseEvents&quot;: true, &quot;color&quot;: &quot;orange&quot;, &quot;dashArray&quot;: null, &quot;dashOffset&quot;: null, &quot;fill&quot;: false, &quot;fillColor&quot;: &quot;orange&quot;, &quot;fillOpacity&quot;: 0.2, &quot;fillRule&quot;: &quot;evenodd&quot;, &quot;lineCap&quot;: &quot;round&quot;, &quot;lineJoin&quot;: &quot;round&quot;, &quot;noClip&quot;: false, &quot;opacity&quot;: 1.0, &quot;smoothFactor&quot;: 1.0, &quot;stroke&quot;: true, &quot;weight&quot;: 3}\n",
              "            ).addTo(map_29dd22cf4a6b8bbe54197d85b44d4f17);\n",
              "        \n",
              "    \n",
              "            var poly_line_50ccfd400317a18713d1d45cb90bc2d1 = L.polyline(\n",
              "                [[28.6138954, 77.2090057], [26.9154576, 75.8189817]],\n",
              "                {&quot;bubblingMouseEvents&quot;: true, &quot;color&quot;: &quot;orange&quot;, &quot;dashArray&quot;: null, &quot;dashOffset&quot;: null, &quot;fill&quot;: false, &quot;fillColor&quot;: &quot;orange&quot;, &quot;fillOpacity&quot;: 0.2, &quot;fillRule&quot;: &quot;evenodd&quot;, &quot;lineCap&quot;: &quot;round&quot;, &quot;lineJoin&quot;: &quot;round&quot;, &quot;noClip&quot;: false, &quot;opacity&quot;: 1.0, &quot;smoothFactor&quot;: 1.0, &quot;stroke&quot;: true, &quot;weight&quot;: 3}\n",
              "            ).addTo(map_29dd22cf4a6b8bbe54197d85b44d4f17);\n",
              "        \n",
              "    \n",
              "            var poly_line_824e5e3b35e134c897afc218efc234b6 = L.polyline(\n",
              "                [[28.6138954, 77.2090057], [26.4609135, 80.3217588]],\n",
              "                {&quot;bubblingMouseEvents&quot;: true, &quot;color&quot;: &quot;orange&quot;, &quot;dashArray&quot;: null, &quot;dashOffset&quot;: null, &quot;fill&quot;: false, &quot;fillColor&quot;: &quot;orange&quot;, &quot;fillOpacity&quot;: 0.2, &quot;fillRule&quot;: &quot;evenodd&quot;, &quot;lineCap&quot;: &quot;round&quot;, &quot;lineJoin&quot;: &quot;round&quot;, &quot;noClip&quot;: false, &quot;opacity&quot;: 1.0, &quot;smoothFactor&quot;: 1.0, &quot;stroke&quot;: true, &quot;weight&quot;: 3}\n",
              "            ).addTo(map_29dd22cf4a6b8bbe54197d85b44d4f17);\n",
              "        \n",
              "    \n",
              "            var poly_line_0c21fd8e41f2d9b517054782a7eb0966 = L.polyline(\n",
              "                [[11.0018115, 76.9628425], [12.9767936, 77.590082]],\n",
              "                {&quot;bubblingMouseEvents&quot;: true, &quot;color&quot;: &quot;orange&quot;, &quot;dashArray&quot;: null, &quot;dashOffset&quot;: null, &quot;fill&quot;: false, &quot;fillColor&quot;: &quot;orange&quot;, &quot;fillOpacity&quot;: 0.2, &quot;fillRule&quot;: &quot;evenodd&quot;, &quot;lineCap&quot;: &quot;round&quot;, &quot;lineJoin&quot;: &quot;round&quot;, &quot;noClip&quot;: false, &quot;opacity&quot;: 1.0, &quot;smoothFactor&quot;: 1.0, &quot;stroke&quot;: true, &quot;weight&quot;: 3}\n",
              "            ).addTo(map_29dd22cf4a6b8bbe54197d85b44d4f17);\n",
              "        \n",
              "    \n",
              "            var poly_line_36803fa7ba92285d15d4da49758f18d5 = L.polyline(\n",
              "                [[11.0018115, 76.9628425], [9.9261153, 78.1140983]],\n",
              "                {&quot;bubblingMouseEvents&quot;: true, &quot;color&quot;: &quot;orange&quot;, &quot;dashArray&quot;: null, &quot;dashOffset&quot;: null, &quot;fill&quot;: false, &quot;fillColor&quot;: &quot;orange&quot;, &quot;fillOpacity&quot;: 0.2, &quot;fillRule&quot;: &quot;evenodd&quot;, &quot;lineCap&quot;: &quot;round&quot;, &quot;lineJoin&quot;: &quot;round&quot;, &quot;noClip&quot;: false, &quot;opacity&quot;: 1.0, &quot;smoothFactor&quot;: 1.0, &quot;stroke&quot;: true, &quot;weight&quot;: 3}\n",
              "            ).addTo(map_29dd22cf4a6b8bbe54197d85b44d4f17);\n",
              "        \n",
              "    \n",
              "            var poly_line_65e011e65889881c068b363015b3239c = L.polyline(\n",
              "                [[11.0018115, 76.9628425], [9.9674277, 76.2454436]],\n",
              "                {&quot;bubblingMouseEvents&quot;: true, &quot;color&quot;: &quot;orange&quot;, &quot;dashArray&quot;: null, &quot;dashOffset&quot;: null, &quot;fill&quot;: false, &quot;fillColor&quot;: &quot;orange&quot;, &quot;fillOpacity&quot;: 0.2, &quot;fillRule&quot;: &quot;evenodd&quot;, &quot;lineCap&quot;: &quot;round&quot;, &quot;lineJoin&quot;: &quot;round&quot;, &quot;noClip&quot;: false, &quot;opacity&quot;: 1.0, &quot;smoothFactor&quot;: 1.0, &quot;stroke&quot;: true, &quot;weight&quot;: 3}\n",
              "            ).addTo(map_29dd22cf4a6b8bbe54197d85b44d4f17);\n",
              "        \n",
              "    \n",
              "            var poly_line_6b630376fa257ec25942b3f0a4c08df0 = L.polyline(\n",
              "                [[11.0018115, 76.9628425], [13.0836939, 80.270186]],\n",
              "                {&quot;bubblingMouseEvents&quot;: true, &quot;color&quot;: &quot;orange&quot;, &quot;dashArray&quot;: null, &quot;dashOffset&quot;: null, &quot;fill&quot;: false, &quot;fillColor&quot;: &quot;orange&quot;, &quot;fillOpacity&quot;: 0.2, &quot;fillRule&quot;: &quot;evenodd&quot;, &quot;lineCap&quot;: &quot;round&quot;, &quot;lineJoin&quot;: &quot;round&quot;, &quot;noClip&quot;: false, &quot;opacity&quot;: 1.0, &quot;smoothFactor&quot;: 1.0, &quot;stroke&quot;: true, &quot;weight&quot;: 3}\n",
              "            ).addTo(map_29dd22cf4a6b8bbe54197d85b44d4f17);\n",
              "        \n",
              "    \n",
              "            var poly_line_fcae0d8dffc82ee191d6b8a6dee6fbd0 = L.polyline(\n",
              "                [[11.0018115, 76.9628425], [12.3051828, 76.6553609]],\n",
              "                {&quot;bubblingMouseEvents&quot;: true, &quot;color&quot;: &quot;orange&quot;, &quot;dashArray&quot;: null, &quot;dashOffset&quot;: null, &quot;fill&quot;: false, &quot;fillColor&quot;: &quot;orange&quot;, &quot;fillOpacity&quot;: 0.2, &quot;fillRule&quot;: &quot;evenodd&quot;, &quot;lineCap&quot;: &quot;round&quot;, &quot;lineJoin&quot;: &quot;round&quot;, &quot;noClip&quot;: false, &quot;opacity&quot;: 1.0, &quot;smoothFactor&quot;: 1.0, &quot;stroke&quot;: true, &quot;weight&quot;: 3}\n",
              "            ).addTo(map_29dd22cf4a6b8bbe54197d85b44d4f17);\n",
              "        \n",
              "&lt;/script&gt;\n",
              "&lt;/html&gt;\" style=\"position:absolute;width:100%;height:100%;left:0;top:0;border:none !important;\" allowfullscreen webkitallowfullscreen mozallowfullscreen></iframe></div></div>"
            ]
          },
          "metadata": {},
          "execution_count": 529
        }
      ]
    },
    {
      "cell_type": "code",
      "source": [],
      "metadata": {
        "id": "fj1pjPfv2EsD"
      },
      "execution_count": 529,
      "outputs": []
    }
  ]
}